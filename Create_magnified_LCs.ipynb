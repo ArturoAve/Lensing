{
 "cells": [
  {
   "cell_type": "markdown",
   "metadata": {},
   "source": [
    "# Converting Rosanne's magnification files to magnified light curves and with the PLASTICC/SNANA format"
   ]
  },
  {
   "cell_type": "markdown",
   "metadata": {},
   "source": [
    "### USER"
   ]
  },
  {
   "cell_type": "code",
   "execution_count": 1,
   "metadata": {},
   "outputs": [],
   "source": [
    "DirLensFiles = \"/Users/arturo/Dropbox/Research/Articulos/14_PLASTICC/MockData/\\\n",
    "Samples/2018_01_30/\"\n",
    "\n",
    "DirSaveOutput = DirData\n",
    "\n",
    "# -------------------------------\n",
    "# Given that javascript doesn't work in JupyterLab, I have to set the \n",
    "# name of the notebook by hand\n",
    "NotebookName = 'Create_magnified_LCs.ipynb'"
   ]
  },
  {
   "cell_type": "code",
   "execution_count": null,
   "metadata": {},
   "outputs": [],
   "source": []
  },
  {
   "cell_type": "markdown",
   "metadata": {},
   "source": [
    "### Automatic"
   ]
  },
  {
   "cell_type": "code",
   "execution_count": 2,
   "metadata": {},
   "outputs": [
    {
     "data": {
      "text/plain": [
       "11"
      ]
     },
     "execution_count": 2,
     "metadata": {},
     "output_type": "execute_result"
    }
   ],
   "source": [
    "import numpy as np\n",
    "import os # To use command line like instructions\n",
    "import glob # To read the files in my directory\n",
    "from matplotlib import pyplot as plt\n",
    "\n",
    "5+6"
   ]
  },
  {
   "cell_type": "code",
   "execution_count": null,
   "metadata": {},
   "outputs": [],
   "source": []
  },
  {
   "cell_type": "markdown",
   "metadata": {},
   "source": [
    "#### Get the name of this ipython notebook\n",
    "To print it in the output text files as reference."
   ]
  },
  {
   "cell_type": "code",
   "execution_count": 3,
   "metadata": {},
   "outputs": [
    {
     "data": {
      "application/javascript": [
       "var kernel = IPython.notebook.kernel;\n",
       "var thename = window.document.getElementById(\"notebook_name\").innerHTML;\n",
       "var command = \"NotebookName = \" + \"'\"+thename+\".ipynb\"+\"'\";\n",
       "kernel.execute(command);"
      ],
      "text/plain": [
       "<IPython.core.display.Javascript object>"
      ]
     },
     "metadata": {},
     "output_type": "display_data"
    }
   ],
   "source": [
    "%%javascript\n",
    "var kernel = IPython.notebook.kernel;\n",
    "var thename = window.document.getElementById(\"notebook_name\").innerHTML;\n",
    "var command = \"NotebookName = \" + \"'\"+thename+\".ipynb\"+\"'\";\n",
    "kernel.execute(command);"
   ]
  },
  {
   "cell_type": "code",
   "execution_count": 4,
   "metadata": {},
   "outputs": [
    {
     "name": "stdout",
     "output_type": "stream",
     "text": [
      "Create_magnified_LCs_v1_2.ipynb\n"
     ]
    }
   ],
   "source": [
    "print(NotebookName)\n",
    "\n",
    "# Given that javascript doesn't work in JupyterLab, I have to set the \n",
    "# name of the notebook by hand"
   ]
  },
  {
   "cell_type": "code",
   "execution_count": 5,
   "metadata": {},
   "outputs": [],
   "source": [
    "# Get the current date and time\n",
    "import datetime \n",
    "\n",
    "# Read the time and date now\n",
    "now = datetime.datetime.now()"
   ]
  },
  {
   "cell_type": "code",
   "execution_count": null,
   "metadata": {},
   "outputs": [],
   "source": []
  },
  {
   "cell_type": "code",
   "execution_count": 6,
   "metadata": {
    "collapsed": false
   },
   "outputs": [
    {
     "name": "stdout",
     "output_type": "stream",
     "text": [
      "# Test:\n",
      "# 18.633362217176515\n"
     ]
    }
   ],
   "source": [
    "# Function to convert from magnification to apparent magnitude\n",
    "\n",
    "def Magnification2mag(Magf, mo):\n",
    "    mag_int = mo - 2.5*np.log10(Magf)\n",
    "    return mag_int\n",
    "\n",
    "print '# Test:'\n",
    "print \"#\", Magnification2mag(2.14118954, 19.46)\n",
    "\n",
    "# Test\n",
    "# 18.6333622172\n",
    "# 18.633362217176515"
   ]
  },
  {
   "cell_type": "code",
   "execution_count": 7,
   "metadata": {
    "collapsed": false
   },
   "outputs": [
    {
     "name": "stdout",
     "output_type": "stream",
     "text": [
      "# 35 stars data found in the file\n"
     ]
    }
   ],
   "source": [
    "# Read the LSST star catalogue file with the magnitudes in ugrizY bands\n",
    "\n",
    "starsdata = np.genfromtxt(DirData+'lsst_star_table_sample.txt',\n",
    "                dtype=[float,float,float,float,float,\n",
    "                       float,float,float]) \n",
    "\n",
    "print \"# %s stars data found in the file\"%len(starsdata)\n",
    "# 35 stars data found in the file"
   ]
  },
  {
   "cell_type": "code",
   "execution_count": 8,
   "metadata": {
    "collapsed": false
   },
   "outputs": [
    {
     "data": {
      "text/plain": [
       "array([16.21739, 18.41886, 27.47009, 19.72312, 30.9791 , 26.53289,\n",
       "       31.61692, 18.70061, 18.97976, 19.42187, 24.40802, 19.36606,\n",
       "       17.46127, 29.19847, 30.27772, 23.00819, 24.09528, 21.57186,\n",
       "       14.83046, 27.84922, 27.55117, 23.27528, 24.47566, 23.22603,\n",
       "       27.1417 , 27.52953, 25.5453 , 27.31056, 26.48858, 24.22798,\n",
       "       25.92916, 27.09815, 23.15348, 25.65296, 27.26104])"
      ]
     },
     "execution_count": 8,
     "metadata": {},
     "output_type": "execute_result"
    }
   ],
   "source": [
    "starsdata['f2']"
   ]
  },
  {
   "cell_type": "code",
   "execution_count": 9,
   "metadata": {},
   "outputs": [
    {
     "data": {
      "text/plain": [
       "'\\narray([ 16.21739,  18.41886,  27.47009,  19.72312,  30.9791 ,  26.53289,\\n        31.61692,  18.70061,  18.97976,  19.42187,  24.40802,  19.36606,\\n        17.46127,  29.19847,  30.27772,  23.00819,  24.09528,  21.57186,\\n        14.83046,  27.84922,  27.55117,  23.27528,  24.47566,  23.22603,\\n        27.1417 ,  27.52953,  25.5453 ,  27.31056,  26.48858,  24.22798,\\n        25.92916,  27.09815,  23.15348,  25.65296,  27.26104])\\n'"
      ]
     },
     "execution_count": 9,
     "metadata": {},
     "output_type": "execute_result"
    }
   ],
   "source": [
    "\"\"\"\n",
    "array([ 16.21739,  18.41886,  27.47009,  19.72312,  30.9791 ,  26.53289,\n",
    "        31.61692,  18.70061,  18.97976,  19.42187,  24.40802,  19.36606,\n",
    "        17.46127,  29.19847,  30.27772,  23.00819,  24.09528,  21.57186,\n",
    "        14.83046,  27.84922,  27.55117,  23.27528,  24.47566,  23.22603,\n",
    "        27.1417 ,  27.52953,  25.5453 ,  27.31056,  26.48858,  24.22798,\n",
    "        25.92916,  27.09815,  23.15348,  25.65296,  27.26104])\n",
    "\"\"\""
   ]
  },
  {
   "cell_type": "code",
   "execution_count": null,
   "metadata": {},
   "outputs": [],
   "source": []
  },
  {
   "cell_type": "code",
   "execution_count": 10,
   "metadata": {
    "collapsed": false
   },
   "outputs": [
    {
     "name": "stdout",
     "output_type": "stream",
     "text": [
      "# 35 fort files found.\n"
     ]
    }
   ],
   "source": [
    "import os # To use command line like instructions\n",
    "import glob # To read the files in my directory\n",
    "\n",
    "# Change the working directory where the data files are located\n",
    "os.chdir(DirData+'1_Magnification/')\n",
    "\n",
    "# Read the name of the fort (= magnitification) files\n",
    "list_forts = glob.glob('fort*')\n",
    "\n",
    "print \"# %s fort files found.\"%len(list_forts)\n",
    "# 4 fort files found.\n",
    "\n",
    "#------------------------------\n",
    "\n",
    "#- Force the creation of the directory to save the plots.\n",
    "#- \"If the subdirectory does not exist then create it\"\n",
    "import os # To use command line like instructions\n",
    "if not os.path.exists(DirSaveOutput+\"2_plots\"): os.makedirs(DirSaveOutput+\"2_plots\")"
   ]
  },
  {
   "cell_type": "code",
   "execution_count": 11,
   "metadata": {},
   "outputs": [
    {
     "data": {
      "text/plain": [
       "['fort.21.txt',\n",
       " 'fort.22.txt',\n",
       " 'fort.23.txt',\n",
       " 'fort.24.txt',\n",
       " 'fort.25.txt',\n",
       " 'fort.26.txt',\n",
       " 'fort.27.txt',\n",
       " 'fort.28.txt',\n",
       " 'fort.29.txt',\n",
       " 'fort.30.txt',\n",
       " 'fort.31.txt',\n",
       " 'fort.32.txt',\n",
       " 'fort.33.txt',\n",
       " 'fort.34.txt',\n",
       " 'fort.35.txt',\n",
       " 'fort.36.txt',\n",
       " 'fort.37.txt',\n",
       " 'fort.38.txt',\n",
       " 'fort.39.txt',\n",
       " 'fort.40.txt',\n",
       " 'fort.41.txt',\n",
       " 'fort.42.txt',\n",
       " 'fort.43.txt',\n",
       " 'fort.44.txt',\n",
       " 'fort.45.txt',\n",
       " 'fort.46.txt',\n",
       " 'fort.47.txt',\n",
       " 'fort.48.txt',\n",
       " 'fort.49.txt',\n",
       " 'fort.50.txt',\n",
       " 'fort.51.txt',\n",
       " 'fort.52.txt',\n",
       " 'fort.53.txt',\n",
       " 'fort.54.txt',\n",
       " 'fort.55.txt']"
      ]
     },
     "execution_count": 11,
     "metadata": {},
     "output_type": "execute_result"
    }
   ],
   "source": [
    "list_forts"
   ]
  },
  {
   "cell_type": "code",
   "execution_count": 12,
   "metadata": {
    "collapsed": false
   },
   "outputs": [
    {
     "name": "stdout",
     "output_type": "stream",
     "text": [
      "# 35 value sets were found in this file.\n"
     ]
    }
   ],
   "source": [
    "# Reading the parameter values used to create every \"fort\" file\n",
    "# these values are just to keep in the record and write down on \n",
    "# the Plasticc/SNANA output file.\n",
    "\n",
    "ParsModel=np.genfromtxt(DirData+'1_Magnification/parameters_Binary_lens.txt')\n",
    "print \"# %s value sets were found in this file.\"%len(ParsModel)"
   ]
  },
  {
   "cell_type": "code",
   "execution_count": null,
   "metadata": {
    "collapsed": true
   },
   "outputs": [],
   "source": []
  },
  {
   "cell_type": "markdown",
   "metadata": {},
   "source": [
    "### Main loop. v 1.2"
   ]
  },
  {
   "cell_type": "code",
   "execution_count": 13,
   "metadata": {
    "collapsed": false
   },
   "outputs": [
    {
     "name": "stdout",
     "output_type": "stream",
     "text": [
      "# Number of useful rows written in the text file for given star,\n",
      "# it is, when there is a change in magnitude at least > 0.001 mag.\n",
      "1: 922, 922 countNROW\n",
      "2: 748, 748 countNROW\n",
      "3: 1071, 1071 countNROW\n",
      "4: 3889, 3889 countNROW\n",
      "5: 672, 672 countNROW\n",
      "6: 3879, 3879 countNROW\n",
      "7: 731, 731 countNROW\n",
      "8: 1633, 1633 countNROW\n",
      "9: 1666, 1666 countNROW\n",
      "10: 734, 734 countNROW\n",
      "11: 11644, 11644 countNROW\n",
      "13: 5034, 5034 countNROW\n",
      "14: 1390, 1390 countNROW\n",
      "15: 2095, 2095 countNROW\n",
      "16: 1013, 1013 countNROW\n",
      "17: 381, 381 countNROW\n",
      "19: 1600, 1600 countNROW\n",
      "20: 559, 559 countNROW\n",
      "21: 880, 880 countNROW\n",
      "22: 2294, 2294 countNROW\n",
      "23: 444, 444 countNROW\n",
      "24: 2078, 2078 countNROW\n",
      "25: 6762, 6762 countNROW\n",
      "26: 1387, 1387 countNROW\n",
      "27: 2035, 2035 countNROW\n",
      "28: 1610, 1610 countNROW\n",
      "29: 1857, 1857 countNROW\n",
      "30: 3541, 3541 countNROW\n",
      "31: 1174, 1174 countNROW\n",
      "32: 2274, 2274 countNROW\n",
      "33: 1048, 1048 countNROW\n",
      "34: 231, 231 countNROW\n"
     ]
    }
   ],
   "source": [
    "# Difference in u magnitude as a criterium to write down \n",
    "# that row in the text file. This is helpful to avoid writting a lot of\n",
    "# rows with exactly the same values of the magnitudes in ugrizY bands.\n",
    "diffmag_fix = 0.001\n",
    "\n",
    "# Maximum porcentage of time of a LC with magnitude larger\n",
    "# than 16 mags\n",
    "Porcentage_maxTime = 20.  \n",
    "\n",
    "# Magnitude threshold\n",
    "maxMag = 16. # mag\n",
    "\n",
    "#------------------------------------------\n",
    "\n",
    "textfile_1 = open(DirSaveOutput+'2_Lensing_lc_SNANA_format_.txt', 'w')\n",
    "\n",
    "now = datetime.datetime.now() # Read the time and date right now\n",
    "text_timenow = now.strftime(\"%Y/%m/%d, %H:%M hrs.\")\n",
    "text_Date   = 'COMMENT: File created by Arturo Avelino on %s \\n'%text_timenow\n",
    "text_line = '#'+'-'*50 + '\\n'\n",
    "    \n",
    "textfile_1.write(\"SURVEY: LSST \\n\")\n",
    "textfile_1.write(\"FILTERS: ugrizY \\n\")\n",
    "textfile_1.write(\"MODEL: Microlensing by Rosanne Di Stefano \\n\")\n",
    "textfile_1.write(\"MODEL_PARNAMES: apeak,m1,m2,alpha,d_l,v,i_p,omega,clock,\\\n",
    "beta,nom,porb,tau \\n\")\n",
    "textfile_1.write(text_Date)\n",
    "# textfile_1.write()\n",
    "\n",
    "countEvent = 0\n",
    "\n",
    "print \"# Number of useful rows written in the text file for given star,\"\n",
    "print \"# it is, when there is a change in magnitude at least > %s mag.\"%diffmag_fix\n",
    "\n",
    "for j in range(len(list_forts)): # Loop over the stars\n",
    "# for j in range(4): # Loop over the stars # tmp  \n",
    "    \n",
    "    ra  = starsdata['f0'][j]\n",
    "    dec = starsdata['f1'][j]\n",
    "    \n",
    "    # Apparent magnitude star in different bands:\n",
    "    magStar_u = starsdata['f2'][j]\n",
    "    magStar_g = starsdata['f3'][j]\n",
    "    magStar_r = starsdata['f4'][j]\n",
    "    magStar_i = starsdata['f5'][j]\n",
    "    magStar_z = starsdata['f6'][j]\n",
    "    magStar_y = starsdata['f7'][j]\n",
    "    \n",
    "    # Uploading the magnification table\n",
    "    lensdata = np.genfromtxt(DirData+'1_Magnification/'+list_forts[j])\n",
    "    \n",
    "    ##########################################################\n",
    "    \n",
    "    # Loop over the magnification file for a given star\n",
    "    # I use this loop just to count the number of rows and to\n",
    "    # discard the magnified stars with magnitudes larger than\n",
    "    # 16 mags for more than a given porcentage of time.\n",
    "    \n",
    "    # Reset the counter for the number of rows for this event\n",
    "    # based on the change in magnitude in u band:\n",
    "    countNROW = 0\n",
    "    count_AboveMaxMag = 0\n",
    "    \n",
    "    for ii in range(len(lensdata)):\n",
    "\n",
    "        Magnific = lensdata[ii][3]\n",
    "        mag_u = Magnification2mag(Magnific, magStar_u)\n",
    "        \n",
    "        # Compute the difference between the previous magnitude \n",
    "        # and the current value:\n",
    "        if ii > 0:\n",
    "            Magnific_prev = lensdata[int(ii-1)][3]\n",
    "            mag_u_prev = Magnification2mag(Magnific_prev, magStar_u)\n",
    "            diffmag = abs(round(mag_u,3) - round(mag_u_prev,3))\n",
    "        else: diffmag = 1\n",
    "        \n",
    "        if diffmag >= diffmag_fix: \n",
    "            countNROW += 1\n",
    "            if mag_u < maxMag:\n",
    "                count_AboveMaxMag += 1\n",
    "                \n",
    "    # Determine the porcentage of MJD with mag larger than \n",
    "    # the magnitude threshold:\n",
    "    porcentage_int1 = (float(count_AboveMaxMag)*100.)/(float(countNROW+3))\n",
    "    \n",
    "    #########################################\n",
    "\n",
    "    # Consider the LCs that have less than the maximum \n",
    "    # porcentage of time of a LC with magnitude larger\n",
    "    # than the threshold magnitude only.\n",
    "    \n",
    "    if porcentage_int1 < Porcentage_maxTime:\n",
    "        \n",
    "        countEvent = countEvent + 1\n",
    "\n",
    "        textfile_1.write(\" \\n\")\n",
    "        textfile_1.write(text_line)\n",
    "        textfile_1.write(\" \\n\")\n",
    "        textfile_1.write(\"START_EVENT: %s \\n\"%countEvent)\n",
    "        \n",
    "        # Write the metadata info for this star.\n",
    "        textfile_1.write(\"NROW: %s  RA: %s   DEC: %s  \\n\"%(\n",
    "            (countNROW+3), ra, dec))\n",
    "    \n",
    "        #-----------------------------------------\n",
    "\n",
    "        # Write the parameters of the specific event:\n",
    "\n",
    "        textfile_1.write(\"PARVAL: \")\n",
    "        for k in range(len(ParsModel[j])):\n",
    "            textfile_1.write(\"%.3f  \"%ParsModel[j][k])\n",
    "        textfile_1.write(\" \\n\")\n",
    "\n",
    "        #---------------------------------\n",
    "\n",
    "        time_first = int(lensdata[0][2]-1) # initial time\n",
    "\n",
    "        # Magnitudes of the template\n",
    "        textfile_1.write(\"T: %9.4f  %.3f  %.3f  %.3f  %.3f  %.3f  \\\n",
    "%.3f \\n\"%(\n",
    "            time_first, magStar_u, magStar_g, magStar_r, magStar_i,\n",
    "            magStar_z, magStar_y))\n",
    "        \n",
    "        # Write the first event: it is equal in mags to template\n",
    "        textfile_1.write(\"S: %9.4f  %.3f  %.3f  %.3f  %.3f  %.3f  \\\n",
    "%.3f \\n\"%(\n",
    "            time_first, magStar_u, magStar_g, magStar_r, magStar_i,\n",
    "            magStar_z, magStar_y))\n",
    "\n",
    "        #---------------------------------------------------\n",
    "        # Loop over the magnification file for a given star\n",
    "\n",
    "        # Creating the plot \n",
    "        plt.figure()\n",
    "\n",
    "        time_list = []\n",
    "        mag_u_list = []\n",
    "        mag_g_list = []\n",
    "\n",
    "        time_list  += [time_first]\n",
    "        mag_u_list += [magStar_u]\n",
    "        mag_g_list += [magStar_g]\n",
    "\n",
    "        countNROW_2 = 0\n",
    "        for ii in range(len(lensdata)):\n",
    "\n",
    "            time_int = lensdata[ii][2]\n",
    "            Magnific = lensdata[ii][3]\n",
    "\n",
    "            mag_u = Magnification2mag(Magnific, magStar_u)\n",
    "            mag_g = Magnification2mag(Magnific, magStar_g)\n",
    "            mag_r = Magnification2mag(Magnific, magStar_r)\n",
    "            mag_i = Magnification2mag(Magnific, magStar_i)\n",
    "            mag_z = Magnification2mag(Magnific, magStar_z)\n",
    "            mag_y = Magnification2mag(Magnific, magStar_y)\n",
    "\n",
    "            # Compute the difference between the previous magnitude \n",
    "            # and the current value, and print only the times\n",
    "            # when the difference is larger than \"diffmag_fix\"\n",
    "            if ii > 0:\n",
    "                Magnific_prev = lensdata[int(ii-1)][3]\n",
    "                mag_u_prev = Magnification2mag(Magnific_prev, magStar_u)\n",
    "                diffmag = abs(round(mag_u,3) - round(mag_u_prev,3))\n",
    "            else: diffmag = 1\n",
    "\n",
    "            if diffmag >= diffmag_fix:\n",
    "\n",
    "                text_05 = 'S: %9.4f  %.3f  %.3f  %.3f  %.3f  %.3f  %.3f \\n'%(\n",
    "                    time_int, mag_u, mag_g, mag_r, mag_i, mag_z, mag_y)\n",
    "                textfile_1.write(text_05)\n",
    "\n",
    "                countNROW_2 = countNROW_2 + 1\n",
    "\n",
    "                time_list  += [time_int]\n",
    "                mag_u_list += [mag_u] \n",
    "                mag_g_list += [mag_g]  \n",
    "                \n",
    "                # A hack to define the last MJD. I will use this to \n",
    "                # write down the last event where the MJD will the the\n",
    "                # last used time + 1 day, and the magnitudes will\n",
    "                # be the same than the template.\n",
    "                time_int2 = time_int\n",
    "\n",
    "        # Write the last event: it is equal in mags to template\n",
    "        textfile_1.write(\"S: %9.4f  %.3f  %.3f  %.3f  %.3f  %.3f  \\\n",
    "%.3f \\n\"%(\n",
    "            (time_int2+1), magStar_u, magStar_g, magStar_r, magStar_i,\n",
    "            magStar_z, magStar_y))        \n",
    "        \n",
    "        \n",
    "        #------------- PLOT THE LCs -------------------\n",
    "        \n",
    "        mag_u_np = np.array(mag_u_list)\n",
    "        \n",
    "        # the number is to create an offset:\n",
    "        # mag_g_np = np.array(mag_g_list) + 2 \n",
    "\n",
    "        # Plot with points and lines (recommended)\n",
    "        plt.plot(time_list, mag_u_list, lw=0.5, marker=\".\", ms=2) \n",
    "        \n",
    "        # just the line:\n",
    "        # plt.plot(time_list, mag_u_list, lw=2, ls = \"-\", color = 'blue') \n",
    "        # plt.plot(time_list, mag_g_list, lw=2, ls = \"-\", color = 'green') \n",
    "\n",
    "        plt.xlim(min(time_list)-100, max(time_list)+50)\n",
    "        plt.ylim(max(mag_u_list)+0.1, min(mag_u_list)-0.1)\n",
    "\n",
    "        plt.xlabel('time (days)')\n",
    "        plt.ylabel('apparent magnitude')\n",
    "        plt.title('u-band light curves of a lensed LSST star')\n",
    "\n",
    "        plt.savefig(DirSaveOutput+'2_plots/plot_%s.png'%countEvent, dpi=120)\n",
    "        plt.close()\n",
    "        textfile_1.write(\"END_EVENT: %s \\n\"%countEvent)\n",
    "        print \"%s: %s, %s countNROW\"%(j, countNROW,countNROW_2)\n",
    "\n",
    "textfile_1.close()"
   ]
  },
  {
   "cell_type": "code",
   "execution_count": null,
   "metadata": {},
   "outputs": [],
   "source": []
  },
  {
   "cell_type": "code",
   "execution_count": null,
   "metadata": {},
   "outputs": [],
   "source": []
  }
 ],
 "metadata": {
  "anaconda-cloud": {},
  "kernelspec": {
   "display_name": "Python [default]",
   "language": "python",
   "name": "python2"
  },
  "language_info": {
   "codemirror_mode": {
    "name": "ipython",
    "version": 2
   },
   "file_extension": ".py",
   "mimetype": "text/x-python",
   "name": "python",
   "nbconvert_exporter": "python",
   "pygments_lexer": "ipython2",
   "version": "2.7.13"
  }
 },
 "nbformat": 4,
 "nbformat_minor": 2
}
