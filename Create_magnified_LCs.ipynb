{
 "cells": [
  {
   "cell_type": "markdown",
   "metadata": {},
   "source": [
    "# Converting Rosanne's magnification files to magnified light curves and with the PLASTICC/SNANA format"
   ]
  },
  {
   "cell_type": "markdown",
   "metadata": {},
   "source": [
    "### USER"
   ]
  },
  {
   "cell_type": "code",
   "execution_count": 1,
   "metadata": {},
   "outputs": [],
   "source": [
    "# Dir of magnification files (those provided by Rosanne Di Stefano)\n",
    "DirLensFiles = \"/Users/arturo/Documents/Research/LSST/Rosanne/2018_07_09_tmp/1_Magnification/\"\n",
    "\n",
    "# Dir of simulated LSST star catalog\n",
    "DirStarCatalog = \"/Users/arturo/Documents/Research/LSST/Catalog/Subsamples/\"\n",
    "\n",
    "# Dir save output\n",
    "DirSaveOutput = \"/Users/arturo/Documents/Research/LSST/Rosanne/2018_07_09_tmp/2_output/\"\n",
    "\n",
    "# -------------------------------\n",
    "# Given that javascript doesn't work in JupyterLab, I have to set the \n",
    "# name of the notebook by hand\n",
    "NotebookName = 'Create_magnified_LCs.ipynb'"
   ]
  },
  {
   "cell_type": "code",
   "execution_count": null,
   "metadata": {},
   "outputs": [],
   "source": []
  },
  {
   "cell_type": "markdown",
   "metadata": {},
   "source": [
    "### Automatic"
   ]
  },
  {
   "cell_type": "code",
   "execution_count": 2,
   "metadata": {},
   "outputs": [
    {
     "data": {
      "text/plain": [
       "11"
      ]
     },
     "execution_count": 2,
     "metadata": {},
     "output_type": "execute_result"
    }
   ],
   "source": [
    "import numpy as np\n",
    "import pandas as pd\n",
    "import os # To use command line like instructions\n",
    "import glob # To read the files in my directory\n",
    "from matplotlib import pyplot as plt\n",
    "\n",
    "5+6"
   ]
  },
  {
   "cell_type": "code",
   "execution_count": null,
   "metadata": {},
   "outputs": [],
   "source": []
  },
  {
   "cell_type": "markdown",
   "metadata": {},
   "source": [
    "#### Get the name of this ipython notebook\n",
    "To print it in the output text files as reference."
   ]
  },
  {
   "cell_type": "code",
   "execution_count": 3,
   "metadata": {},
   "outputs": [
    {
     "data": {
      "application/javascript": [
       "var kernel = IPython.notebook.kernel;\n",
       "var thename = window.document.getElementById(\"notebook_name\").innerHTML;\n",
       "var command = \"NotebookName = \" + \"'\"+thename+\".ipynb\"+\"'\";\n",
       "kernel.execute(command);"
      ],
      "text/plain": [
       "<IPython.core.display.Javascript object>"
      ]
     },
     "metadata": {},
     "output_type": "display_data"
    }
   ],
   "source": [
    "%%javascript\n",
    "var kernel = IPython.notebook.kernel;\n",
    "var thename = window.document.getElementById(\"notebook_name\").innerHTML;\n",
    "var command = \"NotebookName = \" + \"'\"+thename+\".ipynb\"+\"'\";\n",
    "kernel.execute(command);"
   ]
  },
  {
   "cell_type": "code",
   "execution_count": 4,
   "metadata": {},
   "outputs": [
    {
     "name": "stdout",
     "output_type": "stream",
     "text": [
      "Create_magnified_LCs.ipynb\n"
     ]
    }
   ],
   "source": [
    "print(NotebookName)\n",
    "\n",
    "# Given that javascript doesn't work in JupyterLab, I have to set the \n",
    "# name of the notebook by hand"
   ]
  },
  {
   "cell_type": "code",
   "execution_count": 5,
   "metadata": {},
   "outputs": [],
   "source": [
    "# Get the current date and time\n",
    "import datetime \n",
    "\n",
    "# Read the time and date now\n",
    "now = datetime.datetime.now()"
   ]
  },
  {
   "cell_type": "code",
   "execution_count": 6,
   "metadata": {
    "collapsed": false
   },
   "outputs": [
    {
     "name": "stdout",
     "output_type": "stream",
     "text": [
      "# Test:\n",
      "# 18.633362217176515\n"
     ]
    }
   ],
   "source": [
    "# Function to convert from magnification to apparent magnitude\n",
    "\n",
    "def Magnification2mag(Magf, mo):\n",
    "    mag_int = mo - 2.5*np.log10(Magf)\n",
    "    return mag_int\n",
    "\n",
    "print '# Test:'\n",
    "print \"#\", Magnification2mag(2.14118954, 19.46)\n",
    "\n",
    "# Test\n",
    "# 18.6333622172\n",
    "# 18.633362217176515"
   ]
  },
  {
   "cell_type": "code",
   "execution_count": 7,
   "metadata": {
    "collapsed": false
   },
   "outputs": [
    {
     "name": "stdout",
     "output_type": "stream",
     "text": [
      "# 60478 stars data found in the file\n"
     ]
    }
   ],
   "source": [
    "# Read the LSST star catalogue file with the magnitudes in ugrizY bands\n",
    "\n",
    "starsdata = np.genfromtxt(DirStarCatalog+'LSST_ra_250_283_dec_-40_-15_Jump_100.dat',\n",
    "                dtype=[float,float,float,float,float,\n",
    "                       float,float,float]) \n",
    "\n",
    "print \"# %s stars data found in the file\"%len(starsdata)\n",
    "# 35 stars data found in the file"
   ]
  },
  {
   "cell_type": "code",
   "execution_count": 9,
   "metadata": {
    "collapsed": false
   },
   "outputs": [
    {
     "data": {
      "text/plain": [
       "array([(269.9092004, -28.3269497, 20.99688, 19.00108, 17.79934, 17.13335, 16.60385, 16.29794),\n",
       "       (267.0523731, -32.4916441, 28.21959, 25.46772, 22.80995, 21.13215, 19.76051, 18.95455),\n",
       "       (273.7255786, -16.1384652, 29.85822, 28.62047, 25.17983, 22.84342, 21.00829, 19.91717),\n",
       "       (276.9094877, -18.2496449, 22.17216, 20.27804, 19.11986, 18.48972, 18.00777, 17.73689),\n",
       "       (273.004142 , -16.2747554, 29.37052, 27.52682, 24.3281 , 22.22627, 20.55627, 19.57183)],\n",
       "      dtype=[('f0', '<f8'), ('f1', '<f8'), ('f2', '<f8'), ('f3', '<f8'), ('f4', '<f8'), ('f5', '<f8'), ('f6', '<f8'), ('f7', '<f8')])"
      ]
     },
     "execution_count": 9,
     "metadata": {},
     "output_type": "execute_result"
    }
   ],
   "source": [
    "# Sample of the file\n",
    "starsdata[:5]"
   ]
  },
  {
   "cell_type": "code",
   "execution_count": null,
   "metadata": {},
   "outputs": [],
   "source": [
    "\"\"\"\n",
    "array([ 16.21739,  18.41886,  27.47009,  19.72312,  30.9791 ,  26.53289,\n",
    "        31.61692,  18.70061,  18.97976,  19.42187,  24.40802,  19.36606,\n",
    "        17.46127,  29.19847,  30.27772,  23.00819,  24.09528,  21.57186,\n",
    "        14.83046,  27.84922,  27.55117,  23.27528,  24.47566,  23.22603,\n",
    "        27.1417 ,  27.52953,  25.5453 ,  27.31056,  26.48858,  24.22798,\n",
    "        25.92916,  27.09815,  23.15348,  25.65296,  27.26104])\n",
    "\"\"\""
   ]
  },
  {
   "cell_type": "code",
   "execution_count": null,
   "metadata": {},
   "outputs": [],
   "source": []
  },
  {
   "cell_type": "code",
   "execution_count": 11,
   "metadata": {
    "collapsed": false
   },
   "outputs": [],
   "source": [
    "import os # To use command line like instructions\n",
    "import glob # To read the files in my directory\n",
    "\n",
    "# Read the metadata file:\n",
    "lens_metadata = np.genfromtxt(DirLensFiles+'tau_dist_information.txt',\n",
    "                             dtype=[int,int,float,float,float,float])\n",
    "\n",
    "#------------------------------\n",
    "\n",
    "#- Force the creation of the directory to save the plots.\n",
    "#- \"If the subdirectory does not exist then create it\"\n",
    "import os # To use command line like instructions\n",
    "if not os.path.exists(DirSaveOutput+\"2_plots\"): os.makedirs(DirSaveOutput+\"2_plots\")"
   ]
  },
  {
   "cell_type": "code",
   "execution_count": 12,
   "metadata": {},
   "outputs": [
    {
     "data": {
      "text/plain": [
       "16000"
      ]
     },
     "execution_count": 12,
     "metadata": {},
     "output_type": "execute_result"
    }
   ],
   "source": [
    "len(lens_metadata)"
   ]
  },
  {
   "cell_type": "code",
   "execution_count": 14,
   "metadata": {},
   "outputs": [
    {
     "data": {
      "text/plain": [
       "array([(1, 197,  48.48 , 1.602  , -0.1665  ,  1.112),\n",
       "       (2,  30,   3.692, 3.059  ,  0.1651  ,  1.015),\n",
       "       (3,  84, 134.1  , 2.219  ,  0.1174  ,  1.044),\n",
       "       (4,  84,  40.01 , 2.202  , -0.005246,  1.045),\n",
       "       (5, 480,   3.228, 0.04616, -0.05398 , 21.596)],\n",
       "      dtype=[('f0', '<i8'), ('f1', '<i8'), ('f2', '<f8'), ('f3', '<f8'), ('f4', '<f8'), ('f5', '<f8')])"
      ]
     },
     "execution_count": 14,
     "metadata": {},
     "output_type": "execute_result"
    }
   ],
   "source": [
    "# Sample of the array\n",
    "lens_metadata[:5]"
   ]
  },
  {
   "cell_type": "code",
   "execution_count": null,
   "metadata": {
    "collapsed": false
   },
   "outputs": [],
   "source": [
    "# Reading the parameter values used to create every \"fort\" file\n",
    "# these values are just to keep in the record and write down on \n",
    "# the Plasticc/SNANA output file.\n",
    "\n",
    "# ParsModel=np.genfromtxt(DirData+'1_Magnification/parameters_Binary_lens.txt')\n",
    "# print \"# %s value sets were found in this file.\"%len(ParsModel)"
   ]
  },
  {
   "cell_type": "code",
   "execution_count": null,
   "metadata": {
    "collapsed": true
   },
   "outputs": [],
   "source": []
  },
  {
   "cell_type": "code",
   "execution_count": null,
   "metadata": {},
   "outputs": [],
   "source": [
    "# Number label of the light curve:\n",
    "lc_num = 1\n",
    "# Number of observations in that light curve:\n",
    "lc_num_obs = 197\n"
   ]
  },
  {
   "cell_type": "code",
   "execution_count": null,
   "metadata": {},
   "outputs": [],
   "source": []
  },
  {
   "cell_type": "code",
   "execution_count": null,
   "metadata": {},
   "outputs": [],
   "source": []
  },
  {
   "cell_type": "code",
   "execution_count": null,
   "metadata": {},
   "outputs": [],
   "source": [
    "initial_row = 0\n",
    "\n",
    "for j in range(4):\n",
    "    \n",
    "    # Number of observations in that light curve:\n",
    "    lc_num_obs = lens_metadata[j][1]\n",
    "    \n",
    "    number_rows = lc_num_obs\n",
    "    \n",
    "    lens_data = pd.read_table(DirLensFiles+'tau.dist_LCs.dat', \n",
    "                      skiprows=initial_row, nrows=number_rows, sep='\\s+')\n",
    "    print initial_row, number_rows\n",
    "    print lens_data.values[0]\n",
    "    \n",
    "    # Increase the value of \"initial_row\"\n",
    "    initial_row = initial_row + number_rows\n",
    "\n",
    "    "
   ]
  },
  {
   "cell_type": "code",
   "execution_count": null,
   "metadata": {},
   "outputs": [],
   "source": []
  },
  {
   "cell_type": "code",
   "execution_count": null,
   "metadata": {},
   "outputs": [],
   "source": [
    "lens_data = pd.read_table(DirLensFiles+'tau.dist_LCs.dat', \n",
    "                      skiprows=initial_row, nrows=number_rows, sep='\\s+')"
   ]
  },
  {
   "cell_type": "code",
   "execution_count": null,
   "metadata": {},
   "outputs": [],
   "source": [
    "test1"
   ]
  },
  {
   "cell_type": "code",
   "execution_count": null,
   "metadata": {},
   "outputs": [],
   "source": [
    "test1.values"
   ]
  },
  {
   "cell_type": "code",
   "execution_count": null,
   "metadata": {},
   "outputs": [],
   "source": [
    "test1.values[0]"
   ]
  },
  {
   "cell_type": "code",
   "execution_count": null,
   "metadata": {},
   "outputs": [],
   "source": [
    "test1.values[0][0]"
   ]
  },
  {
   "cell_type": "code",
   "execution_count": null,
   "metadata": {},
   "outputs": [],
   "source": [
    "test1.values[0][0][0]"
   ]
  },
  {
   "cell_type": "code",
   "execution_count": null,
   "metadata": {},
   "outputs": [],
   "source": []
  },
  {
   "cell_type": "code",
   "execution_count": null,
   "metadata": {},
   "outputs": [],
   "source": []
  },
  {
   "cell_type": "markdown",
   "metadata": {},
   "source": [
    "### Main loop. v 1.3"
   ]
  },
  {
   "cell_type": "code",
   "execution_count": null,
   "metadata": {
    "collapsed": false
   },
   "outputs": [],
   "source": [
    "# Difference in u magnitude as a criterium to write down \n",
    "# that row in the text file. This is helpful to avoid writting a lot of\n",
    "# rows with exactly the same values of the magnitudes in ugrizY bands.\n",
    "diffmag_fix = 0.001\n",
    "\n",
    "# Maximum percentage of time of a LC with magnitude larger\n",
    "# than 16 mags\n",
    "Porcentage_maxTime = 18.0 # percentage\n",
    "\n",
    "# Magnitude threshold\n",
    "maxMag = 16.0 # mag\n",
    "\n",
    "#------------------------------------------\n",
    "\n",
    "textfile_1 = open(DirSaveOutput+'2_Lensing_lc_PLASTICC_format_.txt', 'w')\n",
    "\n",
    "now = datetime.datetime.now() # Read the time and date right now\n",
    "text_timenow = now.strftime(\"%Y-%m-%d (yy-mm-dd).\")\n",
    "text_Date   = 'COMMENT: File created by Arturo Avelino on %s \\n'%text_timenow\n",
    "text_line = '#'+'-'*50 + '\\n'\n",
    "    \n",
    "textfile_1.write(\"SURVEY: LSST \\n\")\n",
    "textfile_1.write(\"FILTERS: ugrizY \\n\")\n",
    "textfile_1.write(\"MODEL: Microlensing by Rosanne Di Stefano \\n\")\n",
    "textfile_1.write(\"MODEL_PARNAMES: apeak,m1,m2,alpha,d_l,v,i_p,omega,clock,\\\n",
    "beta,nom,porb,tau \\n\")\n",
    "textfile_1.write(text_Date)\n",
    "# textfile_1.write()\n",
    "\n",
    "countEvent = 0\n",
    "\n",
    "print \"# Number of useful rows written in the text file for given star,\"\n",
    "print \"# it is, when there is a change in magnitude at least > %s mag.\"%diffmag_fix\n",
    "\n",
    "# Reset variables.\n",
    "initial_row = 0\n",
    "\n",
    "# old. for j in range(len(list_forts)): # Loop over the stars\n",
    "for j in range(10): # Loop over the light curves (i.e., stars) # tmp  \n",
    "    \n",
    "    ra  = starsdata['f0'][j]\n",
    "    dec = starsdata['f1'][j]\n",
    "    \n",
    "    # Apparent magnitude star in different bands:\n",
    "    magStar_u = starsdata['f2'][j]\n",
    "    magStar_g = starsdata['f3'][j]\n",
    "    magStar_r = starsdata['f4'][j]\n",
    "    magStar_i = starsdata['f5'][j]\n",
    "    magStar_z = starsdata['f6'][j]\n",
    "    magStar_y = starsdata['f7'][j]\n",
    "    \n",
    "    # Number label of the current light curve:\n",
    "    lc_num = lens_metadata[j][0]\n",
    "    # Number of observations in the current light curve:\n",
    "    lc_num_obs = lens_metadata[j][1]\n",
    "    \n",
    "    #------------------------------------------\n",
    "    # Uploading the magnification table.\n",
    "    # It is a very large file so I use pandas to read the datatable\n",
    "    # by portions.\n",
    "    lens_data = pd.read_table(DirLensFiles+'tau.dist_LCs.dat', \n",
    "                      skiprows=initial_row, nrows=lc_num_obs, sep='\\s+')\n",
    "    \n",
    "    print initial_row, lc_num_obs\n",
    "    print lens_data.values[0]\n",
    "    \n",
    "    # Increase the value of \"initial_row\" for the next \n",
    "    # iteration in the main loop.\n",
    "    initial_row = initial_row + lc_num_obs\n",
    "    \n",
    "    ##########################################################\n",
    "    \n",
    "    # Loop over the magnification file for a given star\n",
    "    # I use this loop just to count the number of rows and to\n",
    "    # discard the magnified stars with magnitudes larger than\n",
    "    # 16 mags for more than a given porcentage of time.\n",
    "    \n",
    "    # Reset the counter for the number of rows for this event\n",
    "    # based on the change in magnitude in u band:\n",
    "    countNROW = 0\n",
    "    count_AboveMaxMag = 0\n",
    "    \n",
    "    # oldx. for ii in range(len(lensdata)):\n",
    "    for ii in range(lc_num_obs):\n",
    "\n",
    "        Magnific = lens_data[ii][3]\n",
    "        mag_u = Magnification2mag(Magnific, magStar_u)\n",
    "        \n",
    "        # Compute the difference between the previous magnitude \n",
    "        # and the current value:\n",
    "        if ii > 0:\n",
    "            Magnific_prev = lensdata[int(ii-1)][3]\n",
    "            mag_u_prev = Magnification2mag(Magnific_prev, magStar_u)\n",
    "            diffmag = abs(round(mag_u,3) - round(mag_u_prev,3))\n",
    "        else: diffmag = 1\n",
    "        \n",
    "        if diffmag >= diffmag_fix: \n",
    "            countNROW += 1\n",
    "            if mag_u < maxMag:\n",
    "                count_AboveMaxMag += 1\n",
    "                \n",
    "    # Determine the porcentage of MJD with mag larger than \n",
    "    # the magnitude threshold:\n",
    "    porcentage_int1 = (float(count_AboveMaxMag)*100.)/(float(countNROW+3))\n",
    "    \n",
    "    #########################################\n",
    "\n",
    "    # Consider the LCs that have less than the maximum \n",
    "    # porcentage of time of a LC with magnitude larger\n",
    "    # than the threshold magnitude only.\n",
    "    \n",
    "    if porcentage_int1 < Porcentage_maxTime:\n",
    "        \n",
    "        countEvent = countEvent + 1\n",
    "\n",
    "        textfile_1.write(\" \\n\")\n",
    "        textfile_1.write(text_line)\n",
    "        textfile_1.write(\" \\n\")\n",
    "        textfile_1.write(\"START_EVENT: %s \\n\"%countEvent)\n",
    "        \n",
    "        # Write the metadata info for this star.\n",
    "        textfile_1.write(\"NROW: %s  RA: %s   DEC: %s  \\n\"%(\n",
    "            (countNROW+3), ra, dec))\n",
    "    \n",
    "        #-----------------------------------------\n",
    "\n",
    "        # Write the parameters of the specific event:\n",
    "\n",
    "        textfile_1.write(\"PARVAL: \")\n",
    "        for k in range(len(ParsModel[j])):\n",
    "            textfile_1.write(\"%.3f  \"%ParsModel[j][k])\n",
    "        textfile_1.write(\" \\n\")\n",
    "\n",
    "        #---------------------------------\n",
    "\n",
    "        time_first = int(lensdata[0][2]-1) # initial time\n",
    "\n",
    "        # Magnitudes of the template\n",
    "        textfile_1.write(\"T: %9.4f  %.3f  %.3f  %.3f  %.3f  %.3f  \\\n",
    "%.3f \\n\"%(\n",
    "            time_first, magStar_u, magStar_g, magStar_r, magStar_i,\n",
    "            magStar_z, magStar_y))\n",
    "        \n",
    "        # Write the first event: it is equal in mags to template\n",
    "        textfile_1.write(\"S: %9.4f  %.3f  %.3f  %.3f  %.3f  %.3f  \\\n",
    "%.3f \\n\"%(\n",
    "            time_first, magStar_u, magStar_g, magStar_r, magStar_i,\n",
    "            magStar_z, magStar_y))\n",
    "\n",
    "        #---------------------------------------------------\n",
    "        # Loop over the magnification file for a given star\n",
    "\n",
    "        # Creating the plot \n",
    "        plt.figure()\n",
    "\n",
    "        time_list = []\n",
    "        mag_u_list = []\n",
    "        mag_g_list = []\n",
    "\n",
    "        time_list  += [time_first]\n",
    "        mag_u_list += [magStar_u]\n",
    "        mag_g_list += [magStar_g]\n",
    "\n",
    "        countNROW_2 = 0\n",
    "        for ii in range(len(lensdata)):\n",
    "\n",
    "            time_int = lensdata[ii][2]\n",
    "            Magnific = lensdata[ii][3]\n",
    "\n",
    "            mag_u = Magnification2mag(Magnific, magStar_u)\n",
    "            mag_g = Magnification2mag(Magnific, magStar_g)\n",
    "            mag_r = Magnification2mag(Magnific, magStar_r)\n",
    "            mag_i = Magnification2mag(Magnific, magStar_i)\n",
    "            mag_z = Magnification2mag(Magnific, magStar_z)\n",
    "            mag_y = Magnification2mag(Magnific, magStar_y)\n",
    "\n",
    "            # Compute the difference between the previous magnitude \n",
    "            # and the current value, and print only the times\n",
    "            # when the difference is larger than \"diffmag_fix\"\n",
    "            if ii > 0:\n",
    "                Magnific_prev = lensdata[int(ii-1)][3]\n",
    "                mag_u_prev = Magnification2mag(Magnific_prev, magStar_u)\n",
    "                diffmag = abs(round(mag_u,3) - round(mag_u_prev,3))\n",
    "            else: diffmag = 1\n",
    "\n",
    "            if diffmag >= diffmag_fix:\n",
    "\n",
    "                text_05 = 'S: %9.4f  %.3f  %.3f  %.3f  %.3f  %.3f  %.3f \\n'%(\n",
    "                    time_int, mag_u, mag_g, mag_r, mag_i, mag_z, mag_y)\n",
    "                textfile_1.write(text_05)\n",
    "\n",
    "                countNROW_2 = countNROW_2 + 1\n",
    "\n",
    "                time_list  += [time_int]\n",
    "                mag_u_list += [mag_u] \n",
    "                mag_g_list += [mag_g]  \n",
    "                \n",
    "                # A hack to define the last MJD. I will use this to \n",
    "                # write down the last event where the MJD will the the\n",
    "                # last used time + 1 day, and the magnitudes will\n",
    "                # be the same than the template.\n",
    "                time_int2 = time_int\n",
    "\n",
    "        # Write the last event: it is equal in mags to template\n",
    "        textfile_1.write(\"S: %9.4f  %.3f  %.3f  %.3f  %.3f  %.3f  \\\n",
    "%.3f \\n\"%(\n",
    "            (time_int2+1), magStar_u, magStar_g, magStar_r, magStar_i,\n",
    "            magStar_z, magStar_y))        \n",
    "        \n",
    "        \n",
    "        #------------- PLOT THE LCs -------------------\n",
    "        \n",
    "        mag_u_np = np.array(mag_u_list)\n",
    "        \n",
    "        # the number is to create an offset:\n",
    "        # mag_g_np = np.array(mag_g_list) + 2 \n",
    "\n",
    "        # Plot with points and lines (recommended)\n",
    "        plt.plot(time_list, mag_u_list, lw=0.5, marker=\".\", ms=2) \n",
    "        \n",
    "        # just the line:\n",
    "        # plt.plot(time_list, mag_u_list, lw=2, ls = \"-\", color = 'blue') \n",
    "        # plt.plot(time_list, mag_g_list, lw=2, ls = \"-\", color = 'green') \n",
    "\n",
    "        plt.xlim(min(time_list)-100, max(time_list)+50)\n",
    "        plt.ylim(max(mag_u_list)+0.1, min(mag_u_list)-0.1)\n",
    "\n",
    "        plt.xlabel('time (days)')\n",
    "        plt.ylabel('apparent magnitude')\n",
    "        plt.title('u-band light curves of a lensed LSST star')\n",
    "\n",
    "        plt.savefig(DirSaveOutput+'2_plots/plot_%s.png'%countEvent, dpi=120)\n",
    "        plt.close()\n",
    "        textfile_1.write(\"END_EVENT: %s \\n\"%countEvent)\n",
    "        print \"%s: %s, %s countNROW\"%(j, countNROW,countNROW_2)\n",
    "\n",
    "textfile_1.close()"
   ]
  },
  {
   "cell_type": "code",
   "execution_count": null,
   "metadata": {},
   "outputs": [],
   "source": []
  },
  {
   "cell_type": "code",
   "execution_count": null,
   "metadata": {},
   "outputs": [],
   "source": []
  }
 ],
 "metadata": {
  "anaconda-cloud": {},
  "kernelspec": {
   "display_name": "Python 2",
   "language": "python",
   "name": "python2"
  },
  "language_info": {
   "codemirror_mode": {
    "name": "ipython",
    "version": 2
   },
   "file_extension": ".py",
   "mimetype": "text/x-python",
   "name": "python",
   "nbconvert_exporter": "python",
   "pygments_lexer": "ipython2",
   "version": "2.7.14"
  }
 },
 "nbformat": 4,
 "nbformat_minor": 2
}
