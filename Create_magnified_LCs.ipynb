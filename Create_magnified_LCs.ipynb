{
 "cells": [
  {
   "cell_type": "markdown",
   "metadata": {},
   "source": [
    "# Converting Rosanne's magnification files to magnified light curves and with the PLASTICC/SNANA format"
   ]
  },
  {
   "cell_type": "markdown",
   "metadata": {},
   "source": [
    "### USER"
   ]
  },
  {
   "cell_type": "code",
   "execution_count": 1,
   "metadata": {},
   "outputs": [],
   "source": [
    "# Dir of magnification files (those provided by Rosanne Di Stefano)\n",
    "DirLensFiles = \"/Users/arturo/Documents/Research/LSST/Rosanne/2018_07_09_tmp/1_Magnification/\"\n",
    "\n",
    "# Dir of simulated LSST star catalog\n",
    "DirStarCatalog = \"/Users/arturo/Documents/Research/LSST/Catalog/Subsamples/\"\n",
    "\n",
    "# Dir save output\n",
    "DirSaveOutput = \"/Users/arturo/Documents/Research/LSST/Rosanne/2018_07_09_tmp/2_output/\"\n",
    "\n",
    "# -------------------------------\n",
    "# Given that javascript doesn't work in JupyterLab, I have to set the \n",
    "# name of the notebook by hand\n",
    "NotebookName = 'Create_magnified_LCs.ipynb'"
   ]
  },
  {
   "cell_type": "code",
   "execution_count": null,
   "metadata": {},
   "outputs": [],
   "source": []
  },
  {
   "cell_type": "markdown",
   "metadata": {},
   "source": [
    "### Automatic"
   ]
  },
  {
   "cell_type": "code",
   "execution_count": 2,
   "metadata": {},
   "outputs": [
    {
     "data": {
      "text/plain": [
       "11"
      ]
     },
     "execution_count": 2,
     "metadata": {},
     "output_type": "execute_result"
    }
   ],
   "source": [
    "import numpy as np\n",
    "import pandas as pd\n",
    "import os # To use command line like instructions\n",
    "import glob # To read the files in my directory\n",
    "from matplotlib import pyplot as plt\n",
    "\n",
    "5+6"
   ]
  },
  {
   "cell_type": "code",
   "execution_count": 3,
   "metadata": {},
   "outputs": [],
   "source": [
    "#- Force the creation of the directory to save the plots.\n",
    "#- \"If the subdirectory does not exist then create it\"\n",
    "import os # To use command line like instructions\n",
    "if not os.path.exists(DirSaveOutput+\"2_plots\"): os.makedirs(DirSaveOutput+\"2_plots\")"
   ]
  },
  {
   "cell_type": "markdown",
   "metadata": {},
   "source": [
    "#### Get the name of this ipython notebook\n",
    "To print it in the output text files as reference."
   ]
  },
  {
   "cell_type": "code",
   "execution_count": 4,
   "metadata": {},
   "outputs": [
    {
     "data": {
      "application/javascript": [
       "var kernel = IPython.notebook.kernel;\n",
       "var thename = window.document.getElementById(\"notebook_name\").innerHTML;\n",
       "var command = \"NotebookName = \" + \"'\"+thename+\".ipynb\"+\"'\";\n",
       "kernel.execute(command);"
      ],
      "text/plain": [
       "<IPython.core.display.Javascript object>"
      ]
     },
     "metadata": {},
     "output_type": "display_data"
    }
   ],
   "source": [
    "%%javascript\n",
    "var kernel = IPython.notebook.kernel;\n",
    "var thename = window.document.getElementById(\"notebook_name\").innerHTML;\n",
    "var command = \"NotebookName = \" + \"'\"+thename+\".ipynb\"+\"'\";\n",
    "kernel.execute(command);"
   ]
  },
  {
   "cell_type": "code",
   "execution_count": 5,
   "metadata": {},
   "outputs": [
    {
     "name": "stdout",
     "output_type": "stream",
     "text": [
      "Create_magnified_LCs.ipynb\n"
     ]
    }
   ],
   "source": [
    "print(NotebookName)\n",
    "\n",
    "# Given that javascript doesn't work in JupyterLab, I have to set the \n",
    "# name of the notebook by hand"
   ]
  },
  {
   "cell_type": "code",
   "execution_count": 6,
   "metadata": {},
   "outputs": [],
   "source": [
    "# Get the current date and time\n",
    "import datetime \n",
    "\n",
    "# Read the time and date now\n",
    "now = datetime.datetime.now()"
   ]
  },
  {
   "cell_type": "code",
   "execution_count": 7,
   "metadata": {
    "collapsed": false
   },
   "outputs": [
    {
     "name": "stdout",
     "output_type": "stream",
     "text": [
      "# Test:\n",
      "# 18.6333622172\n"
     ]
    }
   ],
   "source": [
    "# Function to convert from magnification to apparent magnitude\n",
    "\n",
    "def Magnification2mag(Magf, mo):\n",
    "    mag_int = mo - 2.5*np.log10(Magf)\n",
    "    return mag_int\n",
    "\n",
    "print '# Test:'\n",
    "print \"#\", Magnification2mag(2.14118954, 19.46)\n",
    "\n",
    "# Test\n",
    "# 18.6333622172\n",
    "# 18.633362217176515"
   ]
  },
  {
   "cell_type": "code",
   "execution_count": 8,
   "metadata": {
    "collapsed": false
   },
   "outputs": [
    {
     "name": "stdout",
     "output_type": "stream",
     "text": [
      "# 60478 stars data found in the file\n"
     ]
    }
   ],
   "source": [
    "# Read the LSST star catalogue file with the magnitudes in ugrizY bands\n",
    "\n",
    "starsdata = np.genfromtxt(DirStarCatalog+'LSST_ra_250_283_dec_-40_-15_Jump_100.dat',\n",
    "                dtype=[float,float,float,float,float,\n",
    "                       float,float,float]) \n",
    "\n",
    "print \"# %s stars data found in the file\"%len(starsdata)\n",
    "# 35 stars data found in the file"
   ]
  },
  {
   "cell_type": "code",
   "execution_count": 9,
   "metadata": {
    "collapsed": false
   },
   "outputs": [
    {
     "data": {
      "text/plain": [
       "array([ ( 269.9092004, -28.3269497,  20.99688,  19.00108,  17.79934,  17.13335,  16.60385,  16.29794),\n",
       "       ( 267.0523731, -32.4916441,  28.21959,  25.46772,  22.80995,  21.13215,  19.76051,  18.95455),\n",
       "       ( 273.7255786, -16.1384652,  29.85822,  28.62047,  25.17983,  22.84342,  21.00829,  19.91717),\n",
       "       ( 276.9094877, -18.2496449,  22.17216,  20.27804,  19.11986,  18.48972,  18.00777,  17.73689),\n",
       "       ( 273.004142 , -16.2747554,  29.37052,  27.52682,  24.3281 ,  22.22627,  20.55627,  19.57183)], \n",
       "      dtype=[('f0', '<f8'), ('f1', '<f8'), ('f2', '<f8'), ('f3', '<f8'), ('f4', '<f8'), ('f5', '<f8'), ('f6', '<f8'), ('f7', '<f8')])"
      ]
     },
     "execution_count": 9,
     "metadata": {},
     "output_type": "execute_result"
    }
   ],
   "source": [
    "# Sample of the file\n",
    "starsdata[:5]"
   ]
  },
  {
   "cell_type": "code",
   "execution_count": null,
   "metadata": {},
   "outputs": [],
   "source": [
    "\"\"\"\n",
    "array([ ( 269.9092004, -28.3269497,  20.99688,  19.00108,  17.79934,  17.13335,  16.60385,  16.29794),\n",
    "       ( 267.0523731, -32.4916441,  28.21959,  25.46772,  22.80995,  21.13215,  19.76051,  18.95455),\n",
    "       ( 273.7255786, -16.1384652,  29.85822,  28.62047,  25.17983,  22.84342,  21.00829,  19.91717),\n",
    "       ( 276.9094877, -18.2496449,  22.17216,  20.27804,  19.11986,  18.48972,  18.00777,  17.73689),\n",
    "       ( 273.004142 , -16.2747554,  29.37052,  27.52682,  24.3281 ,  22.22627,  20.55627,  19.57183)], \n",
    "      dtype=[('f0', '<f8'), ('f1', '<f8'), ('f2', '<f8'), ('f3', '<f8'), ('f4', '<f8'), ('f5', '<f8'), ('f6', '<f8'), ('f7', '<f8')])\n",
    "\"\"\"\n",
    "0"
   ]
  },
  {
   "cell_type": "code",
   "execution_count": null,
   "metadata": {},
   "outputs": [],
   "source": []
  },
  {
   "cell_type": "code",
   "execution_count": 10,
   "metadata": {
    "collapsed": false
   },
   "outputs": [],
   "source": [
    "# Read the lensing metadata file:\n",
    "\n",
    "lens_metadata = np.genfromtxt(DirLensFiles+'tau_dist_information.txt',\n",
    "                             dtype=[int,int,float,float,float,float])\n"
   ]
  },
  {
   "cell_type": "code",
   "execution_count": 11,
   "metadata": {},
   "outputs": [
    {
     "data": {
      "text/plain": [
       "16000"
      ]
     },
     "execution_count": 11,
     "metadata": {},
     "output_type": "execute_result"
    }
   ],
   "source": [
    "len(lens_metadata)\n",
    "\n",
    "# 16000"
   ]
  },
  {
   "cell_type": "code",
   "execution_count": 12,
   "metadata": {},
   "outputs": [
    {
     "data": {
      "text/plain": [
       "array([(1, 197,   48.48 ,  1.602  , -0.1665  ,   1.112),\n",
       "       (2,  30,    3.692,  3.059  ,  0.1651  ,   1.015),\n",
       "       (3,  84,  134.1  ,  2.219  ,  0.1174  ,   1.044),\n",
       "       (4,  84,   40.01 ,  2.202  , -0.005246,   1.045),\n",
       "       (5, 480,    3.228,  0.04616, -0.05398 ,  21.596)], \n",
       "      dtype=[('f0', '<i8'), ('f1', '<i8'), ('f2', '<f8'), ('f3', '<f8'), ('f4', '<f8'), ('f5', '<f8')])"
      ]
     },
     "execution_count": 12,
     "metadata": {},
     "output_type": "execute_result"
    }
   ],
   "source": [
    "# Sample of the array\n",
    "lens_metadata[:5]"
   ]
  },
  {
   "cell_type": "code",
   "execution_count": 13,
   "metadata": {},
   "outputs": [
    {
     "data": {
      "text/plain": [
       "0"
      ]
     },
     "execution_count": 13,
     "metadata": {},
     "output_type": "execute_result"
    }
   ],
   "source": [
    "\"\"\"\n",
    "array([(1, 197,   48.48 ,  1.602  , -0.1665  ,   1.112),\n",
    "       (2,  30,    3.692,  3.059  ,  0.1651  ,   1.015),\n",
    "       (3,  84,  134.1  ,  2.219  ,  0.1174  ,   1.044),\n",
    "       (4,  84,   40.01 ,  2.202  , -0.005246,   1.045),\n",
    "       (5, 480,    3.228,  0.04616, -0.05398 ,  21.596)], \n",
    "      dtype=[('f0', '<i8'), ('f1', '<i8'), ('f2', '<f8'), ('f3', '<f8'), ('f4', '<f8'), ('f5', '<f8')])\n",
    "\"\"\"\n",
    "0"
   ]
  },
  {
   "cell_type": "markdown",
   "metadata": {},
   "source": [
    "### MAIN LOOP"
   ]
  },
  {
   "cell_type": "code",
   "execution_count": 32,
   "metadata": {},
   "outputs": [
    {
     "name": "stdout",
     "output_type": "stream",
     "text": [
      "# Number of useful rows written in the text file for a given star,\n",
      "# it is, when there is a change in magnitude at least > 0.001 mag.\n",
      "------------------------------\n",
      "Initial_row = 0, number_rows = 197\n",
      "First row of the light curve [ 1.      -0.16646  1.     ]\n",
      "j = 0: countNROW = 133, countNROW_2 = 133\n",
      "updated initial_row = 197\n",
      "------------------------------\n",
      "Initial_row = 197, number_rows = 30\n",
      "First row of the light curve [ 1.       0.16514  1.     ]\n",
      "j = 1: countNROW = 20, countNROW_2 = 20\n",
      "updated initial_row = 227\n",
      "------------------------------\n",
      "Initial_row = 227, number_rows = 84\n",
      "First row of the light curve [ 1.       0.11738  1.     ]\n",
      "j = 2: countNROW = 58, countNROW_2 = 58\n",
      "updated initial_row = 311\n",
      "------------------------------\n",
      "Initial_row = 311, number_rows = 84\n",
      "First row of the light curve [ 1.       -0.005246  1.      ]\n",
      "j = 3: countNROW = 55, countNROW_2 = 55\n",
      "updated initial_row = 395\n",
      "------------------------------\n",
      "Initial_row = 395, number_rows = 480\n",
      "First row of the light curve [ 1.       -0.053982  1.      ]\n",
      "j = 4: countNROW = 444, countNROW_2 = 444\n",
      "updated initial_row = 875\n"
     ]
    }
   ],
   "source": [
    "debug = True\n",
    "\n",
    "# Difference in u magnitude as a criterium to write down \n",
    "# that row in the text file. This is helpful to avoid writting a lot of\n",
    "# rows with exactly the same values of the magnitudes in ugrizY bands.\n",
    "diffmag_fix = 0.001\n",
    "\n",
    "# Maximum percentage of time of a LC with magnitude larger\n",
    "# than 16 mags\n",
    "Porcentage_maxTime = 18.0 # percentage\n",
    "\n",
    "# Maximum apparent magnitude. LSST saturates for objects brighter than 16 mag.\n",
    "maxMag = 16.0 # mag\n",
    "\n",
    "#------------------------------------------\n",
    "\n",
    "textfile_1 = open(DirSaveOutput+'2_Lensing_lc_PLASTICC_format_.txt', 'w')\n",
    "\n",
    "now = datetime.datetime.now() # Read the time and date right now\n",
    "text_timenow = now.strftime(\"%m/%d/%Y\")\n",
    "text_Date   = 'COMMENT: Magnified light curves and file created by Arturo Avelino on %s\\n'%text_timenow\n",
    "text_line = '#'+'-'*30 + '\\n'\n",
    "    \n",
    "textfile_1.write(\"SURVEY: LSST\\n\")\n",
    "textfile_1.write(\"FILTERS: ugrizY\\n\")\n",
    "textfile_1.write(\"MODEL: Microlensing by Rosanne Di Stefano\\n\")\n",
    "textfile_1.write(\"MODEL_PARNAMES: tau_e,u_0\\n\")\n",
    "textfile_1.write(text_Date)\n",
    "# textfile_1.write()\n",
    "\n",
    "countEvent = 0\n",
    "\n",
    "print \"# Number of useful rows written in the text file for a given star,\"\n",
    "print \"# it is, when there is a change in magnitude at least > %s mag.\"%diffmag_fix\n",
    "\n",
    "# Reset variables.\n",
    "initial_row = 0\n",
    "\n",
    "for j in range(5): # Loop over the light curves (i.e., stars) # tmp  \n",
    "    \n",
    "    ra  = starsdata['f0'][j]\n",
    "    dec = starsdata['f1'][j]\n",
    "    \n",
    "    # Apparent magnitude star in different bands:\n",
    "    magStar_u = starsdata['f2'][j]\n",
    "    magStar_g = starsdata['f3'][j]\n",
    "    magStar_r = starsdata['f4'][j]\n",
    "    magStar_i = starsdata['f5'][j]\n",
    "    magStar_z = starsdata['f6'][j]\n",
    "    magStar_y = starsdata['f7'][j]\n",
    "    \n",
    "    # Number of observations in that light curve:\n",
    "    number_rows = int(lens_metadata[j][1])\n",
    "    \n",
    "    #------------------------------------------\n",
    "    # From the main magnification table, upload the information\n",
    "    # of the magnification of an individual LC.\n",
    "    # It is a very large file so I use pandas to read the datatable\n",
    "    # by portions.\n",
    "    lens_data = pd.read_table(DirLensFiles+'tau_dist_LCs.dat', \n",
    "                      skiprows=initial_row, nrows=number_rows, sep='\\s+')\n",
    "    \n",
    "    if debug:\n",
    "        print \"%s\"%('-'*30)\n",
    "        print \"Initial_row = %s, number_rows = %s\"%(initial_row, number_rows)\n",
    "        print \"First row of the light curve\", lens_data.values[0]\n",
    "    \n",
    "    ##########################################################\n",
    "    \n",
    "    # Loop over the magnification rows for a given LC in the \n",
    "    # lensing file.\n",
    "    # I use this loop just to count the number of rows and to\n",
    "    # discard the magnified stars with magnitudes larger than\n",
    "    # 16 mags for more than a given porcentage of time.\n",
    "    \n",
    "    # Reset the counter for the number of rows for this event\n",
    "    # based on the change in magnitude in u band:\n",
    "    countNROW = 0\n",
    "    count_AboveMaxMag = 0\n",
    "    \n",
    "    for ii in range(1,len(lens_data)):\n",
    "\n",
    "        Magnific = lens_data.values[ii][2]\n",
    "        mag_u = Magnification2mag(Magnific, magStar_u)\n",
    "        \n",
    "        # Compute the difference between the previous magnitude \n",
    "        # and the current value:\n",
    "        if ii > 0:\n",
    "            Magnific_prev = lens_data.values[int(ii-1)][2]\n",
    "            mag_u_prev = Magnification2mag(Magnific_prev, magStar_u)\n",
    "            diffmag = abs(round(mag_u,3) - round(mag_u_prev,3))\n",
    "        else: diffmag = 1\n",
    "        \n",
    "        if diffmag >= diffmag_fix: \n",
    "            countNROW += 1\n",
    "            if mag_u < maxMag:\n",
    "                count_AboveMaxMag += 1\n",
    "                \n",
    "    # Determine the porcentage of MJD with mag larger than \n",
    "    # the magnitude threshold:\n",
    "    porcentage_int1 = (float(count_AboveMaxMag)*100.)/(float(countNROW+2))\n",
    "    \n",
    "    #########################################\n",
    "\n",
    "    # Consider the LCs that have less than the maximum \n",
    "    # porcentage of time of a LC with magnitude larger\n",
    "    # than the threshold magnitude only.\n",
    "    \n",
    "    if porcentage_int1 < Porcentage_maxTime:\n",
    "        \n",
    "        countEvent = countEvent + 1\n",
    "\n",
    "        textfile_1.write(\" \\n\")\n",
    "        textfile_1.write(text_line)\n",
    "        textfile_1.write(\" \\n\")\n",
    "        textfile_1.write(\"START_EVENT: %s \\n\"%countEvent)\n",
    "        \n",
    "        # Write the metadata info for this star.\n",
    "        textfile_1.write(\"NROW: %s  RA: %.5f   DEC: %.5f \\n\"%(\n",
    "            (countNROW+2), ra, dec))\n",
    "    \n",
    "        #-----------------------------------------\n",
    "\n",
    "        # Write the parameters of the specific event:\n",
    "\n",
    "        textfile_1.write(\"PARVAL: %.5f  %.5f \\n\"%(\n",
    "            lens_metadata[j][2], lens_metadata[j][3]) )\n",
    "        \n",
    "        \"\"\" \n",
    "        textfile_1.write(\"PARVAL: \")\n",
    "        for k in range(len(ParsModel[j])):\n",
    "            textfile_1.write(\"%.3f  \"%ParsModel[j][k])\n",
    "        textfile_1.write(\" \\n\")\n",
    "        \"\"\"\n",
    "\n",
    "        #---------------------------------\n",
    "\n",
    "        time_first = lens_data.values[0][1] # initial time\n",
    "\n",
    "        # Magnitudes of the template\n",
    "        textfile_1.write(\"T: %9.3f  %.3f  %.3f  %.3f  %.3f  %.3f  \\\n",
    "%.3f \\n\"%(\n",
    "            time_first, magStar_u, magStar_g, magStar_r, magStar_i,\n",
    "            magStar_z, magStar_y))\n",
    "        \n",
    "        # OLD:\n",
    "        # Write the first event: it is equal in mags to template\n",
    "        # textfile_1.write(\"S: %9.4f  %.3f  %.3f  %.3f  %.3f  %.3f  \\\n",
    "        # %.3f \\n\"%(\n",
    "        #     time_first, magStar_u, magStar_g, magStar_r, magStar_i,\n",
    "        #     magStar_z, magStar_y))\n",
    "\n",
    "        #---------------------------------------------------\n",
    "        # Loop over the magnification file for a given star\n",
    "\n",
    "        # Creating the plot \n",
    "        plt.figure()\n",
    "\n",
    "        time_list = []\n",
    "        mag_u_list = []\n",
    "        mag_g_list = []\n",
    "\n",
    "        time_list  += [time_first]\n",
    "        mag_u_list += [magStar_u]\n",
    "        mag_g_list += [magStar_g]\n",
    "\n",
    "        countNROW_2 = 0\n",
    "        for ii in range(1,len(lens_data)):\n",
    "\n",
    "            time_int = lens_data.values[ii][1]\n",
    "            Magnific = lens_data.values[ii][2]\n",
    "\n",
    "            mag_u = Magnification2mag(Magnific, magStar_u)\n",
    "            mag_g = Magnification2mag(Magnific, magStar_g)\n",
    "            mag_r = Magnification2mag(Magnific, magStar_r)\n",
    "            mag_i = Magnification2mag(Magnific, magStar_i)\n",
    "            mag_z = Magnification2mag(Magnific, magStar_z)\n",
    "            mag_y = Magnification2mag(Magnific, magStar_y)\n",
    "\n",
    "            # Compute the difference between the previous magnitude \n",
    "            # and the current value, and print only the times\n",
    "            # when the difference is larger than \"diffmag_fix\"\n",
    "            if ii > 0:\n",
    "                Magnific_prev = lens_data.values[int(ii-1)][2]\n",
    "                mag_u_prev = Magnification2mag(Magnific_prev, magStar_u)\n",
    "                diffmag = abs(round(mag_u,3) - round(mag_u_prev,3))\n",
    "            else: diffmag = 1\n",
    "\n",
    "            if diffmag >= diffmag_fix:\n",
    "\n",
    "                text_05 = 'S: %9.3f  %.3f  %.3f  %.3f  %.3f  %.3f  %.3f \\n'%(\n",
    "                    time_int, mag_u, mag_g, mag_r, mag_i, mag_z, mag_y)\n",
    "                textfile_1.write(text_05)\n",
    "\n",
    "                countNROW_2 = countNROW_2 + 1\n",
    "\n",
    "                time_list  += [time_int]\n",
    "                mag_u_list += [mag_u] \n",
    "                mag_g_list += [mag_g]  \n",
    "                \n",
    "                # A hack to define the last MJD. I will use this to \n",
    "                # write down the last event where the MJD will the the\n",
    "                # last used time + 1 day, and the magnitudes will\n",
    "                # be the same than the template.\n",
    "                time_int2 = time_int\n",
    "\n",
    "        # Write the last event: it is equal in mags to template\n",
    "        textfile_1.write(\"S: %9.3f  %.3f  %.3f  %.3f  %.3f  %.3f  \\\n",
    "%.3f \\n\"%((time_int2+1), magStar_u, magStar_g, magStar_r, magStar_i,\n",
    "            magStar_z, magStar_y))        \n",
    "        \n",
    "        #------------- PLOT THE LCs -------------------\n",
    "        \n",
    "        mag_u_np = np.array(mag_u_list)\n",
    "        \n",
    "        # the number is to create an offset:\n",
    "        # mag_g_np = np.array(mag_g_list) + 2 \n",
    "\n",
    "        # Plot with points and lines (recommended)\n",
    "        plt.plot(time_list, mag_u_list, lw=0.5, marker=\".\", ms=2) \n",
    "        \n",
    "        # just the line:\n",
    "        # plt.plot(time_list, mag_u_list, lw=2, ls = \"-\", color = 'blue') \n",
    "        # plt.plot(time_list, mag_g_list, lw=2, ls = \"-\", color = 'green') \n",
    "\n",
    "        plt.xlim(min(time_list)-100, max(time_list)+50)\n",
    "        plt.ylim(max(mag_u_list)+0.1, min(mag_u_list)-0.1)\n",
    "\n",
    "        plt.xlabel('time (days)')\n",
    "        plt.ylabel('apparent magnitude')\n",
    "        plt.title('u-band light curves of a lensed LSST star')\n",
    "\n",
    "        plt.savefig(DirSaveOutput+'2_plots/plot_%s.png'%countEvent, dpi=120)\n",
    "        plt.close()\n",
    "        \n",
    "        textfile_1.write(\"END_EVENT: %s \\n\"%countEvent)\n",
    "        print \"j = %s: countNROW = %s, countNROW_2 = %s\"%(j, countNROW,countNROW_2)\n",
    "\n",
    "    #--------------------------------------\n",
    "    # Update the value of \"initial_row\"\n",
    "    initial_row = initial_row + number_rows\n",
    "    \n",
    "    if debug:\n",
    "        print \"updated initial_row = %s\"%initial_row\n",
    "        \n",
    "textfile_1.close()"
   ]
  },
  {
   "cell_type": "code",
   "execution_count": 33,
   "metadata": {},
   "outputs": [],
   "source": [
    "textfile_1.close();textfile_1.close();textfile_1.close();\n",
    "textfile_1.close();textfile_1.close();textfile_1.close();\n",
    "plt.close();plt.close();plt.close();plt.close();plt.close();\n",
    "plt.close();plt.close();plt.close();plt.close();plt.close();\n",
    "plt.close();plt.close();plt.close();plt.close();plt.close();\n",
    "plt.close();plt.close();plt.close();plt.close();plt.close();"
   ]
  },
  {
   "cell_type": "code",
   "execution_count": null,
   "metadata": {},
   "outputs": [],
   "source": []
  },
  {
   "cell_type": "code",
   "execution_count": null,
   "metadata": {},
   "outputs": [],
   "source": []
  },
  {
   "cell_type": "code",
   "execution_count": null,
   "metadata": {},
   "outputs": [],
   "source": []
  },
  {
   "cell_type": "code",
   "execution_count": null,
   "metadata": {},
   "outputs": [],
   "source": []
  }
 ],
 "metadata": {
  "anaconda-cloud": {},
  "kernelspec": {
   "display_name": "Python 2",
   "language": "python",
   "name": "python2"
  },
  "language_info": {
   "codemirror_mode": {
    "name": "ipython",
    "version": 2
   },
   "file_extension": ".py",
   "mimetype": "text/x-python",
   "name": "python",
   "nbconvert_exporter": "python",
   "pygments_lexer": "ipython2",
   "version": "2.7.14"
  }
 },
 "nbformat": 4,
 "nbformat_minor": 2
}
