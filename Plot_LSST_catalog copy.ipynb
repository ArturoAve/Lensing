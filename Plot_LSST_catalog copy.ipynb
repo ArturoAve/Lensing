{
 "cells": [
  {
   "cell_type": "markdown",
   "metadata": {},
   "source": [
    "# Plot the LSST star catalog\n",
    "\n",
    "Create alse subsamples of the catalog"
   ]
  },
  {
   "cell_type": "markdown",
   "metadata": {},
   "source": [
    "### User"
   ]
  },
  {
   "cell_type": "code",
   "execution_count": 1,
   "metadata": {},
   "outputs": [],
   "source": [
    "#     Patch of the sky to plot and extract\n",
    "\n",
    "##     The whole sky:\n",
    "\n",
    "# NOTE: I have to run once the script to determine 'num_of_zeros'\n",
    "# for a specific range of (ra,dec).\n",
    "\n",
    "\n",
    "\"\"\" \n",
    "ra_min = 0.0; ra_max = 360.0;\n",
    "dec_min = -90.0; dec_max = 90.0;\n",
    "# 'num_of_zeros' is specific to the given (ra, dec) \n",
    "# and does NOT depend on 'JumpsSubsample'.\n",
    "# 16922944 is the total number of stars in the LSST catalog\n",
    "num_of_zeros = 16922944\n",
    "# Jump in the data to create a subsample. Jump size?:\n",
    "JumpsSubsample = 300; \n",
    "# Number of stars to include in the subsample when plotting \n",
    "# the data without jumps (see second section of notebook)\n",
    "num_stars_subsample = 25000 \"\"\"\n",
    "\n",
    "\n",
    "#     Patch of the sky observed by OGLE:\n",
    "ra_min = 250.0; ra_max = 283.0;\n",
    "dec_min = -40.0; dec_max = -15.0;\n",
    "# 'num_of_zeros' is specific to the given (ra, dec) \n",
    "# and does NOT depend on 'JumpsSubsample'.\n",
    "num_of_zeros = 6047829 # \n",
    "# Jump in the data to create a subsample. Jump size?:\n",
    "JumpsSubsample = 100; \n",
    "# Number of stars to include in the subsample when plotting \n",
    "# the data without jumps (see second section of notebook)\n",
    "num_stars_subsample = 5000\n",
    "\n",
    "\"\"\"\n",
    "#    Patch of the sky out of the Milky Way buldge\n",
    "ra_min = 150.0; ra_max = 180.0;\n",
    "dec_min = 0.0; dec_max = 25.0;\n",
    "# 'num_of_zeros' is specific to the given (ra, dec) \n",
    "# and does NOT depend on 'JumpsSubsample'.\n",
    "num_of_zeros = 13185 \n",
    "# Jump in the data to create a subsample. Jump size?:\n",
    "JumpsSubsample = 10; \n",
    "# Number of stars to include in the subsample when plotting \n",
    "# the data without jumps (see second section of notebook)\n",
    "num_stars_subsample = 5000 \"\"\"\n",
    "\n",
    "# ---------------------------------------------------\n",
    "\n",
    "# Create a text file with -ALL- the data that lie within the\n",
    "# selected patch of the sky?\n",
    "# Usually I use the option 'False'.\n",
    "CreateSample = False\n",
    "\n",
    "# Note a text file will be created by default with the data that \n",
    "# lie within the selected patch of the sky but considering only \n",
    "# every given data based on \"jumps\" defined by me.\n",
    "\n",
    "# ---------------------------------------------------\n",
    "\n",
    "# Dir of simulated LSST star catalog\n",
    "DirLSSTStarCatalog = \"/Users/arturo/Documents/Research/LSST/Catalog/\"\n",
    "\n",
    "# Dir save output\n",
    "DirSaveOutput = \"/Users/arturo/Documents/Research/LSST/Catalog/Subsamples/\"\n",
    "\n",
    "# -------------------------------\n",
    "# Given that javascript doesn't work in JupyterLab, I have to set the \n",
    "# name of the notebook by hand\n",
    "NotebookName = 'Plot_LSST_catalog.ipynb'\n"
   ]
  },
  {
   "cell_type": "markdown",
   "metadata": {},
   "source": [
    "------"
   ]
  },
  {
   "cell_type": "markdown",
   "metadata": {},
   "source": [
    "### Automatic"
   ]
  },
  {
   "cell_type": "code",
   "execution_count": 2,
   "metadata": {},
   "outputs": [
    {
     "data": {
      "text/plain": [
       "9"
      ]
     },
     "execution_count": 2,
     "metadata": {},
     "output_type": "execute_result"
    }
   ],
   "source": [
    "import numpy as np\n",
    "# import pandas as pd\n",
    "import os # To use command line like instructions\n",
    "import glob # To read the files in my directory\n",
    "from matplotlib import pyplot as plt\n",
    "\n",
    "5+4"
   ]
  },
  {
   "cell_type": "markdown",
   "metadata": {},
   "source": [
    "#### Useful functions"
   ]
  },
  {
   "cell_type": "code",
   "execution_count": 3,
   "metadata": {},
   "outputs": [
    {
     "name": "stdout",
     "output_type": "stream",
     "text": [
      "True False False\n"
     ]
    }
   ],
   "source": [
    "# Function to identify if a string is an integer number or a letter.\n",
    "# This will be used in the dictionary construction to properly read some SN names.\n",
    "\n",
    "def is_number(s):\n",
    "    try:\n",
    "        int(s)\n",
    "        return True\n",
    "    except ValueError:\n",
    "        return False\n",
    "\n",
    "# Tests\n",
    "print is_number('5'), is_number('e'), is_number(' ')\n",
    "# True False"
   ]
  },
  {
   "cell_type": "code",
   "execution_count": 4,
   "metadata": {},
   "outputs": [
    {
     "name": "stdout",
     "output_type": "stream",
     "text": [
      "2018-07-12 11:10:26.972833\n"
     ]
    }
   ],
   "source": [
    "# Get the current date and time\n",
    "import datetime \n",
    "\n",
    "# Read the time and date now\n",
    "now = datetime.datetime.now()\n",
    "print now"
   ]
  },
  {
   "cell_type": "code",
   "execution_count": null,
   "metadata": {},
   "outputs": [],
   "source": []
  },
  {
   "cell_type": "code",
   "execution_count": null,
   "metadata": {},
   "outputs": [],
   "source": []
  },
  {
   "cell_type": "markdown",
   "metadata": {},
   "source": [
    "------"
   ]
  },
  {
   "cell_type": "markdown",
   "metadata": {},
   "source": [
    "# Section 1\n",
    "\n",
    "### Create an array with the stars from a given region in sky"
   ]
  },
  {
   "cell_type": "code",
   "execution_count": 5,
   "metadata": {},
   "outputs": [
    {
     "name": "stdout",
     "output_type": "stream",
     "text": [
      "# Starting time of computing: 2018-07-12 (yyyy-mm-dd); 11:10 hrs.\n"
     ]
    }
   ],
   "source": [
    "# Initialize the timing of computation\n",
    "now_start = datetime.datetime.now()\n",
    "time_start = now_start.strftime(\"%Y-%m-%d (yyyy-mm-dd); %H:%M hrs.\")\n",
    "print \"# Starting time of computing: %s\"%time_start"
   ]
  },
  {
   "cell_type": "markdown",
   "metadata": {},
   "source": [
    "Main loop"
   ]
  },
  {
   "cell_type": "code",
   "execution_count": 6,
   "metadata": {},
   "outputs": [
    {
     "name": "stdout",
     "output_type": "stream",
     "text": [
      "# 6047829 stars within (250.0<ra<283.0, -40.0<dec<-15.0).\n",
      "# 60478 stars in -subsample- every 100 jumps within (250.0<ra<283.0, -40.0<dec<-15.0).\n",
      "#------------------------\n"
     ]
    }
   ],
   "source": [
    "#      Main loop\n",
    "\n",
    "#------------------------\n",
    "# Initialize array with zeros\n",
    "\n",
    "# Create the sample text file if desired.\n",
    "if CreateSample: ra_dec_np = np.zeros([num_of_zeros,2])\n",
    "else: ra_dec_np = np.zeros([10,2])\n",
    "\n",
    "# Define the size of the numpy array for the subsample\n",
    "# create from considering every given data.\n",
    "num_of_zeros_sub = int(float(num_of_zeros)/float(JumpsSubsample)) + 1 \n",
    "# Initialize array with zeros:\n",
    "ra_dec_sub_np = np.zeros([num_of_zeros_sub,2])\n",
    "\n",
    "#------------------------\n",
    "# Open to read the main LSST star catalog\n",
    "LSST_catalog_data = open(DirLSSTStarCatalog+'lsst_star_table.dat', 'r')\n",
    "\n",
    "#------------------------\n",
    "# Create a text file to write down the sample.\n",
    "if CreateSample:\n",
    "    Sample_file = open(DirSaveOutput+'LSST_ra_%.0f_%.0f_dec_%.0f_%.0f.dat'%(\n",
    "        ra_min, ra_max, dec_min, dec_max), 'w')\n",
    "    Sample_file.write(\"# ra   dec   u   g   r   i   z   y   E(B-V) \\n\")\n",
    "    \n",
    "# Create a text file to write down the subsample.\n",
    "Subsample_file = open(DirSaveOutput+'LSST_ra_%.0f_%.0f_dec_%.0f_%.0f_Jump_%s.dat'%(\n",
    "    ra_min, ra_max, dec_min, dec_max, JumpsSubsample), 'w')\n",
    "Subsample_file.write(\"# ra   dec   u   g   r   i   z   y   E(B-V) \\n\")\n",
    "\n",
    "#------------------------\n",
    "# Reset counters\n",
    "count_LCs = 0\n",
    "count_LCs_sub = 0 # \n",
    "\n",
    "for line in LSST_catalog_data:\n",
    "    \n",
    "    # Reset variables\n",
    "    ra = 0.0; dec = 0.0\n",
    "    # uu=0.0; gg=0.0; rr=0.0; ii=0.0; zz=0.0; yy=0.0;\n",
    "    \n",
    "    # Define (ra, dec)\n",
    "    if is_number(line[9]):\n",
    "        ra = float(line[:10])\n",
    "        dec = float(line[11:20])\n",
    "    else: \n",
    "        ra = float(line[:9])\n",
    "        dec = float(line[10:19])\n",
    "        \n",
    "    if ra>ra_min and ra<ra_max and dec>dec_min and dec<dec_max:\n",
    "        if CreateSample:\n",
    "            ra_dec_np[count_LCs][0] = ra\n",
    "            ra_dec_np[count_LCs][1] = dec\n",
    "            Sample_file.write(\"%s\"%line)\n",
    "        \n",
    "        count_LCs += 1\n",
    "        \n",
    "        # Create a subarray by saving every given values.\n",
    "        # The jump between values is set with 'JumpsSubsample'.\n",
    "        if (float(count_LCs)/float(JumpsSubsample)).is_integer():\n",
    "            ra_dec_sub_np[count_LCs_sub][0] = ra\n",
    "            ra_dec_sub_np[count_LCs_sub][1] = dec\n",
    "            # Write text file:\n",
    "            Subsample_file.write(\"%s\"%line)\n",
    "            \n",
    "            count_LCs_sub += 1\n",
    "    \n",
    "#--------------------------\n",
    "\n",
    "LSST_catalog_data.close();\n",
    "Subsample_file.close();\n",
    "if CreateSample: Sample_file.close();\n",
    "\n",
    "print \"# %s stars within (%s<ra<%s, %s<dec<%s).\"%(\n",
    "    count_LCs, ra_min, ra_max, dec_min, dec_max)\n",
    "print \"# %s stars in -subsample- every %s jumps within (%s<ra<%s, %s<dec<%s).\"%(\n",
    "    count_LCs_sub, JumpsSubsample, ra_min, ra_max, dec_min, dec_max)\n",
    "print \"#------------------------\""
   ]
  },
  {
   "cell_type": "code",
   "execution_count": 7,
   "metadata": {},
   "outputs": [],
   "source": [
    "# 16922944 stars within (0.0<ra<360.0, -90.0<dec<90.0).\n",
    "# 56409 stars in -subsample- every 300 jumps within (0.0<ra<360.0, -90.0<dec<90.0).\n",
    "#------------------------\n",
    "# 16922944 stars within (0.0<ra<360.0,-90.0<dec<90.0).\n",
    "# 169229 stars subsample every 100 jumps within (0.0<ra<360.0,-90.0<dec<90.0).\n",
    "#------------------------\n",
    "# 13185 stars within (150.0 < ra < 180.0, 0.0 < dec < 25.0).\n",
    "# 131 stars subsample every 100 jumps within (150.0 < ra < 180.0, 0.0 < dec < 25.0).\n",
    "#------------------------\n",
    "# 5850381 stars within (250.0 < ra < 280.0, -40.0 < dec < -15.0).\n",
    "# 5850381 stars subsample every 1000 jumps within (250.0 < ra < 280.0, -40.0 < dec < -15.0)."
   ]
  },
  {
   "cell_type": "code",
   "execution_count": 8,
   "metadata": {},
   "outputs": [],
   "source": [
    "# Just in case: close the reading of the LSST catalog file.\n",
    "# Useful when there are an error during the loop\n",
    "\n",
    "LSST_catalog_data.close();LSST_catalog_data.close();\n",
    "\n",
    "Subsample_file.close();Subsample_file.close();\n",
    "if CreateSample: \n",
    "    Sample_file.close();Sample_file.close();"
   ]
  },
  {
   "cell_type": "code",
   "execution_count": 9,
   "metadata": {},
   "outputs": [
    {
     "name": "stdout",
     "output_type": "stream",
     "text": [
      "#     Time Summary \n",
      "# Starting time of computing: 2018-07-12 (yyyy-mm-dd); 11:10 hrs.\n",
      "# Ending time of computing: 2018-07-12 (yyyy-mm-dd); 11:11 hrs.\n",
      "# Total time of computing:  0:00:58.725573\n",
      "# More than 6047829 iterations in the loop.\n",
      "#---------------------------\n"
     ]
    }
   ],
   "source": [
    "print \"#     Time Summary \"\n",
    "print \"# Starting time of computing: %s\"%time_start\n",
    "#----------------------\n",
    "now_end = datetime.datetime.now()\n",
    "time_end = now_end.strftime(\"%Y-%m-%d (yyyy-mm-dd); %H:%M hrs.\")\n",
    "print \"# Ending time of computing: %s\"%time_end\n",
    "#----------------------\n",
    "# Compute the time the MCMC computations took:\n",
    "time_compute = now_end - now_start\n",
    "print \"# Total time of computing:  %s\"%time_compute\n",
    "print \"# More than %s iterations in the loop.\"%count_LCs\n",
    "print \"#---------------------------\""
   ]
  },
  {
   "cell_type": "code",
   "execution_count": 10,
   "metadata": {},
   "outputs": [],
   "source": [
    "#     Time Summary \n",
    "# Starting time of computing: 2018-07-11 (yyyy-mm-dd); 14:33 hrs.\n",
    "# Ending time of computing: 2018-07-11 (yyyy-mm-dd); 14:34 hrs.\n",
    "# Total time of computing:  0:00:32.733897\n",
    "# More than 16922944 iterations in the loop.\n",
    "#---------------------------"
   ]
  },
  {
   "cell_type": "markdown",
   "metadata": {},
   "source": [
    "Sanity check the number of data"
   ]
  },
  {
   "cell_type": "code",
   "execution_count": 11,
   "metadata": {},
   "outputs": [
    {
     "name": "stdout",
     "output_type": "stream",
     "text": [
      "# The first numbers below have to be equal to those reported above, \n",
      "# specially for subsample.\n",
      "# 60479 stars in -subsample- every 100 jumps within (250.0<ra<283.0, -40.0<dec<-15.0).\n"
     ]
    }
   ],
   "source": [
    "print \"# The first numbers below have to be equal to those reported above, \\n\\\n",
    "# specially for subsample.\"\n",
    "if CreateSample:\n",
    "    print \"# %s stars within (%s<ra<%s, %s<dec<%s).\"%(\n",
    "        len(ra_dec_np), ra_min, ra_max, dec_min, dec_max)\n",
    "print \"# %s stars in -subsample- every %s jumps within (%s<ra<%s, %s<dec<%s).\"%(\n",
    "    len(ra_dec_sub_np), JumpsSubsample, ra_min, ra_max, dec_min, dec_max)"
   ]
  },
  {
   "cell_type": "code",
   "execution_count": 12,
   "metadata": {},
   "outputs": [],
   "source": [
    "# 169230 stars in subsample every 100 jumps within (0.0<ra<360.0, -90.0<dec<90.0).\n",
    "# 1693 stars subsample every 10000 jumps within (0.0 < ra < 360.0, -90.0 < dec < 90.0).\n",
    "# 5850381 stars within (250.0 < ra < 280.0, -40.0 < dec < -15.0)."
   ]
  },
  {
   "cell_type": "code",
   "execution_count": null,
   "metadata": {},
   "outputs": [],
   "source": []
  },
  {
   "cell_type": "markdown",
   "metadata": {},
   "source": [
    "#### Save arrays to a text file (Optional)"
   ]
  },
  {
   "cell_type": "code",
   "execution_count": null,
   "metadata": {},
   "outputs": [],
   "source": [
    "print \"# Saving the numpy array: ...\"\n",
    "\n",
    "if CreateSample:\n",
    "    np.savetxt(DirSaveOutput+\"LSST_ra_%.0f_%.0f_dec_%.0f_%.0f_RA_DEC.dat\"%(\n",
    "        ra_min, ra_max, dec_min, dec_max), ra_dec_np, fmt='%8.4f  %9.4f')\n",
    "np.savetxt(DirSaveOutput+\"LSST_ra_%.0f_%.0f_dec_%.0f_%.0f_Jump_%s_RA_DEC.dat\"%(\n",
    "    ra_min, ra_max, dec_min, dec_max, JumpsSubsample), ra_dec_sub_np, fmt='%8.4f  %9.4f')\n",
    "\n",
    "print \"# ... done.\""
   ]
  },
  {
   "cell_type": "code",
   "execution_count": null,
   "metadata": {},
   "outputs": [],
   "source": []
  },
  {
   "cell_type": "markdown",
   "metadata": {},
   "source": [
    "### Plot"
   ]
  },
  {
   "cell_type": "code",
   "execution_count": 13,
   "metadata": {},
   "outputs": [
    {
     "name": "stdout",
     "output_type": "stream",
     "text": [
      "# Starting time of computing: 2018-07-12 (yyyy-mm-dd); 11:11 hrs.\n"
     ]
    }
   ],
   "source": [
    "# Initialize the timing of computation\n",
    "now_start = datetime.datetime.now()\n",
    "time_start = now_start.strftime(\"%Y-%m-%d (yyyy-mm-dd); %H:%M hrs.\")\n",
    "print \"# Starting time of computing: %s\"%time_start"
   ]
  },
  {
   "cell_type": "code",
   "execution_count": 14,
   "metadata": {},
   "outputs": [],
   "source": [
    "#    PLOTTING\n",
    "\n",
    "# Color points\n",
    "# Mycolor_points = 'red'\n",
    "Mycolor_points = 'black'\n",
    "\n",
    "fig = plt.figure() \n",
    "\n",
    "plt.plot(ra_dec_sub_np[:-10,0], ra_dec_sub_np[:-10,1], \n",
    "        Mycolor_points, marker='.', ms=1, ls='None', alpha=0.3)\n",
    "\n",
    "plt.gca().invert_xaxis() # Invert x-axis\n",
    "plt.xlabel(\"RA\")\n",
    "plt.ylabel(\"DEC\")\n",
    "plt.title(\"LSST star catalog (%s)\"%len(ra_dec_sub_np))\n",
    "\n",
    "plt.savefig(DirSaveOutput+'LSST_ra_%.0f_%.0f_dec_%.0f_%.0f_Jump_%s_Plot.png'%(\n",
    "    ra_min, ra_max, dec_min, dec_max, JumpsSubsample), dpi=100)\n",
    "plt.close()\n"
   ]
  },
  {
   "cell_type": "code",
   "execution_count": 15,
   "metadata": {},
   "outputs": [],
   "source": [
    "plt.close();plt.close();plt.close();"
   ]
  },
  {
   "cell_type": "code",
   "execution_count": 16,
   "metadata": {},
   "outputs": [
    {
     "name": "stdout",
     "output_type": "stream",
     "text": [
      "#     Time Summary \n",
      "# Starting time of computing: 2018-07-12 (yyyy-mm-dd); 11:11 hrs.\n",
      "# Ending time of computing: 2018-07-12 (yyyy-mm-dd); 11:11 hrs.\n",
      "# Total time of computing:  0:00:00.700110\n",
      "# 60479 data points plotted.\n",
      "#---------------------------\n"
     ]
    }
   ],
   "source": [
    "print \"#     Time Summary \"\n",
    "print \"# Starting time of computing: %s\"%time_start\n",
    "#----------------------\n",
    "now_end = datetime.datetime.now()\n",
    "time_end = now_end.strftime(\"%Y-%m-%d (yyyy-mm-dd); %H:%M hrs.\")\n",
    "print \"# Ending time of computing: %s\"%time_end\n",
    "#---------------------\n",
    "# Compute the time the MCMC computations took:\n",
    "time_compute_mcmc = now_end - now_start\n",
    "print \"# Total time of computing:  %s\"%time_compute_mcmc\n",
    "print \"# %s data points plotted.\"%len(ra_dec_sub_np)\n",
    "print \"#---------------------------\""
   ]
  },
  {
   "cell_type": "code",
   "execution_count": null,
   "metadata": {},
   "outputs": [],
   "source": []
  },
  {
   "cell_type": "code",
   "execution_count": null,
   "metadata": {},
   "outputs": [],
   "source": []
  },
  {
   "cell_type": "code",
   "execution_count": null,
   "metadata": {},
   "outputs": [],
   "source": []
  },
  {
   "cell_type": "markdown",
   "metadata": {},
   "source": [
    "----------"
   ]
  },
  {
   "cell_type": "markdown",
   "metadata": {},
   "source": [
    "# Section 2\n",
    "### Plot the a given portion of the LSST catalog\n",
    "\n",
    "The key difference with respect to the script above is that now I'll not -jump- every given lines to create a subsample but instead I will use all the rows of data in a given range of rows from the LSST catalog.\n"
   ]
  },
  {
   "cell_type": "code",
   "execution_count": null,
   "metadata": {},
   "outputs": [],
   "source": [
    "# Initialize the timing of computation\n",
    "now_start = datetime.datetime.now()\n",
    "time_start = now_start.strftime(\"%Y-%m-%d (yyyy-mm-dd); %H:%M hrs.\")\n",
    "print \"# Starting time of computing: %s\"%time_start"
   ]
  },
  {
   "cell_type": "code",
   "execution_count": null,
   "metadata": {},
   "outputs": [],
   "source": [
    "# Initialize array with zeros\n",
    "\n",
    "# Define the size of the numpy array for the subsample\n",
    "# create from considering every given data.\n",
    "num_of_zeros_sub = num_stars_subsample \n",
    "# Initialize array with zeros:\n",
    "ra_dec_sub_np = np.zeros([num_of_zeros_sub,2])\n",
    "\n",
    "#------------------------\n",
    "# Open to read the main LSST star catalog\n",
    "LSST_catalog_data = open(DirLSSTStarCatalog+'lsst_star_table.txt', 'r')\n",
    "\n",
    "#------------------------\n",
    "# Reset counters\n",
    "count_LCs_sub = 0 # \n",
    "count_row =0\n",
    "\n",
    "for line in LSST_catalog_data:\n",
    "    \n",
    "    if count_LCs_sub == num_stars_subsample: break\n",
    "    \n",
    "    # Reset variables\n",
    "    ra = 0.0; dec = 0.0\n",
    "    \n",
    "    # Define (ra, dec)\n",
    "    if is_number(line[9]):\n",
    "        ra = float(line[:10])\n",
    "        dec = float(line[11:20])\n",
    "    else: \n",
    "        ra = float(line[:9])\n",
    "        dec = float(line[10:19])\n",
    "        \n",
    "    if ra>ra_min and ra<ra_max and dec>dec_min and dec<dec_max:\n",
    "        ra_dec_sub_np[count_LCs_sub][0] = ra\n",
    "        ra_dec_sub_np[count_LCs_sub][1] = dec\n",
    "        count_LCs_sub += 1\n",
    "        \n",
    "    count_row += 1\n",
    "     \n",
    "LSST_catalog_data.close();\n",
    "\n",
    "print \"# %s stars in -subsample- in the first %s rows within (%s<ra<%s, %s<dec<%s).\"%(\n",
    "    count_LCs_sub, count_row, ra_min, ra_max, dec_min, dec_max)\n",
    "print \"#------------------------\""
   ]
  },
  {
   "cell_type": "code",
   "execution_count": null,
   "metadata": {},
   "outputs": [],
   "source": [
    "# 100 stars in -subsample- in the first 100 rows within (0.0<ra<360.0, -90.0<dec<90.0).\n",
    "#------------------------"
   ]
  },
  {
   "cell_type": "code",
   "execution_count": null,
   "metadata": {},
   "outputs": [],
   "source": [
    "# Just in case: close the reading of the LSST catalog file.\n",
    "LSST_catalog_data.close();LSST_catalog_data.close();"
   ]
  },
  {
   "cell_type": "code",
   "execution_count": null,
   "metadata": {},
   "outputs": [],
   "source": [
    "print \"#     Time Summary \"\n",
    "print \"# Starting time of computing: %s\"%time_start\n",
    "#----------------------\n",
    "now_end = datetime.datetime.now()\n",
    "time_end = now_end.strftime(\"%Y-%m-%d (yyyy-mm-dd); %H:%M hrs.\")\n",
    "print \"# Ending time of computing: %s\"%time_end\n",
    "#----------------------\n",
    "# Compute the time the MCMC computations took:\n",
    "time_compute = now_end - now_start\n",
    "print \"# Total time of computing:  %s\"%time_compute\n",
    "print \"# %s iterations in the loop.\"%count_row\n",
    "print \"#---------------------------\""
   ]
  },
  {
   "cell_type": "code",
   "execution_count": null,
   "metadata": {},
   "outputs": [],
   "source": []
  },
  {
   "cell_type": "markdown",
   "metadata": {},
   "source": [
    "#### (Optional) Save arrays to a text file"
   ]
  },
  {
   "cell_type": "code",
   "execution_count": null,
   "metadata": {},
   "outputs": [],
   "source": [
    "print \"# Saving the numpy array: ...\"\n",
    "\n",
    "np.savetxt(DirSaveOutput+\"LSST__ra_%.0f_%.0f_dec_%.0f_%.0f_Stars_%s.dat\"%(\n",
    "    ra_min, ra_max, dec_min, dec_max, num_stars_subsample), \n",
    "    ra_dec_sub_np, fmt='%8.4f  %9.4f')\n",
    "\n",
    "print \"# ... done.\""
   ]
  },
  {
   "cell_type": "code",
   "execution_count": null,
   "metadata": {},
   "outputs": [],
   "source": []
  },
  {
   "cell_type": "markdown",
   "metadata": {},
   "source": [
    "### Plot\n",
    "This subsection is a copy/paste of the plotting section above"
   ]
  },
  {
   "cell_type": "code",
   "execution_count": null,
   "metadata": {},
   "outputs": [],
   "source": [
    "# Initialize the timing of computation\n",
    "now_start = datetime.datetime.now()\n",
    "time_start = now_start.strftime(\"%Y-%m-%d (yyyy-mm-dd); %H:%M hrs.\")\n",
    "print \"# Starting time of computing: %s\"%time_start"
   ]
  },
  {
   "cell_type": "code",
   "execution_count": null,
   "metadata": {},
   "outputs": [],
   "source": [
    "#    PLOTTING\n",
    "\n",
    "fig = plt.figure() \n",
    "\n",
    "plt.plot(ra_dec_sub_np[:-10,0], ra_dec_sub_np[:-10,1], \n",
    "        'black', marker='.', ms=1, ls='None', alpha=0.3)\n",
    "\n",
    "plt.xlabel(\"RA\")\n",
    "plt.ylabel(\"DEC\")\n",
    "plt.title(\"LSST star catalog (%s)\"%len(ra_dec_sub_np))\n",
    "\n",
    "plt.savefig(DirSaveOutput+'LSST__ra_%.0f_%.0f_dec_%.0f_%.0f_Stars_%s_Plot.png'%(\n",
    "    ra_min, ra_max, dec_min, dec_max, num_stars_subsample), dpi=100)\n",
    "plt.close()"
   ]
  },
  {
   "cell_type": "code",
   "execution_count": null,
   "metadata": {},
   "outputs": [],
   "source": [
    "plt.close();plt.close();plt.close();"
   ]
  },
  {
   "cell_type": "code",
   "execution_count": null,
   "metadata": {},
   "outputs": [],
   "source": [
    "print \"#     Time Summary \"\n",
    "print \"# Starting time of computing: %s\"%time_start\n",
    "#----------------------\n",
    "now_end = datetime.datetime.now()\n",
    "time_end = now_end.strftime(\"%Y-%m-%d (yyyy-mm-dd); %H:%M hrs.\")\n",
    "print \"# Ending time of computing: %s\"%time_end\n",
    "#----------------------\n",
    "# Compute the time the MCMC computations took:\n",
    "time_compute_mcmc = now_end - now_start\n",
    "print \"# Total time of computing:  %s\"%time_compute_mcmc\n",
    "print \"# %s data points plotted.\"%len(ra_dec_sub_np)\n",
    "print \"#---------------------------\""
   ]
  },
  {
   "cell_type": "code",
   "execution_count": null,
   "metadata": {},
   "outputs": [],
   "source": []
  },
  {
   "cell_type": "code",
   "execution_count": null,
   "metadata": {},
   "outputs": [],
   "source": []
  },
  {
   "cell_type": "code",
   "execution_count": null,
   "metadata": {},
   "outputs": [],
   "source": []
  },
  {
   "cell_type": "markdown",
   "metadata": {},
   "source": [
    "----------"
   ]
  },
  {
   "cell_type": "markdown",
   "metadata": {},
   "source": [
    "# Section 3\n",
    "# Determine the number of stars brighter/dimmer than a given magnitude from the LSST catalog"
   ]
  },
  {
   "cell_type": "markdown",
   "metadata": {},
   "source": [
    "### User"
   ]
  },
  {
   "cell_type": "code",
   "execution_count": 17,
   "metadata": {},
   "outputs": [],
   "source": [
    "# Apparent Magnitude limit\n",
    "# must be a float number\n",
    "appmag_lim = 21.0\n",
    "\n",
    "# Band: i"
   ]
  },
  {
   "cell_type": "markdown",
   "metadata": {},
   "source": [
    "#### Automatic\n",
    "\n",
    "#### Upload the LSST data from a subsample file"
   ]
  },
  {
   "cell_type": "code",
   "execution_count": 18,
   "metadata": {},
   "outputs": [
    {
     "name": "stdout",
     "output_type": "stream",
     "text": [
      "# Starting time of computing: 2018-07-12 (yyyy-mm-dd); 11:11 hrs.\n"
     ]
    }
   ],
   "source": [
    "# Initialize the timing of computation\n",
    "now_start = datetime.datetime.now()\n",
    "time_start = now_start.strftime(\"%Y-%m-%d (yyyy-mm-dd); %H:%M hrs.\")\n",
    "print \"# Starting time of computing: %s\"%time_start"
   ]
  },
  {
   "cell_type": "code",
   "execution_count": 19,
   "metadata": {},
   "outputs": [
    {
     "ename": "IOError",
     "evalue": "/Users/arturo/Documents/Research/LSST/Catalog/Subsamples/LSST_ra_250_283_dec_-40_-15.dat not found.",
     "output_type": "error",
     "traceback": [
      "\u001b[0;31m\u001b[0m",
      "\u001b[0;31mIOError\u001b[0mTraceback (most recent call last)",
      "\u001b[0;32m<ipython-input-19-3ba93a382cd3>\u001b[0m in \u001b[0;36m<module>\u001b[0;34m()\u001b[0m\n\u001b[1;32m      2\u001b[0m \u001b[0;34m\u001b[0m\u001b[0m\n\u001b[1;32m      3\u001b[0m \u001b[0mLSST_sample_filename\u001b[0m \u001b[0;34m=\u001b[0m \u001b[0;34m'LSST_ra_250_283_dec_-40_-15.dat'\u001b[0m\u001b[0;34m\u001b[0m\u001b[0m\n\u001b[0;32m----> 4\u001b[0;31m \u001b[0mLSST_data\u001b[0m \u001b[0;34m=\u001b[0m \u001b[0mnp\u001b[0m\u001b[0;34m.\u001b[0m\u001b[0mgenfromtxt\u001b[0m\u001b[0;34m(\u001b[0m\u001b[0mDirSaveOutput\u001b[0m\u001b[0;34m+\u001b[0m\u001b[0mLSST_sample_filename\u001b[0m\u001b[0;34m,\u001b[0m \u001b[0musecols\u001b[0m\u001b[0;34m=\u001b[0m\u001b[0;34m[\u001b[0m\u001b[0;36m5\u001b[0m\u001b[0;34m]\u001b[0m\u001b[0;34m)\u001b[0m\u001b[0;34m\u001b[0m\u001b[0m\n\u001b[0m",
      "\u001b[0;32m/Users/arturo/anaconda2/lib/python2.7/site-packages/numpy/lib/npyio.pyc\u001b[0m in \u001b[0;36mgenfromtxt\u001b[0;34m(fname, dtype, comments, delimiter, skip_header, skip_footer, converters, missing_values, filling_values, usecols, names, excludelist, deletechars, replace_space, autostrip, case_sensitive, defaultfmt, unpack, usemask, loose, invalid_raise, max_rows, encoding)\u001b[0m\n\u001b[1;32m   1682\u001b[0m             \u001b[0mfname\u001b[0m \u001b[0;34m=\u001b[0m \u001b[0mstr\u001b[0m\u001b[0;34m(\u001b[0m\u001b[0mfname\u001b[0m\u001b[0;34m)\u001b[0m\u001b[0;34m\u001b[0m\u001b[0m\n\u001b[1;32m   1683\u001b[0m         \u001b[0;32mif\u001b[0m \u001b[0misinstance\u001b[0m\u001b[0;34m(\u001b[0m\u001b[0mfname\u001b[0m\u001b[0;34m,\u001b[0m \u001b[0mbasestring\u001b[0m\u001b[0;34m)\u001b[0m\u001b[0;34m:\u001b[0m\u001b[0;34m\u001b[0m\u001b[0m\n\u001b[0;32m-> 1684\u001b[0;31m             \u001b[0mfhd\u001b[0m \u001b[0;34m=\u001b[0m \u001b[0miter\u001b[0m\u001b[0;34m(\u001b[0m\u001b[0mnp\u001b[0m\u001b[0;34m.\u001b[0m\u001b[0mlib\u001b[0m\u001b[0;34m.\u001b[0m\u001b[0m_datasource\u001b[0m\u001b[0;34m.\u001b[0m\u001b[0mopen\u001b[0m\u001b[0;34m(\u001b[0m\u001b[0mfname\u001b[0m\u001b[0;34m,\u001b[0m \u001b[0;34m'rt'\u001b[0m\u001b[0;34m,\u001b[0m \u001b[0mencoding\u001b[0m\u001b[0;34m=\u001b[0m\u001b[0mencoding\u001b[0m\u001b[0;34m)\u001b[0m\u001b[0;34m)\u001b[0m\u001b[0;34m\u001b[0m\u001b[0m\n\u001b[0m\u001b[1;32m   1685\u001b[0m             \u001b[0mown_fhd\u001b[0m \u001b[0;34m=\u001b[0m \u001b[0mTrue\u001b[0m\u001b[0;34m\u001b[0m\u001b[0m\n\u001b[1;32m   1686\u001b[0m         \u001b[0;32melse\u001b[0m\u001b[0;34m:\u001b[0m\u001b[0;34m\u001b[0m\u001b[0m\n",
      "\u001b[0;32m/Users/arturo/anaconda2/lib/python2.7/site-packages/numpy/lib/_datasource.pyc\u001b[0m in \u001b[0;36mopen\u001b[0;34m(path, mode, destpath, encoding, newline)\u001b[0m\n\u001b[1;32m    258\u001b[0m \u001b[0;34m\u001b[0m\u001b[0m\n\u001b[1;32m    259\u001b[0m     \u001b[0mds\u001b[0m \u001b[0;34m=\u001b[0m \u001b[0mDataSource\u001b[0m\u001b[0;34m(\u001b[0m\u001b[0mdestpath\u001b[0m\u001b[0;34m)\u001b[0m\u001b[0;34m\u001b[0m\u001b[0m\n\u001b[0;32m--> 260\u001b[0;31m     \u001b[0;32mreturn\u001b[0m \u001b[0mds\u001b[0m\u001b[0;34m.\u001b[0m\u001b[0mopen\u001b[0m\u001b[0;34m(\u001b[0m\u001b[0mpath\u001b[0m\u001b[0;34m,\u001b[0m \u001b[0mmode\u001b[0m\u001b[0;34m,\u001b[0m \u001b[0mencoding\u001b[0m\u001b[0;34m=\u001b[0m\u001b[0mencoding\u001b[0m\u001b[0;34m,\u001b[0m \u001b[0mnewline\u001b[0m\u001b[0;34m=\u001b[0m\u001b[0mnewline\u001b[0m\u001b[0;34m)\u001b[0m\u001b[0;34m\u001b[0m\u001b[0m\n\u001b[0m\u001b[1;32m    261\u001b[0m \u001b[0;34m\u001b[0m\u001b[0m\n\u001b[1;32m    262\u001b[0m \u001b[0;34m\u001b[0m\u001b[0m\n",
      "\u001b[0;32m/Users/arturo/anaconda2/lib/python2.7/site-packages/numpy/lib/_datasource.pyc\u001b[0m in \u001b[0;36mopen\u001b[0;34m(self, path, mode, encoding, newline)\u001b[0m\n\u001b[1;32m    614\u001b[0m                                       encoding=encoding, newline=newline)\n\u001b[1;32m    615\u001b[0m         \u001b[0;32melse\u001b[0m\u001b[0;34m:\u001b[0m\u001b[0;34m\u001b[0m\u001b[0m\n\u001b[0;32m--> 616\u001b[0;31m             \u001b[0;32mraise\u001b[0m \u001b[0mIOError\u001b[0m\u001b[0;34m(\u001b[0m\u001b[0;34m\"%s not found.\"\u001b[0m \u001b[0;34m%\u001b[0m \u001b[0mpath\u001b[0m\u001b[0;34m)\u001b[0m\u001b[0;34m\u001b[0m\u001b[0m\n\u001b[0m\u001b[1;32m    617\u001b[0m \u001b[0;34m\u001b[0m\u001b[0m\n\u001b[1;32m    618\u001b[0m \u001b[0;34m\u001b[0m\u001b[0m\n",
      "\u001b[0;31mIOError\u001b[0m: /Users/arturo/Documents/Research/LSST/Catalog/Subsamples/LSST_ra_250_283_dec_-40_-15.dat not found."
     ]
    }
   ],
   "source": [
    "# i band\n",
    "\n",
    "LSST_sample_filename = 'LSST_ra_250_283_dec_-40_-15.dat'\n",
    "LSST_data = np.genfromtxt(DirSaveOutput+LSST_sample_filename, usecols=[5])"
   ]
  },
  {
   "cell_type": "code",
   "execution_count": null,
   "metadata": {},
   "outputs": [],
   "source": [
    "print \"#     Time Summary \"\n",
    "print \"# Starting time of computing: %s\"%time_start\n",
    "#----------------------\n",
    "now_end = datetime.datetime.now()\n",
    "time_end = now_end.strftime(\"%Y-%m-%d (yyyy-mm-dd); %H:%M hrs.\")\n",
    "print \"# Ending time of computing: %s\"%time_end\n",
    "#----------------------\n",
    "# Compute the time the MCMC computations took:\n",
    "time_compute = now_end - now_start\n",
    "print \"# Total time of computing:  %s\"%time_compute\n",
    "print \"#---------------------------\""
   ]
  },
  {
   "cell_type": "code",
   "execution_count": null,
   "metadata": {},
   "outputs": [],
   "source": [
    "len(LSST_data)"
   ]
  },
  {
   "cell_type": "code",
   "execution_count": null,
   "metadata": {},
   "outputs": [],
   "source": [
    "print max(LSST_data), min(LSST_data)"
   ]
  },
  {
   "cell_type": "code",
   "execution_count": null,
   "metadata": {},
   "outputs": [],
   "source": []
  },
  {
   "cell_type": "markdown",
   "metadata": {},
   "source": [
    "#### Loop"
   ]
  },
  {
   "cell_type": "code",
   "execution_count": null,
   "metadata": {},
   "outputs": [],
   "source": [
    "# Initialize the timing of computation\n",
    "now_start = datetime.datetime.now()\n",
    "time_start = now_start.strftime(\"%Y-%m-%d (yyyy-mm-dd); %H:%M hrs.\")\n",
    "print \"# Starting time of computing: %s\"%time_start"
   ]
  },
  {
   "cell_type": "code",
   "execution_count": null,
   "metadata": {},
   "outputs": [],
   "source": [
    "# MAIN LOOP\n",
    "\n",
    "count_dimmer = 0;\n",
    "count_brighter = 0;\n",
    "\n",
    "for i in range(len(LSST_data)):\n",
    "    if LSST_data[i] < appmag_lim:\n",
    "        count_brighter += 1\n",
    "    else: count_dimmer += 1\n",
    "\n",
    "print \"# Loop finished.\""
   ]
  },
  {
   "cell_type": "code",
   "execution_count": null,
   "metadata": {},
   "outputs": [],
   "source": [
    "print \"#     Time Summary \"\n",
    "print \"# Starting time of computing: %s\"%time_start\n",
    "#----------------------\n",
    "now_end = datetime.datetime.now()\n",
    "time_end = now_end.strftime(\"%Y-%m-%d (yyyy-mm-dd); %H:%M hrs.\")\n",
    "print \"# Ending time of computing: %s\"%time_end\n",
    "#----------------------\n",
    "# Compute the time the MCMC computations took:\n",
    "time_compute = now_end - now_start\n",
    "print \"# Total time of computing:  %s\"%time_compute\n",
    "print \"# %s iterations in the loop.\"%len(LSST_data)\n",
    "print \"#---------------------------\""
   ]
  },
  {
   "cell_type": "code",
   "execution_count": null,
   "metadata": {},
   "outputs": [],
   "source": []
  },
  {
   "cell_type": "markdown",
   "metadata": {},
   "source": [
    "#### Report\n",
    "\n",
    "Write report to a text file"
   ]
  },
  {
   "cell_type": "code",
   "execution_count": null,
   "metadata": {},
   "outputs": [],
   "source": [
    "total_count = count_brighter+count_dimmer\n",
    "\n",
    "percentage_brigther = (float(count_brighter)*float(100))/float(total_count)\n",
    "percentage_dimmer = (float(count_dimmer)*float(100))/float(total_count)\n",
    "\n",
    "#-------------------------------------------------\n",
    "# if the report file exist, then open in -append- mode\n",
    "try: \n",
    "    textfile_2 = open(DirSaveOutput+LSST_sample_filename[:-4]+'_Report.dat', 'a')\n",
    "# otherwise, create it\n",
    "except:\n",
    "    textfile_2 = open(DirSaveOutput+LSST_sample_filename[:-4]+'_Report.dat', 'w')\n",
    "#-------------------------------------------------\n",
    "\n",
    "text_octothorp = '\\n#'+'#'*65 + '\\n'\n",
    "textfile_2.write(text_octothorp); \n",
    "\n",
    "textfile_2.write(\"\\n#    Report of brighter/dimmer stars than %s mag in the LSST catalog \\n\\\n",
    "# For a given range of (ra, dec).\\n\"%appmag_lim)\n",
    "\n",
    "now = datetime.datetime.now() # Read the time and date right now\n",
    "text_timenow = now.strftime(\"%Y-%m-%d (yyyy-mm-dd); %H:%M hrs.\")\n",
    "text_Date   = '# On date: %s \\n'%text_timenow\n",
    "text_Author = '# Data table created by: Arturo Avelino \\n'\n",
    "text_script = '# Script used: %s \\n'%NotebookName\n",
    "text_line = '#'+'-'*45 + '\\n'\n",
    "\n",
    "textfile_2.write(text_line); \n",
    "textfile_2.write(text_Author); textfile_2.write(text_Date); textfile_2.write(text_script);\n",
    "textfile_2.write(text_line); \n",
    "\n",
    "text_02 = \"# In the '%s' subsample file, \\n# for i-band:\\n\"%LSST_sample_filename\n",
    "text_03 = \"%s # stars (%.3f percent) with app mag < %s mag.\\n\"%(count_brighter, percentage_brigther, appmag_lim)\n",
    "text_04 = \"%s # stars (%.3f percent) with app mag > %s mag.\\n\"%(count_dimmer, percentage_dimmer, appmag_lim)\n",
    "text_05 = \"%s # = %s = total number of stars.\\n\"%(total_count, len(LSST_data))\n",
    "text_06 = \"%.4f #  mag is the brigthest star in the given region of the catalog.\\n\"%min(LSST_data)\n",
    "text_07 = \"%.4f # mag is the dimmest star in the given region of the catalog.\\n\"%max(LSST_data)\n",
    "\n",
    "textfile_2.write(text_02); textfile_2.write(text_03); textfile_2.write(text_04);\n",
    "textfile_2.write(text_05); textfile_2.write(text_06); textfile_2.write(text_07);\n",
    "\n",
    "print text_02,text_03,text_04,text_05,text_06,text_07\n",
    "\n",
    "textfile_2.close()"
   ]
  },
  {
   "cell_type": "code",
   "execution_count": null,
   "metadata": {},
   "outputs": [],
   "source": [
    "textfile_2.close(); textfile_2.close(); "
   ]
  },
  {
   "cell_type": "code",
   "execution_count": null,
   "metadata": {},
   "outputs": [],
   "source": []
  },
  {
   "cell_type": "code",
   "execution_count": null,
   "metadata": {},
   "outputs": [],
   "source": []
  },
  {
   "cell_type": "code",
   "execution_count": null,
   "metadata": {},
   "outputs": [],
   "source": []
  },
  {
   "cell_type": "markdown",
   "metadata": {},
   "source": [
    "----"
   ]
  },
  {
   "cell_type": "markdown",
   "metadata": {},
   "source": [
    "# Section 4\n",
    "\n",
    "## Some diverse simple computations"
   ]
  },
  {
   "cell_type": "code",
   "execution_count": 42,
   "metadata": {},
   "outputs": [],
   "source": [
    "total_stars = 6047829 # = 6047829 = total number of stars.\n",
    "brighter_21 = 822641 # stars (13.602 percent) with app mag < 21.0 mag.\n",
    "brighter_24 = 3038290 # stars (50.238 percent) with app mag < 24.0 mag.\n",
    "brighter_26 = 5976702 # stars (98.824 percent) with app mag < 26.0 mag."
   ]
  },
  {
   "cell_type": "code",
   "execution_count": 60,
   "metadata": {},
   "outputs": [
    {
     "name": "stdout",
     "output_type": "stream",
     "text": [
      "2215649\n",
      "36.6354438923 %\n"
     ]
    }
   ],
   "source": [
    "# Number of stars with 21 < app mag < 24 mag.\n",
    "print (brighter_24 - brighter_21)\n",
    "\n",
    "# Percentage\n",
    "print float((brighter_24 - brighter_21)*100)/float(total_stars), '%'\n"
   ]
  },
  {
   "cell_type": "code",
   "execution_count": 61,
   "metadata": {},
   "outputs": [
    {
     "data": {
      "text/plain": [
       "36.635999999999996"
      ]
     },
     "execution_count": 61,
     "metadata": {},
     "output_type": "execute_result"
    }
   ],
   "source": [
    "50.238 - 13.602"
   ]
  },
  {
   "cell_type": "code",
   "execution_count": null,
   "metadata": {},
   "outputs": [],
   "source": []
  }
 ],
 "metadata": {
  "kernelspec": {
   "display_name": "Python 2",
   "language": "python",
   "name": "python2"
  },
  "language_info": {
   "codemirror_mode": {
    "name": "ipython",
    "version": 2
   },
   "file_extension": ".py",
   "mimetype": "text/x-python",
   "name": "python",
   "nbconvert_exporter": "python",
   "pygments_lexer": "ipython2",
   "version": "2.7.14"
  }
 },
 "nbformat": 4,
 "nbformat_minor": 2
}
