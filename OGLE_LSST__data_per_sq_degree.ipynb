{
 "cells": [
  {
   "cell_type": "markdown",
   "metadata": {},
   "source": [
    "# Number of events per square degree in OGLE and LSST catalogs"
   ]
  },
  {
   "cell_type": "markdown",
   "metadata": {},
   "source": [
    "### User"
   ]
  },
  {
   "cell_type": "code",
   "execution_count": 1,
   "metadata": {},
   "outputs": [],
   "source": [
    "# USER\n",
    "\n",
    "DirSaveOutput = '/Users/arturo/Dropbox/Research/Articulos/\\\n",
    "14_PLASTICC/OGLE/Plots/'\n",
    "\n",
    "# -------------------------------\n",
    "# Given that javascript doesn't work in JupyterLab, I have to set the \n",
    "# name of the notebook by hand\n",
    "NotebookName = 'OGLE_data.ipynb'"
   ]
  },
  {
   "cell_type": "code",
   "execution_count": null,
   "metadata": {},
   "outputs": [],
   "source": []
  },
  {
   "cell_type": "markdown",
   "metadata": {},
   "source": [
    "### Automatic"
   ]
  },
  {
   "cell_type": "code",
   "execution_count": 2,
   "metadata": {},
   "outputs": [
    {
     "data": {
      "text/plain": [
       "9"
      ]
     },
     "execution_count": 2,
     "metadata": {},
     "output_type": "execute_result"
    }
   ],
   "source": [
    "import numpy as np\n",
    "# import pandas as pd\n",
    "import os # To use command line like instructions\n",
    "import glob # To read the files in my directory\n",
    "from matplotlib import pyplot as plt\n",
    "\n",
    "5+4"
   ]
  },
  {
   "cell_type": "code",
   "execution_count": 3,
   "metadata": {},
   "outputs": [
    {
     "name": "stdout",
     "output_type": "stream",
     "text": [
      "2018-07-12 17:47:07.324217\n"
     ]
    }
   ],
   "source": [
    "# Get the current date and time\n",
    "import datetime \n",
    "\n",
    "# Read the time and date now\n",
    "now = datetime.datetime.now()\n",
    "print now"
   ]
  },
  {
   "cell_type": "code",
   "execution_count": 4,
   "metadata": {},
   "outputs": [],
   "source": [
    "#     Patch of the sky in the Milky way observed by OGLE:\n",
    "\n",
    "ra_min = 250.0; ra_max = 283.0;\n",
    "dec_min = -40.0; dec_max = -15.0;"
   ]
  },
  {
   "cell_type": "code",
   "execution_count": null,
   "metadata": {},
   "outputs": [],
   "source": []
  },
  {
   "cell_type": "markdown",
   "metadata": {},
   "source": [
    "------------"
   ]
  },
  {
   "cell_type": "markdown",
   "metadata": {},
   "source": [
    "# Section 1\n",
    "# OGLE"
   ]
  },
  {
   "cell_type": "code",
   "execution_count": null,
   "metadata": {},
   "outputs": [],
   "source": [
    "# Read OGLE data table\n",
    "\n",
    "OGLE_file = 'tl.txt'\n",
    "Dir_OGLE_file = '/Users/arturo/Documents/Research/LSST/OGLE/'\n",
    "\n",
    "OGLE_ra_dec_data = np.genfromtxt(Dir_OGLE_file+OGLE_file, usecols=[9,10])"
   ]
  },
  {
   "cell_type": "code",
   "execution_count": null,
   "metadata": {},
   "outputs": [],
   "source": [
    "\"\"\"\n",
    "array([[ 271.0843875 ,  -27.41257778],\n",
    "       [ 271.08435833,  -27.41314444],\n",
    "       [ 271.22726667,  -27.43056111],\n",
    "       [ 271.22724583,  -27.4305    ],\n",
    "       [ 271.41127917,  -27.14167778]])\n",
    "\"\"\"\n",
    "\n",
    "OGLE_ra_dec_data[:5]"
   ]
  },
  {
   "cell_type": "code",
   "execution_count": null,
   "metadata": {},
   "outputs": [],
   "source": [
    "print \"# %s\"%OGLE_ra_dec_data[0]\n",
    "print \"# %s\"%OGLE_ra_dec_data[-1]\n",
    "\n",
    "# [ 271.0843875   -27.41257778]\n",
    "# [ 265.295125    -27.58233333]"
   ]
  },
  {
   "cell_type": "code",
   "execution_count": null,
   "metadata": {},
   "outputs": [],
   "source": [
    "print \"# %s lensing events in OGLE catalog\"%len(OGLE_ra_dec_data)\n",
    "print \"#  Find min, max values of (ra, dec):\"\n",
    "print \"# %.4f < ra < %.4f  | %.4f < dec < %.4f\"%(\n",
    "    min(OGLE_ra_dec_data[:,0]), max(OGLE_ra_dec_data[:,0]),\n",
    "    min(OGLE_ra_dec_data[:,1]), max(OGLE_ra_dec_data[:,1]))\n",
    "\n",
    "#----------------------------------------------------\n",
    "\n",
    "# 24334 lensing events in OGLE catalog\n",
    "#  Find min, max values of (ra, dec):\n",
    "# 2.3416 < ra < 279.6578  | -73.7461 < dec < 54.6622"
   ]
  },
  {
   "cell_type": "markdown",
   "metadata": {},
   "source": [
    "#### Plotting"
   ]
  },
  {
   "cell_type": "code",
   "execution_count": null,
   "metadata": {},
   "outputs": [],
   "source": [
    "#    PLOTTING\n",
    "\n",
    "# Color points\n",
    "# Mycolor_points = 'red'\n",
    "Mycolor_points = 'black'\n",
    "\n",
    "fig = plt.figure() \n",
    "\n",
    "plt.plot(OGLE_ra_dec_data[:,0], OGLE_ra_dec_data[:,1], \n",
    "        Mycolor_points, marker='.', ms=1, ls='None', alpha=0.3)\n",
    "\n",
    "# plt.plot(ra_dec_sub_np[:-10,0], ra_dec_sub_np[:-10,1], \n",
    "#         Mycolor_points, marker='.', ms=1, ls='None', alpha=0.3)\n",
    "\n",
    "plt.xlim(ra_max, ra_min)\n",
    "plt.ylim(dec_min, dec_max)\n",
    "#plt.gca().invert_xaxis() # Invert x-axis\n",
    "\n",
    "plt.xlabel(\"RA\")\n",
    "plt.ylabel(\"DEC\")\n",
    "plt.title(\"OGLE lensing map (%s events)\"%len(OGLE_ra_dec_data))\n",
    "\n",
    "plt.savefig(DirSaveOutput+'Plot_OGLE_map.png'%(), dpi=100)\n",
    "\n",
    "# plt.savefig(DirSaveOutput+'LSST_ra_%.0f_%.0f_dec_%.0f_%.0f_Jump_%s_Plot.png'%(\n",
    "#     ra_min, ra_max, dec_min, dec_max, JumpsSubsample), dpi=100)\n",
    "\n",
    "plt.close()"
   ]
  },
  {
   "cell_type": "code",
   "execution_count": null,
   "metadata": {},
   "outputs": [],
   "source": [
    "plt.close();plt.close();plt.close()"
   ]
  },
  {
   "cell_type": "code",
   "execution_count": null,
   "metadata": {},
   "outputs": [],
   "source": []
  },
  {
   "cell_type": "markdown",
   "metadata": {},
   "source": [
    "### Measure the events in a grid"
   ]
  },
  {
   "cell_type": "markdown",
   "metadata": {},
   "source": [
    "#### Main loop"
   ]
  },
  {
   "cell_type": "code",
   "execution_count": null,
   "metadata": {},
   "outputs": [],
   "source": [
    "# Initialize the timing of computation\n",
    "now_start = datetime.datetime.now()\n",
    "time_start = now_start.strftime(\"%Y-%m-%d (yyyy-mm-dd); %H:%M hrs.\")\n",
    "print \"# Starting time of computing: %s\"%time_start"
   ]
  },
  {
   "cell_type": "code",
   "execution_count": null,
   "metadata": {},
   "outputs": [],
   "source": [
    "#       Main loop\n",
    "\n",
    "#------------------------------------\n",
    "# Create text file:\n",
    "textfile_1 = open(DirSaveOutput+'Table_OGLE_events_sq2.dat', 'w')\n",
    "\n",
    "textfile_1.write(\"#      Number of EVENTS in the OGLE catalogue \\n# \\n\")\n",
    "\n",
    "textfile_1.write(\"# Region in the sky: %s < ra < %s, %s < dec < %s \\n\"%(\n",
    "ra_min, ra_max, dec_min, dec_max))\n",
    "\n",
    "now = datetime.datetime.now() # Read the time and date right now\n",
    "text_timenow = now.strftime(\"%Y-%m-%d (yyyy-mm-dd); %H:%M hrs.\")\n",
    "text_Date   = '# On date: %s \\n'%text_timenow\n",
    "text_Author = '# Data table created by: Arturo Avelino \\n'\n",
    "text_script = '# Script used: %s \\n'%NotebookName\n",
    "text_line = '#'+'-'*45 + '\\n'\n",
    "\n",
    "textfile_1.write(text_line); \n",
    "textfile_1.write(text_Author); textfile_1.write(text_Date); \n",
    "textfile_1.write(text_script);\n",
    "textfile_1.write(text_line); \n",
    "\n",
    "textfile_1.write(\"# ra       dec    Num events \\n\")\n",
    "\n",
    "text_line_short = '#'+'-'*10 + '\\n'\n",
    "#------------------------------------\n",
    "# Reset:\n",
    "count_ra_dec_int = 0;\n",
    "count_iterations = 0;\n",
    "\n",
    "# Loop over 'dec'\n",
    "for i3 in range(int(dec_min), int(dec_max)):  \n",
    "    \n",
    "    dec_min_int = i3\n",
    "    dec_max_int = dec_min_int + 1\n",
    "        \n",
    "    # Loop over 'ra'\n",
    "    for i2 in range(int(ra_min), int(ra_max)):\n",
    "        \n",
    "        ra_min_int = i2;\n",
    "        ra_max_int = ra_min_int + 1\n",
    "        \n",
    "        count_ra_dec_int = 0;\n",
    "\n",
    "        for i1 in range(len(OGLE_ra_dec_data)):\n",
    "\n",
    "            ra_int =  OGLE_ra_dec_data[i1][0]\n",
    "            dec_int = OGLE_ra_dec_data[i1][1]\n",
    "            \n",
    "            # Count total number of iterations:\n",
    "            count_iterations += 1\n",
    "\n",
    "            if (ra_int > ra_min_int and ra_int < ra_max_int and\n",
    "                dec_int>dec_min_int and dec_int<dec_max_int):\n",
    "                \n",
    "                count_ra_dec_int += 1 \n",
    "        #----------       \n",
    "        text_10 = \"%s %s  %s %s  %s \\n\"%(\n",
    "            ra_min_int, ra_max_int,\n",
    "            dec_min_int, dec_max_int,\n",
    "            count_ra_dec_int)\n",
    "        textfile_1.write(text_10)\n",
    "        # print \"%s %s :%5s #\"%(ra_min_int,ra_max_int,count_ra_int)\n",
    "        \n",
    "    # Write a line to better visualize the table\n",
    "    textfile_1.write(text_line_short)\n",
    "\n",
    "#--------------------------- \n",
    "\n",
    "text_15 = \"# %s = total number of iteration in the whole loop.\\n\"%count_iterations\n",
    "textfile_1.write(text_15)\n",
    "print text_15\n",
    "\n",
    "textfile_1.close()"
   ]
  },
  {
   "cell_type": "code",
   "execution_count": null,
   "metadata": {},
   "outputs": [],
   "source": [
    "textfile_1.close();textfile_1.close();textfile_1.close()"
   ]
  },
  {
   "cell_type": "code",
   "execution_count": null,
   "metadata": {},
   "outputs": [],
   "source": [
    "print \"#     Time Summary \"\n",
    "print \"# Starting time of computing: %s\"%time_start\n",
    "#----------------------\n",
    "now_end = datetime.datetime.now()\n",
    "time_end = now_end.strftime(\"%Y-%m-%d (yyyy-mm-dd); %H:%M hrs.\")\n",
    "print \"# Ending time of computing: %s\"%time_end\n",
    "#----------------------\n",
    "# Compute the time the  computations took:\n",
    "time_compute = now_end - now_start\n",
    "print \"# Total time of computing:  %s\"%time_compute\n",
    "print \"# %s = total number of iteration in the whole loop.\"%count_iterations\n",
    "print \"#---------------------------\""
   ]
  },
  {
   "cell_type": "code",
   "execution_count": null,
   "metadata": {},
   "outputs": [],
   "source": [
    "#     Time Summary \n",
    "# Starting time of computing: 2018-07-12 (yyyy-mm-dd); 15:57 hrs.\n",
    "# Ending time of computing: 2018-07-12 (yyyy-mm-dd); 15:58 hrs.\n",
    "# Total time of computing:  0:00:42.132605\n",
    "# 20075550 = total number of iteration in the whole loop.\n",
    "#---------------------------"
   ]
  },
  {
   "cell_type": "code",
   "execution_count": null,
   "metadata": {},
   "outputs": [],
   "source": []
  },
  {
   "cell_type": "code",
   "execution_count": null,
   "metadata": {},
   "outputs": [],
   "source": []
  },
  {
   "cell_type": "code",
   "execution_count": null,
   "metadata": {},
   "outputs": [],
   "source": []
  },
  {
   "cell_type": "markdown",
   "metadata": {},
   "source": [
    "----"
   ]
  },
  {
   "cell_type": "markdown",
   "metadata": {},
   "source": [
    "# Section 2\n",
    "# LSST catalog: Number of events per square degree"
   ]
  },
  {
   "cell_type": "code",
   "execution_count": null,
   "metadata": {},
   "outputs": [],
   "source": [
    "# Read LSST data file\n",
    "\n",
    "# LSST_sample_file = 'LSST_ra_250_283_dec_-40_-15_Jump_100_RA_DEC.dat'\n",
    "LSST_sample_file = 'LSST_ra_250_283_dec_-40_-15_RA_DEC.dat'\n",
    "\n",
    "DirLSSTStarSubsample = '/Users/arturo/Documents/Research/LSST/Catalog/Subsamples/'\n",
    "\n",
    "LSST_ra_dec_data = np.genfromtxt(DirLSSTStarSubsample+LSST_sample_file)"
   ]
  },
  {
   "cell_type": "code",
   "execution_count": null,
   "metadata": {},
   "outputs": [],
   "source": [
    "\"\"\"\n",
    "array([[ 268.0293,  -20.1814],\n",
    "       [ 267.9925,  -20.1728],\n",
    "       [ 268.0232,  -20.1975],\n",
    "       [ 267.9061,  -20.1529],\n",
    "       [ 267.9213,  -20.1995]])  \"\"\"\n",
    "\n",
    "LSST_ra_dec_data[:5]"
   ]
  },
  {
   "cell_type": "code",
   "execution_count": null,
   "metadata": {},
   "outputs": [],
   "source": []
  },
  {
   "cell_type": "markdown",
   "metadata": {},
   "source": [
    "#### Main loop"
   ]
  },
  {
   "cell_type": "code",
   "execution_count": null,
   "metadata": {},
   "outputs": [],
   "source": [
    "# Initialize the timing of computation\n",
    "now_start = datetime.datetime.now()\n",
    "time_start = now_start.strftime(\"%Y-%m-%d (yyyy-mm-dd); %H:%M hrs.\")\n",
    "print \"# Starting time of computing: %s\"%time_start"
   ]
  },
  {
   "cell_type": "code",
   "execution_count": null,
   "metadata": {},
   "outputs": [],
   "source": [
    "#       Main loop\n",
    "\n",
    "#------------------------------------\n",
    "# Create text file:\n",
    "textfile_1 = open(DirSaveOutput+'Table_LSST_stars_sq2.dat', 'w')\n",
    "\n",
    "textfile_1.write(\"#      Number of STARS in the LSST catalogue \\n# \\n\")\n",
    "\n",
    "textfile_1.write(\"# LSST file: '%s' \\n\"%(LSST_sample_file))\n",
    "textfile_1.write(\"# %s \\n\"%(DirLSSTStarSubsample))\n",
    "textfile_1.write(\"# \\n\")\n",
    "\n",
    "textfile_1.write(\"# Region in the sky: %s < ra < %s, %s < dec < %s \\n\"%(\n",
    "ra_min, ra_max, dec_min, dec_max))\n",
    "\n",
    "now = datetime.datetime.now() # Read the time and date right now\n",
    "text_timenow = now.strftime(\"%Y-%m-%d (yyyy-mm-dd); %H:%M hrs.\")\n",
    "text_Date   = '# On date: %s \\n'%text_timenow\n",
    "text_Author = '# Data table created by: Arturo Avelino \\n'\n",
    "text_script = '# Script used: %s \\n'%NotebookName\n",
    "text_line = '#'+'-'*45 + '\\n'\n",
    "\n",
    "textfile_1.write(text_line); \n",
    "textfile_1.write(text_Author); textfile_1.write(text_Date); \n",
    "textfile_1.write(text_script);\n",
    "textfile_1.write(text_line); \n",
    "\n",
    "textfile_1.write(\"# ra       dec    Num stars \\n\")\n",
    "\n",
    "text_line_short = '#'+'-'*10 + '\\n'\n",
    "#------------------------------------\n",
    "# Reset:\n",
    "count_ra_dec_int = 0;\n",
    "count_iterations = 0;\n",
    "\n",
    "# Loop over 'dec'\n",
    "for i3 in range(int(dec_min), int(dec_max)):  \n",
    "    \n",
    "    dec_min_int = i3\n",
    "    dec_max_int = dec_min_int + 1\n",
    "        \n",
    "    # Loop over 'ra'\n",
    "    for i2 in range(int(ra_min), int(ra_max)):\n",
    "        \n",
    "        ra_min_int = i2;\n",
    "        ra_max_int = ra_min_int + 1\n",
    "        \n",
    "        count_ra_dec_int = 0;\n",
    "\n",
    "        for i1 in range(len(LSST_ra_dec_data)):\n",
    "\n",
    "            ra_int =  LSST_ra_dec_data[i1][0]\n",
    "            dec_int = LSST_ra_dec_data[i1][1]\n",
    "            \n",
    "            # Count total number of iterations:\n",
    "            count_iterations += 1\n",
    "\n",
    "            if (ra_int > ra_min_int and ra_int < ra_max_int and\n",
    "                dec_int>dec_min_int and dec_int<dec_max_int):\n",
    "                \n",
    "                count_ra_dec_int += 1 \n",
    "        #----------       \n",
    "        text_10 = \"%s %s  %s %s  %s \\n\"%(\n",
    "            ra_min_int, ra_max_int,\n",
    "            dec_min_int, dec_max_int,\n",
    "            count_ra_dec_int)\n",
    "        textfile_1.write(text_10)\n",
    "        # print \"%s %s :%5s #\"%(ra_min_int,ra_max_int,count_ra_int)\n",
    "        \n",
    "    # Write a line to better visualize the table\n",
    "    textfile_1.write(text_line_short)\n",
    "\n",
    "#--------------------------- \n",
    "\n",
    "text_15 = \"# %s = total number of iteration in the whole loop.\\n\"%count_iterations\n",
    "textfile_1.write(text_15)\n",
    "print text_15\n",
    "\n",
    "#---------------------------\n",
    "# Write timing\n",
    "\n",
    "text_16 = \"#     Time Summary \\n\"\n",
    "text_17 = \"# Starting time of computing: %s \\n\"%time_start\n",
    "\n",
    "textfile_1.write(\"# \\n\")\n",
    "now_end = datetime.datetime.now()\n",
    "time_end = now_end.strftime(\"%Y-%m-%d (yyyy-mm-dd); %H:%M hrs.\")\n",
    "text_18 = \"# Ending time of computing: %s \\n\"%time_end\n",
    "\n",
    "# Compute the time the  computations took:\n",
    "time_compute = now_end - now_start\n",
    "text_19 = \"# Total time of computing:  %s \\n\"%time_compute\n",
    "\n",
    "textfile_1.write(text_16);textfile_1.write(text_17);\n",
    "textfile_1.write(text_18);textfile_1.write(text_19);\n",
    "\n",
    "#---------------------------\n",
    "textfile_1.close()\n",
    "\n",
    "print text_16,text_17, text_18, text_19"
   ]
  },
  {
   "cell_type": "code",
   "execution_count": null,
   "metadata": {},
   "outputs": [],
   "source": [
    "textfile_1.close();textfile_1.close();textfile_1.close()"
   ]
  },
  {
   "cell_type": "code",
   "execution_count": null,
   "metadata": {},
   "outputs": [],
   "source": []
  },
  {
   "cell_type": "code",
   "execution_count": null,
   "metadata": {},
   "outputs": [],
   "source": []
  },
  {
   "cell_type": "code",
   "execution_count": null,
   "metadata": {},
   "outputs": [],
   "source": []
  },
  {
   "cell_type": "markdown",
   "metadata": {},
   "source": [
    "----"
   ]
  },
  {
   "cell_type": "markdown",
   "metadata": {},
   "source": [
    "# Section 3\n",
    "# Number of stars - events per square degree: LSST - OGLE catalogs"
   ]
  },
  {
   "cell_type": "code",
   "execution_count": 23,
   "metadata": {},
   "outputs": [],
   "source": [
    "# Read OGLE data table\n",
    "\n",
    "LSST_stars_sq2_file = 'Table_LSST_stars_sq2_.dat'\n",
    "DirLSSTStarSubsample = '/Users/arturo/Dropbox/Research/Articulos/14_PLASTICC/OGLE/Plots/'\n",
    "\n",
    "LSST_ra_dec_data = np.genfromtxt(DirLSSTStarSubsample+LSST_stars_sq2_file, \n",
    "                                 dtype=[int,int,int,int,int])\n",
    "\n",
    "#----------------------------------\n",
    "# Read OGLE data table\n",
    "\n",
    "OGLE_events_sq2_file = 'Table_OGLE_events_sq2_.dat'\n",
    "Dir_OGLE_file = '/Users/arturo/Dropbox/Research/Articulos/14_PLASTICC/OGLE/Plots/'\n",
    "\n",
    "OGLE_ra_dec_data = np.genfromtxt(Dir_OGLE_file+OGLE_events_sq2_file, \n",
    "                                 dtype=[int,int,int,int,int])"
   ]
  },
  {
   "cell_type": "code",
   "execution_count": null,
   "metadata": {},
   "outputs": [],
   "source": []
  },
  {
   "cell_type": "markdown",
   "metadata": {},
   "source": [
    "Main loop"
   ]
  },
  {
   "cell_type": "code",
   "execution_count": 24,
   "metadata": {},
   "outputs": [
    {
     "name": "stdout",
     "output_type": "stream",
     "text": [
      "# 6046603 = total number of stars.\n",
      "# 24259 = total number of events.\n",
      "\n"
     ]
    }
   ],
   "source": [
    "#       Main loop\n",
    "\n",
    "#------------------------------------\n",
    "# Create text file:\n",
    "textfile_1 = open(DirSaveOutput+'Table_LSST_OGLE_sq2.dat', 'w')\n",
    "\n",
    "textfile_1.write(\"#      Number of STARS  in the LSST catalogue \\n\")\n",
    "textfile_1.write(\"#      Number of EVENTS in the OGLE catalogue \\n# \\n\")\n",
    "\n",
    "textfile_1.write(\"# LSST file: '%s' \\n\"%(LSST_stars_sq2_file))\n",
    "textfile_1.write(\"# %s \\n\"%(DirLSSTStarSubsample))\n",
    "textfile_1.write(\"# OGLE file: '%s' \\n\"%(OGLE_events_sq2_file))\n",
    "textfile_1.write(\"# %s \\n\"%(Dir_OGLE_file))\n",
    "textfile_1.write(\"# \\n\")\n",
    "\n",
    "textfile_1.write(\"# Region in the sky: %s < ra < %s, %s < dec < %s \\n\"%(\n",
    "ra_min, ra_max, dec_min, dec_max))\n",
    "\n",
    "now = datetime.datetime.now() # Read the time and date right now\n",
    "text_timenow = now.strftime(\"%Y-%m-%d (yyyy-mm-dd); %H:%M hrs.\")\n",
    "text_Date   = '# On date: %s \\n'%text_timenow\n",
    "text_Author = '# Data table created by: Arturo Avelino \\n'\n",
    "text_script = '# Script used: %s \\n'%NotebookName\n",
    "text_line = '#'+'-'*45 + '\\n'\n",
    "\n",
    "textfile_1.write(text_line); \n",
    "textfile_1.write(text_Author); textfile_1.write(text_Date); \n",
    "textfile_1.write(text_script);\n",
    "textfile_1.write(text_line); \n",
    "\n",
    "textfile_1.write(\"# ra       dec    #stars #events \\n\")\n",
    "\n",
    "text_line_short = '#'+'-'*10 + '\\n'\n",
    "#------------------------------------\n",
    "\n",
    "count_stars = 0;\n",
    "count_events = 0;\n",
    "\n",
    "for i in range(len(LSST_ra_dec_data)):\n",
    "    \n",
    "    num_stars =  LSST_ra_dec_data[i][4]\n",
    "    num_events = OGLE_ra_dec_data[i][4]\n",
    "    \n",
    "    # Count number of stars\n",
    "    count_stars = count_stars + num_stars\n",
    "    # Count number of events\n",
    "    count_events = count_events + num_events\n",
    "    \n",
    "    textfile_1.write(\"%s %s %s %s   %-5s %s \\n\"%(\n",
    "        LSST_ra_dec_data[i][0], LSST_ra_dec_data[i][1],\n",
    "        LSST_ra_dec_data[i][2], LSST_ra_dec_data[i][3],\n",
    "        num_stars, num_events\n",
    "        ))\n",
    "    \n",
    "#--------------------------- \n",
    "\n",
    "text_15 = \"# %s = total number of stars.\\n\"%count_stars\n",
    "text_16 = \"# %s = total number of events.\\n\"%count_events\n",
    "\n",
    "textfile_1.write(text_line); \n",
    "textfile_1.write(text_15); textfile_1.write(text_16)\n",
    "print text_15, text_16\n",
    "\n",
    "textfile_1.close()"
   ]
  },
  {
   "cell_type": "code",
   "execution_count": 25,
   "metadata": {},
   "outputs": [],
   "source": [
    "textfile_1.close();textfile_1.close();textfile_1.close();"
   ]
  },
  {
   "cell_type": "code",
   "execution_count": null,
   "metadata": {},
   "outputs": [],
   "source": []
  },
  {
   "cell_type": "markdown",
   "metadata": {},
   "source": [
    "#### Plot stars vs events"
   ]
  },
  {
   "cell_type": "code",
   "execution_count": 28,
   "metadata": {},
   "outputs": [],
   "source": [
    "filename_1 = 'Table_LSST_OGLE_sq2.dat'\n",
    "Dir_filename_1 = '/Users/arturo/Dropbox/Research/Articulos/14_PLASTICC/OGLE/Plots/'\n",
    "\n",
    "LSST_OGLE_data = np.genfromtxt(Dir_filename_1+filename_1)"
   ]
  },
  {
   "cell_type": "code",
   "execution_count": 29,
   "metadata": {},
   "outputs": [
    {
     "data": {
      "text/plain": [
       "array([[   250.,    251.,    -40.,    -39.,   6703.,      0.],\n",
       "       [   251.,    252.,    -40.,    -39.,  10632.,      0.],\n",
       "       [   252.,    253.,    -40.,    -39.,  12104.,      0.],\n",
       "       [   253.,    254.,    -40.,    -39.,  12461.,      0.],\n",
       "       [   254.,    255.,    -40.,    -39.,   7414.,      0.]])"
      ]
     },
     "execution_count": 29,
     "metadata": {},
     "output_type": "execute_result"
    }
   ],
   "source": [
    "\"\"\"\n",
    "array([[   250.,    251.,    -40.,    -39.,   6703.,      0.],\n",
    "       [   251.,    252.,    -40.,    -39.,  10632.,      0.],\n",
    "       [   252.,    253.,    -40.,    -39.,  12104.,      0.],\n",
    "       [   253.,    254.,    -40.,    -39.,  12461.,      0.],\n",
    "       [   254.,    255.,    -40.,    -39.,   7414.,      0.]]) \"\"\"\n",
    "\n",
    "LSST_OGLE_data[:5]"
   ]
  },
  {
   "cell_type": "code",
   "execution_count": 32,
   "metadata": {},
   "outputs": [],
   "source": [
    "# Plot\n",
    "\n",
    "UseLogScale = False\n",
    "\n",
    "#      Color points\n",
    "# Mycolor_points = 'red'\n",
    "# Mycolor_points = 'black'\n",
    "Mycolor_points = 'blue'\n",
    "\n",
    "#--------------------------\n",
    "fig = plt.figure() \n",
    "\n",
    "for i in range(len(LSST_OGLE_data)):\n",
    "    \n",
    "    stars_int = LSST_OGLE_data[i,4]\n",
    "    event_int = LSST_OGLE_data[i,5] \n",
    "    \n",
    "    if event_int> 0:\n",
    "        # print stars_int, event_int\n",
    "        plt.plot(stars_int, event_int, \n",
    "        Mycolor_points, marker='.', ms=10, ls='None', alpha=0.3)\n",
    "\n",
    "\n",
    "if UseLogScale: plt.yscale('log')\n",
    "\n",
    "plt.xlabel(\"Stars (LSST)\")\n",
    "plt.ylabel(\"Events (OGLE)\")\n",
    "\n",
    "\n",
    "plt.title(\"LSST vs OGLE (%s data)\"%len(LSST_OGLE_data))\n",
    "\n",
    "if UseLogScale: append_1 = '_log'\n",
    "else: append_1 = ''\n",
    "plt.savefig(DirSaveOutput+'Table_LSST_OGLE_sq2_Plot%s_.png'%(append_1), dpi=150)\n",
    "\n",
    "plt.close()"
   ]
  },
  {
   "cell_type": "code",
   "execution_count": 33,
   "metadata": {},
   "outputs": [],
   "source": [
    "plt.close();plt.close();plt.close();plt.close();"
   ]
  },
  {
   "cell_type": "code",
   "execution_count": null,
   "metadata": {},
   "outputs": [],
   "source": []
  }
 ],
 "metadata": {
  "kernelspec": {
   "display_name": "Python [default]",
   "language": "python",
   "name": "python2"
  },
  "language_info": {
   "codemirror_mode": {
    "name": "ipython",
    "version": 2
   },
   "file_extension": ".py",
   "mimetype": "text/x-python",
   "name": "python",
   "nbconvert_exporter": "python",
   "pygments_lexer": "ipython2",
   "version": "2.7.13"
  }
 },
 "nbformat": 4,
 "nbformat_minor": 2
}
