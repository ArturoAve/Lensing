{
 "cells": [
  {
   "cell_type": "markdown",
   "metadata": {},
   "source": [
    "# Number of events per square degree in OGLE and LSST catalogs"
   ]
  },
  {
   "cell_type": "markdown",
   "metadata": {},
   "source": [
    "### User"
   ]
  },
  {
   "cell_type": "code",
   "execution_count": 1,
   "metadata": {},
   "outputs": [],
   "source": [
    "# USER\n",
    "\n",
    "## Patch of the sky in the Milky way observed by OGLE:\n",
    "# ra_min = 250.0; ra_max = 283.0;\n",
    "# dec_min = -40.0; dec_max = -15.0;\n",
    "\n",
    "# ok\n",
    "# ra_min = 268.0; ra_max = 272.0;\n",
    "# dec_min = -31.0; dec_max = -28.5;\n",
    "\n",
    "# ok\n",
    "# ra_min = 268.0; ra_max = 270.0;\n",
    "# dec_min = -32.5; dec_max = -28.5;\n",
    "\n",
    "# ok\n",
    "# ra_min = 269.5; ra_max = 272.5;\n",
    "# dec_min = -30.5; dec_max = -27.5;\n",
    "\n",
    "# ok\n",
    "# ra_min = 270.0; ra_max = 272.5;\n",
    "# dec_min = -30.0; dec_max = -27.0;\n",
    "\n",
    "#-----------------\n",
    "# right side\n",
    "\n",
    "# ok\n",
    "# ra_min = 264.5; ra_max = 267.5;\n",
    "# dec_min = -24.0; dec_max = -22.0;\n",
    "\n",
    "\n",
    "ra_min = 262.0; ra_max = 264.0;\n",
    "dec_min = -30.0; dec_max = -28.0;\n",
    "\n",
    "#-------------------------------\n",
    "\n",
    "# Size of the square subdivision of the area defined by (ra,dec)\n",
    "# to determine the number of events and stars within.\n",
    "\n",
    "Size_subdivision = 0.5  # degrees\n",
    "\n",
    "#-------------------------------\n",
    "\n",
    "DirSaveOutput = '/Users/arturo/Dropbox/Research/Articulos/\\\n",
    "14_PLASTICC/OGLE/Region_ra_%s_%s_dec_%s_%s_size_%s/'%(\n",
    "ra_min, ra_max, dec_min, dec_max,Size_subdivision)\n",
    "\n",
    "#-------------------------------\n",
    "# Given that javascript doesn't work in JupyterLab, I have to set the \n",
    "# name of the notebook by hand\n",
    "NotebookName = 'OGLE_LSST__data_per_sq_degree.ipynb'"
   ]
  },
  {
   "cell_type": "code",
   "execution_count": null,
   "metadata": {},
   "outputs": [],
   "source": []
  },
  {
   "cell_type": "markdown",
   "metadata": {},
   "source": [
    "### Automatic"
   ]
  },
  {
   "cell_type": "code",
   "execution_count": 2,
   "metadata": {},
   "outputs": [
    {
     "data": {
      "text/plain": [
       "9"
      ]
     },
     "execution_count": 2,
     "metadata": {},
     "output_type": "execute_result"
    }
   ],
   "source": [
    "import numpy as np\n",
    "# import pandas as pd\n",
    "import os # To use command line like instructions\n",
    "import glob # To read the files in my directory\n",
    "from matplotlib import pyplot as plt\n",
    "\n",
    "5+4"
   ]
  },
  {
   "cell_type": "code",
   "execution_count": 3,
   "metadata": {},
   "outputs": [],
   "source": [
    "#- Force the creation of the directory to save the outputs.\n",
    "#- \"If the subdirectory does not exist then create it\"\n",
    "import os # To use command line like instructions\n",
    "if not os.path.exists(DirSaveOutput): os.makedirs(DirSaveOutput)"
   ]
  },
  {
   "cell_type": "code",
   "execution_count": 4,
   "metadata": {},
   "outputs": [
    {
     "name": "stdout",
     "output_type": "stream",
     "text": [
      "2018-07-15 16:33:46.272068\n"
     ]
    }
   ],
   "source": [
    "# Get the current date and time\n",
    "import datetime \n",
    "\n",
    "# Read the time and date now\n",
    "now = datetime.datetime.now()\n",
    "print now"
   ]
  },
  {
   "cell_type": "code",
   "execution_count": 5,
   "metadata": {},
   "outputs": [],
   "source": [
    "## Patch of the sky in the Milky way observed by OGLE:\n",
    "ra_min_ogle_fix = 250.0; ra_max_ogle_fix = 283.0;\n",
    "dec_min_ogle_fix = -40.0; dec_max_ogle_fix = -15.0;"
   ]
  },
  {
   "cell_type": "code",
   "execution_count": null,
   "metadata": {},
   "outputs": [],
   "source": []
  },
  {
   "cell_type": "markdown",
   "metadata": {},
   "source": [
    "------------"
   ]
  },
  {
   "cell_type": "markdown",
   "metadata": {},
   "source": [
    "# Section 1\n",
    "# OGLE: Count the number of events per square degree"
   ]
  },
  {
   "cell_type": "code",
   "execution_count": 6,
   "metadata": {},
   "outputs": [],
   "source": [
    "# Read OGLE data table\n",
    "\n",
    "OGLE_file = 'tl.txt'\n",
    "Dir_OGLE_file = '/Users/arturo/Documents/Research/LSST/OGLE/'\n",
    "\n",
    "OGLE_ra_dec_data = np.genfromtxt(Dir_OGLE_file+OGLE_file, usecols=[9,10])"
   ]
  },
  {
   "cell_type": "code",
   "execution_count": 7,
   "metadata": {},
   "outputs": [
    {
     "data": {
      "text/plain": [
       "array([[271.0843875 , -27.41257778],\n",
       "       [271.08435833, -27.41314444],\n",
       "       [271.22726667, -27.43056111],\n",
       "       [271.22724583, -27.4305    ],\n",
       "       [271.41127917, -27.14167778]])"
      ]
     },
     "execution_count": 7,
     "metadata": {},
     "output_type": "execute_result"
    }
   ],
   "source": [
    "\"\"\"\n",
    "array([[ 271.0843875 ,  -27.41257778],\n",
    "       [ 271.08435833,  -27.41314444],\n",
    "       [ 271.22726667,  -27.43056111],\n",
    "       [ 271.22724583,  -27.4305    ],\n",
    "       [ 271.41127917,  -27.14167778]])\n",
    "\"\"\"\n",
    "\n",
    "OGLE_ra_dec_data[:5]"
   ]
  },
  {
   "cell_type": "code",
   "execution_count": 8,
   "metadata": {},
   "outputs": [
    {
     "name": "stdout",
     "output_type": "stream",
     "text": [
      "# [271.0843875  -27.41257778]\n",
      "# [265.295125   -27.58233333]\n"
     ]
    }
   ],
   "source": [
    "print \"# %s\"%OGLE_ra_dec_data[0]\n",
    "print \"# %s\"%OGLE_ra_dec_data[-1]\n",
    "\n",
    "# [ 271.0843875   -27.41257778]\n",
    "# [ 265.295125    -27.58233333]"
   ]
  },
  {
   "cell_type": "code",
   "execution_count": 9,
   "metadata": {},
   "outputs": [
    {
     "name": "stdout",
     "output_type": "stream",
     "text": [
      "# 24334 lensing events in OGLE catalog\n",
      "#  Find min, max values of (ra, dec):\n",
      "# 2.3416 < ra < 279.6578  | -73.7461 < dec < 54.6622\n"
     ]
    }
   ],
   "source": [
    "print \"# %s lensing events in OGLE catalog\"%len(OGLE_ra_dec_data)\n",
    "print \"#  Find min, max values of (ra, dec):\"\n",
    "print \"# %.4f < ra < %.4f  | %.4f < dec < %.4f\"%(\n",
    "    min(OGLE_ra_dec_data[:,0]), max(OGLE_ra_dec_data[:,0]),\n",
    "    min(OGLE_ra_dec_data[:,1]), max(OGLE_ra_dec_data[:,1]))\n",
    "\n",
    "#----------------------------------------------------\n",
    "\n",
    "# 24334 lensing events in OGLE catalog\n",
    "#  Find min, max values of (ra, dec):\n",
    "# 2.3416 < ra < 279.65b78  | -73.7461 < dec < 54.6622"
   ]
  },
  {
   "cell_type": "code",
   "execution_count": null,
   "metadata": {},
   "outputs": [],
   "source": []
  },
  {
   "cell_type": "markdown",
   "metadata": {},
   "source": [
    "#### Plotting the event map in the selected region of the sky"
   ]
  },
  {
   "cell_type": "code",
   "execution_count": 10,
   "metadata": {},
   "outputs": [],
   "source": [
    "#    PLOTTING\n",
    "\n",
    "# Color points\n",
    "# Mycolor_points = 'red'\n",
    "Mycolor_points = 'black'\n",
    "\n",
    "fig = plt.figure() \n",
    "\n",
    "plt.plot(OGLE_ra_dec_data[:,0], OGLE_ra_dec_data[:,1], \n",
    "        Mycolor_points, marker='.', ms=1, ls='None', alpha=1)\n",
    "\n",
    "# plt.plot(ra_dec_sub_np[:-10,0], ra_dec_sub_np[:-10,1], \n",
    "#         Mycolor_points, marker='.', ms=1, ls='None', alpha=0.3)\n",
    "\n",
    "plt.xlim(ra_max, ra_min)\n",
    "plt.ylim(dec_min, dec_max)\n",
    "#plt.gca().invert_xaxis() # Invert x-axis\n",
    "plt.grid(alpha=0.2, ls='--')\n",
    "\n",
    "plt.xlabel(\"RA\")\n",
    "plt.ylabel(\"DEC\")\n",
    "plt.title(\"OGLE lensing map (%s events)\"%len(OGLE_ra_dec_data))\n",
    "\n",
    "plt.savefig(DirSaveOutput+'Plot_OGLE_map_.png', dpi=100)\n",
    "\n",
    "# plt.savefig(DirSaveOutput+'LSST_ra_%.0f_%.0f_dec_%.0f_%.0f_Jump_%s_Plot.png'%(\n",
    "#     ra_min, ra_max, dec_min, dec_max, JumpsSubsample), dpi=100)\n",
    "\n",
    "plt.close()"
   ]
  },
  {
   "cell_type": "code",
   "execution_count": 11,
   "metadata": {},
   "outputs": [],
   "source": [
    "plt.close();plt.close();plt.close();"
   ]
  },
  {
   "cell_type": "code",
   "execution_count": null,
   "metadata": {},
   "outputs": [],
   "source": []
  },
  {
   "cell_type": "markdown",
   "metadata": {},
   "source": [
    "#### Plot the region of the sky highlighted with a rectangle."
   ]
  },
  {
   "cell_type": "code",
   "execution_count": 12,
   "metadata": {},
   "outputs": [],
   "source": [
    "rectangle_coord = np.array([[ra_min, dec_min],\n",
    "                [ra_min, dec_max],\n",
    "                [ra_max, dec_max],\n",
    "                [ra_max, dec_min],\n",
    "                [ra_min, dec_min]])"
   ]
  },
  {
   "cell_type": "code",
   "execution_count": 13,
   "metadata": {},
   "outputs": [],
   "source": [
    "#    PLOTTING\n",
    "\n",
    "# Color points\n",
    "# Mycolor_points = 'red'\n",
    "Mycolor_points = 'black'\n",
    "\n",
    "#-------------------------------\n",
    "\n",
    "#-------------------------------\n",
    "\n",
    "fig = plt.figure() \n",
    "\n",
    "plt.plot(OGLE_ra_dec_data[:,0], OGLE_ra_dec_data[:,1], \n",
    "        Mycolor_points, marker='.', ms=1, ls='None', alpha=0.5)\n",
    "\n",
    "plt.plot(rectangle_coord[:,0], rectangle_coord[:,1], \n",
    "        color='red')\n",
    "\n",
    "plt.xlim(ra_max_ogle_fix, ra_min_ogle_fix)\n",
    "plt.ylim(dec_min_ogle_fix, dec_max_ogle_fix)\n",
    "#plt.gca().invert_xaxis() # Invert x-axis\n",
    "plt.grid(alpha=0.2, ls='--')\n",
    "\n",
    "plt.xlabel(\"RA\")\n",
    "plt.ylabel(\"DEC\")\n",
    "plt.title(\"OGLE lensing map (%s events)\"%len(OGLE_ra_dec_data))\n",
    "\n",
    "plt.savefig(DirSaveOutput+'Plot_OGLE_map_all_.png', dpi=100)\n",
    "\n",
    "# plt.savefig(DirSaveOutput+'LSST_ra_%.0f_%.0f_dec_%.0f_%.0f_Jump_%s_Plot.png'%(\n",
    "#     ra_min, ra_max, dec_min, dec_max, JumpsSubsample), dpi=100)\n",
    "\n",
    "plt.close()"
   ]
  },
  {
   "cell_type": "code",
   "execution_count": 14,
   "metadata": {},
   "outputs": [],
   "source": [
    "plt.close();plt.close();plt.close();\n",
    "plt.close();plt.close();plt.close();\n",
    "plt.close();plt.close();plt.close();"
   ]
  },
  {
   "cell_type": "code",
   "execution_count": null,
   "metadata": {},
   "outputs": [],
   "source": []
  },
  {
   "cell_type": "code",
   "execution_count": null,
   "metadata": {},
   "outputs": [],
   "source": []
  },
  {
   "cell_type": "code",
   "execution_count": null,
   "metadata": {},
   "outputs": [],
   "source": []
  },
  {
   "cell_type": "markdown",
   "metadata": {},
   "source": [
    "### Count the number of events in a grid"
   ]
  },
  {
   "cell_type": "markdown",
   "metadata": {},
   "source": [
    "#### Main loop"
   ]
  },
  {
   "cell_type": "code",
   "execution_count": 15,
   "metadata": {},
   "outputs": [
    {
     "name": "stdout",
     "output_type": "stream",
     "text": [
      "# Starting time of computing: 2018-07-15 (yyyy-mm-dd); 16:33 hrs.\n"
     ]
    }
   ],
   "source": [
    "# Initialize the timing of computation\n",
    "now_start = datetime.datetime.now()\n",
    "time_start = now_start.strftime(\"%Y-%m-%d (yyyy-mm-dd); %H:%M hrs.\")\n",
    "print \"# Starting time of computing: %s\"%time_start"
   ]
  },
  {
   "cell_type": "code",
   "execution_count": 16,
   "metadata": {},
   "outputs": [
    {
     "name": "stdout",
     "output_type": "stream",
     "text": [
      "# 389344 = total number of iteration in the whole loop.\n",
      "\n",
      "#     Time Summary \n",
      "# Starting time of computing: 2018-07-15 (yyyy-mm-dd); 16:33 hrs. \n",
      "# Ending time of computing: 2018-07-15 (yyyy-mm-dd); 16:33 hrs. \n",
      "# Total time of computing:  0:00:00.856681 \n",
      "\n"
     ]
    }
   ],
   "source": [
    "#       Main loop\n",
    "\n",
    "#------------------------------------\n",
    "# Create text file:\n",
    "textfile_1 = open(DirSaveOutput+'Table_OGLE_events_sq_.dat', 'w')\n",
    "\n",
    "textfile_1.write(\"#      Number of EVENTS in the OGLE catalogue \\n# \\n\")\n",
    "\n",
    "textfile_1.write(\"# Region in the sky: %s < ra < %s, %s < dec < %s \\n\"%(\n",
    "ra_min, ra_max, dec_min, dec_max))\n",
    "\n",
    "now = datetime.datetime.now() # Read the time and date right now\n",
    "text_timenow = now.strftime(\"%Y-%m-%d (yyyy-mm-dd); %H:%M hrs.\")\n",
    "text_Date   = '# On date: %s \\n'%text_timenow\n",
    "text_Author = '# Data table created by: Arturo Avelino \\n'\n",
    "text_script = '# Script used: %s \\n'%NotebookName\n",
    "text_line = '#'+'-'*45 + '\\n'\n",
    "\n",
    "textfile_1.write(text_line); \n",
    "textfile_1.write(text_Author); textfile_1.write(text_Date); \n",
    "textfile_1.write(text_script);\n",
    "textfile_1.write(text_line); \n",
    "\n",
    "textfile_1.write(\"# ra_min ra_max  dec_min dec_max   # events \\n\")\n",
    "\n",
    "text_line_short = '#'+'-'*10 + '\\n'\n",
    "#------------------------------------\n",
    "# Reset:\n",
    "count_ra_dec_int = 0;\n",
    "count_iterations = 0;\n",
    "\n",
    "\n",
    "range_ra = int(float(ra_max - ra_min)/Size_subdivision)\n",
    "range_dec = int(float(dec_max - dec_min)/Size_subdivision)\n",
    "\n",
    "# Loop over 'dec'\n",
    "for i3 in range(range_dec):\n",
    "    \n",
    "    dec_min_int = dec_min + float(i3)*Size_subdivision\n",
    "    dec_max_int = dec_min_int + Size_subdivision\n",
    "    # print \"   dec = (%s, %s)\"%(dec_min_int, dec_max_int);\n",
    "\n",
    "    # Loop over 'ra'\n",
    "    for i2 in range(range_ra):\n",
    "        \n",
    "        ra_min_int = ra_min + float(i2)*Size_subdivision;\n",
    "        ra_max_int = ra_min_int + Size_subdivision\n",
    "        # print \"ra = (%s, %s)\"%(ra_min_int, ra_max_int);\n",
    "        \n",
    "        count_ra_dec_int = 0;\n",
    "\n",
    "        for i1 in range(len(OGLE_ra_dec_data)):\n",
    "\n",
    "            ra_int =  OGLE_ra_dec_data[i1][0]\n",
    "            dec_int = OGLE_ra_dec_data[i1][1]\n",
    "            \n",
    "            # Count total number of iterations:\n",
    "            count_iterations += 1\n",
    "\n",
    "            if (ra_int > ra_min_int and ra_int < ra_max_int and\n",
    "                dec_int>dec_min_int and dec_int<dec_max_int):\n",
    "                \n",
    "                count_ra_dec_int += 1 \n",
    "        #----------   \n",
    "        text_10 = \"%s    %s   %s   %s     %s \\n\"%(\n",
    "            ra_min_int, ra_max_int,\n",
    "            dec_min_int, dec_max_int,\n",
    "            count_ra_dec_int)\n",
    "        textfile_1.write(text_10)\n",
    "        # print \"%s %s :%5s #\"%(ra_min_int,ra_max_int,count_ra_int)\n",
    "        \n",
    "    # Write a line to better visualize the table\n",
    "    textfile_1.write(text_line_short)\n",
    "\n",
    "#--------------------------- \n",
    "\n",
    "text_15 = \"# %s = total number of iteration in the whole loop.\\n\"%count_iterations\n",
    "textfile_1.write(text_15)\n",
    "print text_15\n",
    "\n",
    "#---------------------------\n",
    "# Write timing\n",
    "\n",
    "text_16 = \"#     Time Summary \\n\"\n",
    "text_17 = \"# Starting time of computing: %s \\n\"%time_start\n",
    "\n",
    "textfile_1.write(\"# \\n\")\n",
    "now_end = datetime.datetime.now()\n",
    "time_end = now_end.strftime(\"%Y-%m-%d (yyyy-mm-dd); %H:%M hrs.\")\n",
    "text_18 = \"# Ending time of computing: %s \\n\"%time_end\n",
    "\n",
    "# Compute the time the  computations took:\n",
    "time_compute = now_end - now_start\n",
    "text_19 = \"# Total time of computing:  %s \\n\"%time_compute\n",
    "\n",
    "textfile_1.write(text_16);textfile_1.write(text_17);\n",
    "textfile_1.write(text_18);textfile_1.write(text_19);\n",
    "\n",
    "#---------------------------\n",
    "textfile_1.close()\n",
    "\n",
    "print text_16,text_17, text_18, text_19"
   ]
  },
  {
   "cell_type": "code",
   "execution_count": 17,
   "metadata": {},
   "outputs": [],
   "source": [
    "textfile_1.close();textfile_1.close();textfile_1.close()"
   ]
  },
  {
   "cell_type": "code",
   "execution_count": 18,
   "metadata": {},
   "outputs": [
    {
     "name": "stdout",
     "output_type": "stream",
     "text": [
      "#     Time Summary \n",
      "# Starting time of computing: 2018-07-15 (yyyy-mm-dd); 16:33 hrs.\n",
      "# Ending time of computing: 2018-07-15 (yyyy-mm-dd); 16:33 hrs.\n",
      "# Total time of computing:  0:00:00.903962\n",
      "# 389344 = total number of iteration in the whole loop.\n",
      "#---------------------------\n"
     ]
    }
   ],
   "source": [
    "print \"#     Time Summary \"\n",
    "print \"# Starting time of computing: %s\"%time_start\n",
    "#----------------------\n",
    "now_end = datetime.datetime.now()\n",
    "time_end = now_end.strftime(\"%Y-%m-%d (yyyy-mm-dd); %H:%M hrs.\")\n",
    "print \"# Ending time of computing: %s\"%time_end\n",
    "#----------------------\n",
    "# Compute the time the  computations took:\n",
    "time_compute = now_end - now_start\n",
    "print \"# Total time of computing:  %s\"%time_compute\n",
    "print \"# %s = total number of iteration in the whole loop.\"%count_iterations\n",
    "print \"#---------------------------\""
   ]
  },
  {
   "cell_type": "code",
   "execution_count": 19,
   "metadata": {},
   "outputs": [],
   "source": [
    "#     Time Summary \n",
    "# Starting time of computing: 2018-07-12 (yyyy-mm-dd); 15:57 hrs.\n",
    "# Ending time of computing: 2018-07-12 (yyyy-mm-dd); 15:58 hrs.\n",
    "# Total time of computing:  0:00:42.132605\n",
    "# 20075550 = total number of iteration in the whole loop.\n",
    "#---------------------------"
   ]
  },
  {
   "cell_type": "code",
   "execution_count": null,
   "metadata": {},
   "outputs": [],
   "source": []
  },
  {
   "cell_type": "code",
   "execution_count": null,
   "metadata": {},
   "outputs": [],
   "source": []
  },
  {
   "cell_type": "code",
   "execution_count": null,
   "metadata": {},
   "outputs": [],
   "source": []
  },
  {
   "cell_type": "markdown",
   "metadata": {},
   "source": [
    "----"
   ]
  },
  {
   "cell_type": "markdown",
   "metadata": {},
   "source": [
    "# Section 2\n",
    "# LSST: Count the number of -stars- per square degree"
   ]
  },
  {
   "cell_type": "code",
   "execution_count": 20,
   "metadata": {},
   "outputs": [],
   "source": [
    "# Read LSST data file\n",
    "\n",
    "LSST_sample_file = 'LSST_ra_250_283_dec_-40_-15_Jump_100_RA_DEC.dat'\n",
    "# LSST_sample_file = 'LSST_ra_250_283_dec_-40_-15_RA_DEC.dat'\n",
    "\n",
    "DirLSSTStarSubsample = '/Users/arturo/Documents/Research/LSST/Catalog/Subsamples/'\n",
    "\n",
    "LSST_ra_dec_data = np.genfromtxt(DirLSSTStarSubsample+LSST_sample_file)"
   ]
  },
  {
   "cell_type": "code",
   "execution_count": 21,
   "metadata": {},
   "outputs": [
    {
     "data": {
      "text/plain": [
       "array([[269.9092, -28.3269],\n",
       "       [267.0524, -32.4916],\n",
       "       [273.7256, -16.1384],\n",
       "       [276.9095, -18.2496],\n",
       "       [273.0041, -16.2747]])"
      ]
     },
     "execution_count": 21,
     "metadata": {},
     "output_type": "execute_result"
    }
   ],
   "source": [
    "\"\"\"\n",
    "array([[ 268.0293,  -20.1814],\n",
    "       [ 267.9925,  -20.1728],\n",
    "       [ 268.0232,  -20.1975],\n",
    "       [ 267.9061,  -20.1529],\n",
    "       [ 267.9213,  -20.1995]])  \"\"\"\n",
    "\n",
    "LSST_ra_dec_data[:5]"
   ]
  },
  {
   "cell_type": "code",
   "execution_count": null,
   "metadata": {},
   "outputs": [],
   "source": []
  },
  {
   "cell_type": "markdown",
   "metadata": {},
   "source": [
    "### Count the number of stars in a grid"
   ]
  },
  {
   "cell_type": "markdown",
   "metadata": {},
   "source": [
    "#### Main loop"
   ]
  },
  {
   "cell_type": "code",
   "execution_count": 22,
   "metadata": {},
   "outputs": [
    {
     "name": "stdout",
     "output_type": "stream",
     "text": [
      "# Starting time of computing: 2018-07-15 (yyyy-mm-dd); 16:33 hrs.\n"
     ]
    }
   ],
   "source": [
    "# Initialize the timing of computation\n",
    "now_start = datetime.datetime.now()\n",
    "time_start = now_start.strftime(\"%Y-%m-%d (yyyy-mm-dd); %H:%M hrs.\")\n",
    "print \"# Starting time of computing: %s\"%time_start"
   ]
  },
  {
   "cell_type": "code",
   "execution_count": 23,
   "metadata": {},
   "outputs": [
    {
     "name": "stdout",
     "output_type": "stream",
     "text": [
      "# 967664 = total number of iteration in the whole loop.\n",
      "\n",
      "#     Time Summary \n",
      "# Starting time of computing: 2018-07-15 (yyyy-mm-dd); 16:33 hrs. \n",
      "# Ending time of computing: 2018-07-15 (yyyy-mm-dd); 16:33 hrs. \n",
      "# Total time of computing:  0:00:01.749366 \n",
      "\n"
     ]
    }
   ],
   "source": [
    "#       Main loop\n",
    "\n",
    "#------------------------------------\n",
    "# Create text file:\n",
    "textfile_1 = open(DirSaveOutput+'Table_LSST_stars_sq_.dat', 'w')\n",
    "\n",
    "textfile_1.write(\"#      Number of STARS in the LSST catalogue \\n# \\n\")\n",
    "\n",
    "textfile_1.write(\"# LSST file: '%s' \\n\"%(LSST_sample_file))\n",
    "textfile_1.write(\"# %s \\n\"%(DirLSSTStarSubsample))\n",
    "textfile_1.write(\"# \\n\")\n",
    "\n",
    "textfile_1.write(\"# Region in the sky: %s < ra < %s, %s < dec < %s \\n\"%(\n",
    "ra_min, ra_max, dec_min, dec_max))\n",
    "\n",
    "now = datetime.datetime.now() # Read the time and date right now\n",
    "text_timenow = now.strftime(\"%Y-%m-%d (yyyy-mm-dd); %H:%M hrs.\")\n",
    "text_Date   = '# On date: %s \\n'%text_timenow\n",
    "text_Author = '# Data table created by: Arturo Avelino \\n'\n",
    "text_script = '# Script used: %s \\n'%NotebookName\n",
    "text_line = '#'+'-'*45 + '\\n'\n",
    "\n",
    "textfile_1.write(text_line); \n",
    "textfile_1.write(text_Author); textfile_1.write(text_Date); \n",
    "textfile_1.write(text_script);\n",
    "textfile_1.write(text_line); \n",
    "\n",
    "textfile_1.write(\"# ra_min ra_max  dec_min dec_max   # stars \\n\")\n",
    "\n",
    "text_line_short = '#'+'-'*10 + '\\n'\n",
    "\n",
    "#------------------------------------\n",
    "\n",
    "# Reset:\n",
    "count_ra_dec_int = 0;\n",
    "count_iterations = 0;\n",
    "\n",
    "range_ra = int(float(ra_max - ra_min)/Size_subdivision)\n",
    "range_dec = int(float(dec_max - dec_min)/Size_subdivision)\n",
    "\n",
    "# Loop over 'dec'\n",
    "# old. for i3 in range(int(dec_min), int(dec_max)):\n",
    "for i3 in range(range_dec):\n",
    "    \n",
    "    # old. dec_min_int = i3\n",
    "    # old. dec_max_int = dec_min_int + 1\n",
    "    \n",
    "    dec_min_int = dec_min + float(i3)*Size_subdivision\n",
    "    dec_max_int = dec_min_int + Size_subdivision\n",
    "    # print \"   dec = (%s, %s)\"%(dec_min_int, dec_max_int);\n",
    "        \n",
    "    # Loop over 'ra'\n",
    "    # old. for i2 in range(int(ra_min), int(ra_max)):\n",
    "    for i2 in range(range_ra):\n",
    "        \n",
    "        # ra_min_int = i2;\n",
    "        # ra_max_int = ra_min_int + 1\n",
    "        \n",
    "        ra_min_int = ra_min + float(i2)*Size_subdivision;\n",
    "        ra_max_int = ra_min_int + Size_subdivision\n",
    "        # print \"ra = (%s, %s)\"%(ra_min_int, ra_max_int);\n",
    "        \n",
    "        count_ra_dec_int = 0;\n",
    "\n",
    "        for i1 in range(len(LSST_ra_dec_data)):\n",
    "\n",
    "            ra_int =  LSST_ra_dec_data[i1][0]\n",
    "            dec_int = LSST_ra_dec_data[i1][1]\n",
    "            \n",
    "            # Count total number of iterations:\n",
    "            count_iterations += 1\n",
    "\n",
    "            if (ra_int > ra_min_int and ra_int < ra_max_int and\n",
    "                dec_int>dec_min_int and dec_int<dec_max_int):\n",
    "                \n",
    "                count_ra_dec_int += 1 \n",
    "        #----------       \n",
    "        text_10 = \"%s    %s   %s   %s     %s \\n\"%(\n",
    "            ra_min_int, ra_max_int,\n",
    "            dec_min_int, dec_max_int,\n",
    "            count_ra_dec_int)\n",
    "        textfile_1.write(text_10)\n",
    "        # print \"%s %s :%5s #\"%(ra_min_int,ra_max_int,count_ra_int)\n",
    "        \n",
    "    # Write a line to better visualize the table\n",
    "    textfile_1.write(text_line_short)\n",
    "\n",
    "#--------------------------- \n",
    "\n",
    "text_15 = \"# %s = total number of iteration in the whole loop.\\n\"%count_iterations\n",
    "textfile_1.write(text_15)\n",
    "print text_15\n",
    "\n",
    "#---------------------------\n",
    "# Write timing\n",
    "\n",
    "text_16 = \"#     Time Summary \\n\"\n",
    "text_17 = \"# Starting time of computing: %s \\n\"%time_start\n",
    "\n",
    "textfile_1.write(\"# \\n\")\n",
    "now_end = datetime.datetime.now()\n",
    "time_end = now_end.strftime(\"%Y-%m-%d (yyyy-mm-dd); %H:%M hrs.\")\n",
    "text_18 = \"# Ending time of computing: %s \\n\"%time_end\n",
    "\n",
    "# Compute the time the  computations took:\n",
    "time_compute = now_end - now_start\n",
    "text_19 = \"# Total time of computing:  %s \\n\"%time_compute\n",
    "\n",
    "textfile_1.write(text_16);textfile_1.write(text_17);\n",
    "textfile_1.write(text_18);textfile_1.write(text_19);\n",
    "\n",
    "#---------------------------\n",
    "textfile_1.close()\n",
    "\n",
    "print text_16,text_17, text_18, text_19"
   ]
  },
  {
   "cell_type": "code",
   "execution_count": 24,
   "metadata": {},
   "outputs": [],
   "source": [
    "textfile_1.close();textfile_1.close();textfile_1.close()"
   ]
  },
  {
   "cell_type": "code",
   "execution_count": null,
   "metadata": {},
   "outputs": [],
   "source": []
  },
  {
   "cell_type": "code",
   "execution_count": null,
   "metadata": {},
   "outputs": [],
   "source": []
  },
  {
   "cell_type": "code",
   "execution_count": null,
   "metadata": {},
   "outputs": [],
   "source": []
  },
  {
   "cell_type": "markdown",
   "metadata": {},
   "source": [
    "----"
   ]
  },
  {
   "cell_type": "markdown",
   "metadata": {},
   "source": [
    "# Section 3\n",
    "# Combine both tables created above: Number of stars - events per square degree: LSST - OGLE catalogs"
   ]
  },
  {
   "cell_type": "code",
   "execution_count": 25,
   "metadata": {},
   "outputs": [],
   "source": [
    "# Read LSST data table\n",
    "\n",
    "# LSST_stars_sq2_file = 'Table_LSST_stars_sq2_.dat'\n",
    "LSST_stars_sq2_file = 'Table_LSST_stars_sq_.dat'\n",
    "\n",
    "# DirLSSTStarSubsample = '/Users/arturo/Dropbox/Research/Articulos/14_PLASTICC/OGLE/Plots/'\n",
    "DirLSSTStarSubsample = DirSaveOutput\n",
    "\n",
    "LSST_ra_dec_data2 = np.genfromtxt(DirLSSTStarSubsample+LSST_stars_sq2_file, \n",
    "                                 dtype=[float,float,float,float,int])\n",
    "\n",
    "#----------------------------------\n",
    "# Read OGLE data table\n",
    "\n",
    "# OGLE_events_sq2_file = 'Table_OGLE_events_sq2_.dat'\n",
    "OGLE_events_sq2_file = 'Table_OGLE_events_sq_.dat'\n",
    "\n",
    "# Dir_OGLE_file = '/Users/arturo/Dropbox/Research/Articulos/14_PLASTICC/OGLE/Plots/'\n",
    "Dir_OGLE_file = DirSaveOutput\n",
    "\n",
    "OGLE_ra_dec_data2 = np.genfromtxt(Dir_OGLE_file+OGLE_events_sq2_file, \n",
    "                                 dtype=[float,float,float,float,int])"
   ]
  },
  {
   "cell_type": "code",
   "execution_count": null,
   "metadata": {},
   "outputs": [],
   "source": []
  },
  {
   "cell_type": "markdown",
   "metadata": {},
   "source": [
    "Main loop"
   ]
  },
  {
   "cell_type": "code",
   "execution_count": 26,
   "metadata": {},
   "outputs": [
    {
     "name": "stdout",
     "output_type": "stream",
     "text": [
      "# 830 = total number of stars.\n",
      "# 357 = total number of events.\n",
      "\n"
     ]
    }
   ],
   "source": [
    "#       Main loop\n",
    "\n",
    "#------------------------------------\n",
    "# Create text file:\n",
    "textfile_1 = open(DirSaveOutput+'Table_LSST_OGLE_sq_.dat', 'w')\n",
    "\n",
    "textfile_1.write(\"#      Number of STARS  in the LSST catalogue \\n\")\n",
    "textfile_1.write(\"#      Number of EVENTS in the OGLE catalogue \\n# \\n\")\n",
    "\n",
    "textfile_1.write(\"# LSST file: '%s' \\n\"%(LSST_stars_sq2_file))\n",
    "textfile_1.write(\"# %s \\n\"%(DirLSSTStarSubsample))\n",
    "textfile_1.write(\"# OGLE file: '%s' \\n\"%(OGLE_events_sq2_file))\n",
    "textfile_1.write(\"# %s \\n\"%(Dir_OGLE_file))\n",
    "textfile_1.write(\"# \\n\")\n",
    "\n",
    "textfile_1.write(\"# Region in the sky: %s < ra < %s, %s < dec < %s \\n\"%(\n",
    "ra_min, ra_max, dec_min, dec_max))\n",
    "\n",
    "now = datetime.datetime.now() # Read the time and date right now\n",
    "text_timenow = now.strftime(\"%Y-%m-%d (yyyy-mm-dd); %H:%M hrs.\")\n",
    "text_Date   = '# On date: %s \\n'%text_timenow\n",
    "text_Author = '# Data table created by: Arturo Avelino \\n'\n",
    "text_script = '# Script used: %s \\n'%NotebookName\n",
    "text_line = '#'+'-'*45 + '\\n'\n",
    "\n",
    "textfile_1.write(text_line); \n",
    "textfile_1.write(text_Author); textfile_1.write(text_Date); \n",
    "textfile_1.write(text_script);\n",
    "textfile_1.write(text_line); \n",
    "\n",
    "# textfile_1.write(\"# ra       dec    #stars #events \\n\")\n",
    "textfile_1.write(\"# ra_min ra_max  dec_min dec_max   # stars \\n\")\n",
    "\n",
    "text_line_short = '#'+'-'*10 + '\\n'\n",
    "#------------------------------------\n",
    "\n",
    "count_stars = 0;\n",
    "count_events = 0;\n",
    "\n",
    "for i in range(len(LSST_ra_dec_data2)):\n",
    "    \n",
    "    num_stars =  LSST_ra_dec_data2[i][4]\n",
    "    num_events = OGLE_ra_dec_data2[i][4]\n",
    "    \n",
    "    # Count number of stars\n",
    "    count_stars = count_stars + num_stars\n",
    "    # Count number of events\n",
    "    count_events = count_events + num_events\n",
    "    \n",
    "    textfile_1.write(\"%s %s %s %s   %-5s %s \\n\"%(\n",
    "        LSST_ra_dec_data2[i][0], LSST_ra_dec_data2[i][1],\n",
    "        LSST_ra_dec_data2[i][2], LSST_ra_dec_data2[i][3],\n",
    "        num_stars, num_events\n",
    "        ))\n",
    "    \n",
    "#--------------------------- \n",
    "\n",
    "text_15 = \"# %s = total number of stars.\\n\"%count_stars\n",
    "text_16 = \"# %s = total number of events.\\n\"%count_events\n",
    "\n",
    "textfile_1.write(text_line); \n",
    "textfile_1.write(text_15); textfile_1.write(text_16)\n",
    "print text_15, text_16\n",
    "\n",
    "textfile_1.close()"
   ]
  },
  {
   "cell_type": "code",
   "execution_count": 27,
   "metadata": {},
   "outputs": [],
   "source": [
    "textfile_1.close();textfile_1.close();textfile_1.close();"
   ]
  },
  {
   "cell_type": "code",
   "execution_count": null,
   "metadata": {},
   "outputs": [],
   "source": []
  },
  {
   "cell_type": "code",
   "execution_count": null,
   "metadata": {},
   "outputs": [],
   "source": []
  },
  {
   "cell_type": "markdown",
   "metadata": {},
   "source": [
    "## Fit and Plot stars vs events"
   ]
  },
  {
   "cell_type": "code",
   "execution_count": 114,
   "metadata": {},
   "outputs": [],
   "source": [
    "filename_1 = 'Table_LSST_OGLE_sq_.dat'\n",
    "\n",
    "# ORIGINAL:\n",
    "# Dir_filename_1 = DirSaveOutput  \n",
    "\n",
    "# TEMPORAL:\n",
    "Dir_filename_1 = '/Users/arturo/Dropbox/Research/Articulos/14_PLASTICC/OGLE/Plots_combiningData_rightSide/'\n",
    "# Dir_filename_1 = '/Users/arturo/Dropbox/Research/Articulos/14_PLASTICC/OGLE/Plots_combiningData_all/'\n",
    "DirSaveOutput = Dir_filename_1 \n",
    "\n",
    "#----------------\n",
    "\n",
    "LSST_OGLE_data = np.genfromtxt(Dir_filename_1+filename_1)"
   ]
  },
  {
   "cell_type": "code",
   "execution_count": 115,
   "metadata": {},
   "outputs": [
    {
     "data": {
      "text/plain": [
       "array([[262. , 262.5, -30. , -29.5,  45. ,  20. ],\n",
       "       [262.5, 263. , -30. , -29.5,  55. ,  27. ],\n",
       "       [263. , 263.5, -30. , -29.5,  51. ,  24. ],\n",
       "       [263.5, 264. , -30. , -29.5,  58. ,  32. ],\n",
       "       [262. , 262.5, -29.5, -29. ,  49. ,  23. ]])"
      ]
     },
     "execution_count": 115,
     "metadata": {},
     "output_type": "execute_result"
    }
   ],
   "source": [
    "\"\"\"\n",
    "array([[   250.,    251.,    -40.,    -39.,   6703.,      0.],\n",
    "       [   251.,    252.,    -40.,    -39.,  10632.,      0.],\n",
    "       [   252.,    253.,    -40.,    -39.,  12104.,      0.],\n",
    "       [   253.,    254.,    -40.,    -39.,  12461.,      0.],\n",
    "       [   254.,    255.,    -40.,    -39.,   7414.,      0.]]) \"\"\"\n",
    "\n",
    "LSST_OGLE_data[:5]"
   ]
  },
  {
   "cell_type": "code",
   "execution_count": null,
   "metadata": {},
   "outputs": [],
   "source": []
  },
  {
   "cell_type": "markdown",
   "metadata": {},
   "source": [
    "#### Fit a line"
   ]
  },
  {
   "cell_type": "code",
   "execution_count": 116,
   "metadata": {},
   "outputs": [
    {
     "name": "stdout",
     "output_type": "stream",
     "text": [
      "# Best fit: slope = 0.4471 | intercept = -4.2076\n"
     ]
    }
   ],
   "source": [
    "best_fit = np.polyfit(LSST_OGLE_data[:,4], LSST_OGLE_data[:,5], 1)\n",
    "print \"# Best fit: slope = %.4f | intercept = %.4f\"%(best_fit[0], best_fit[1])"
   ]
  },
  {
   "cell_type": "code",
   "execution_count": 117,
   "metadata": {},
   "outputs": [],
   "source": [
    "# Best fit: slope = 0.4471 | intercept = -4.2076"
   ]
  },
  {
   "cell_type": "code",
   "execution_count": null,
   "metadata": {},
   "outputs": [],
   "source": []
  },
  {
   "cell_type": "markdown",
   "metadata": {},
   "source": [
    "#### Plot"
   ]
  },
  {
   "cell_type": "code",
   "execution_count": 118,
   "metadata": {},
   "outputs": [
    {
     "name": "stdout",
     "output_type": "stream",
     "text": [
      "# test: -91.5594909348228\n"
     ]
    }
   ],
   "source": [
    "#---------------------\n",
    "\n",
    "# Line equation function\n",
    "def line_eq(x, mm, bb):\n",
    "    return  x*mm + bb\n",
    "\n",
    "print \"# test: %s\"%(line_eq(10, slope_1, intercept_1))\n",
    "\n",
    "#---------------------\n",
    "# Define the  points of the fitted line in order to plot it.\n",
    "\n",
    "slope_1 = best_fit[0]\n",
    "intercept_1 = best_fit[1]\n",
    "\n",
    "nbins1= 51\n",
    "line_x = np.linspace(0, 200, nbins1) \n",
    "line_y = line_eq(line_x, slope_1, intercept_1)\n",
    "\n",
    "# test 0.2635597264195999"
   ]
  },
  {
   "cell_type": "code",
   "execution_count": 119,
   "metadata": {},
   "outputs": [],
   "source": [
    "#     Plot\n",
    "\n",
    "#      Color points\n",
    "# Mycolor_points = 'red'\n",
    "# Mycolor_points = 'black'\n",
    "Mycolor_points = 'blue'\n",
    "\n",
    "# Use log scale (list):\n",
    "UseLogScale_list = [False, True]\n",
    "\n",
    "# Plot the best fitted line (list)\n",
    "PlotBestFitLine_list = [False, True]\n",
    "\n",
    "# Loop over plot the best fitted line:\n",
    "for PlotBestFitLine in PlotBestFitLine_list:\n",
    "\n",
    "    # Loop over log and linear plots:\n",
    "    for UseLogScale in UseLogScale_list:\n",
    "\n",
    "        # UseLogScale = verdad\n",
    "        #--------------------------\n",
    "        fig = plt.figure() \n",
    "\n",
    "        for i in range(len(LSST_OGLE_data)):\n",
    "\n",
    "            stars_int = LSST_OGLE_data[i,4]\n",
    "            event_int = LSST_OGLE_data[i,5] \n",
    "\n",
    "            # Make sure to plot areas with lensing events:\n",
    "            if event_int > 0:\n",
    "                # print stars_int, event_int\n",
    "                plt.plot(stars_int, event_int, \n",
    "                Mycolor_points, marker='.', ms=10, ls='None', alpha=0.8)\n",
    "\n",
    "        #-------------------\n",
    "        # Plot the best fitted line\n",
    "        if PlotBestFitLine:\n",
    "            plt.plot(line_x,line_y, color = 'red', lw=2,\n",
    "                    label=\"y = %.2f * x + (%.2f)\"%(slope_1,intercept_1))\n",
    "            plt.legend(loc='lower right')\n",
    "\n",
    "        plt.grid(alpha=0.2, ls='--')\n",
    "\n",
    "        if UseLogScale: plt.yscale('log')\n",
    "\n",
    "        plt.xlim((min(LSST_OGLE_data[:,4])-2), (max(LSST_OGLE_data[:,4])+2))\n",
    "        plt.ylim((min(LSST_OGLE_data[:,5])-2), (max(LSST_OGLE_data[:,5])+2))\n",
    "        \n",
    "        plt.xlabel(\"Stars (LSST)\")\n",
    "        plt.ylabel(\"Events (OGLE)\")\n",
    "\n",
    "        plt.title(\"LSST vs OGLE (%s data)\"%len(LSST_OGLE_data))\n",
    "\n",
    "        #-------------------\n",
    "        \n",
    "        if UseLogScale: append_1 = '_log'\n",
    "        else: append_1 = ''\n",
    "            \n",
    "        if PlotBestFitLine: append_2 = '_bestFit'\n",
    "        else: append_2 = ''\n",
    "        \n",
    "        plt.savefig(DirSaveOutput+'Table_LSST_OGLE_sq_Plot%s%s_.png'%(\n",
    "            append_1,append_2), dpi=100)\n",
    "\n",
    "        plt.close()"
   ]
  },
  {
   "cell_type": "code",
   "execution_count": 120,
   "metadata": {},
   "outputs": [],
   "source": [
    "plt.close();plt.close();plt.close();plt.close();"
   ]
  },
  {
   "cell_type": "code",
   "execution_count": 121,
   "metadata": {},
   "outputs": [
    {
     "name": "stdout",
     "output_type": "stream",
     "text": [
      "# All done.\n"
     ]
    }
   ],
   "source": [
    "print \"# All done.\""
   ]
  },
  {
   "cell_type": "code",
   "execution_count": null,
   "metadata": {},
   "outputs": [],
   "source": []
  }
 ],
 "metadata": {
  "kernelspec": {
   "display_name": "Python 2",
   "language": "python",
   "name": "python2"
  },
  "language_info": {
   "codemirror_mode": {
    "name": "ipython",
    "version": 2
   },
   "file_extension": ".py",
   "mimetype": "text/x-python",
   "name": "python",
   "nbconvert_exporter": "python",
   "pygments_lexer": "ipython2",
   "version": "2.7.14"
  }
 },
 "nbformat": 4,
 "nbformat_minor": 2
}
