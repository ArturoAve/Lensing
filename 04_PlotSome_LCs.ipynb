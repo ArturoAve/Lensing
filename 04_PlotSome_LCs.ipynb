{
 "cells": [
  {
   "cell_type": "markdown",
   "metadata": {},
   "source": [
    "# Plot some LCs I generated for PLASTICC"
   ]
  },
  {
   "cell_type": "code",
   "execution_count": 1,
   "metadata": {},
   "outputs": [],
   "source": [
    "import numpy as np\n",
    "from matplotlib import pyplot as plt"
   ]
  },
  {
   "cell_type": "markdown",
   "metadata": {},
   "source": [
    "## Overlay single-lens vs binary-lens apparent magnitude light curves"
   ]
  },
  {
   "cell_type": "code",
   "execution_count": 27,
   "metadata": {},
   "outputs": [],
   "source": [
    "# USER\n",
    "\n",
    "filename_binary = 'plot_3_LSST_6729_Rosanne_65_table.dat' \n",
    "\n",
    "DirData_binary = '/Users/arturo/Dropbox/Research/Articulos/14_Plasticc/\\\n",
    "MockData/Production_Binary/1_plots/'\n",
    "\n",
    "data_binary_np = np.genfromtxt(DirData_binary+filename_binary)\n",
    "\n",
    "#----------------\n",
    "\n",
    "filename_single = 'plot_3_LSST_6729_Rosanne_65_table.dat'\n",
    "\n",
    "DirData_single = '/Users/arturo/Dropbox/Research/Articulos/14_Plasticc/\\\n",
    "MockData/Production_PointSource/1_plots/'\n",
    "\n",
    "data_single_np = np.genfromtxt(DirData_single+filename_single)\n",
    "\n",
    "#----------------\n",
    "\n",
    "DirSaveOutput = '/Users/arturo/Dropbox/Research/Articulos/14_Plasticc/MockData/'"
   ]
  },
  {
   "cell_type": "code",
   "execution_count": null,
   "metadata": {},
   "outputs": [],
   "source": []
  },
  {
   "cell_type": "code",
   "execution_count": 24,
   "metadata": {},
   "outputs": [],
   "source": [
    "plt.figure()\n",
    "\n",
    "plt.plot(data_binary_np[:,0], data_binary_np[:,3], lw=0.5, marker=\".\", ms=2,\n",
    "        color = 'blue', label='binary')\n",
    "\n",
    "plt.plot(data_single_np[:,0]+15, data_single_np[:,3], lw=0.5, marker=\".\", ms=2,\n",
    "        color = 'red', label='single')\n",
    "\n",
    "plt.grid(ls='--', alpha=0.3)\n",
    "\n",
    "plt.xlim(100, 220)\n",
    "plt.ylim(20.3, 17.7)\n",
    "\n",
    "plt.xlabel('time (days)')\n",
    "plt.ylabel('apparent magnitude')\n",
    "plt.legend(loc='upper left')\n",
    "\n",
    "plt.title(r'Single vs binary $\\mu$Lens (r-band)')\n",
    "\n",
    "plt.savefig(DirSaveOutput+'plot_single_binary_over_.png', dpi=120)\n",
    "\n",
    "plt.close()"
   ]
  },
  {
   "cell_type": "code",
   "execution_count": 25,
   "metadata": {},
   "outputs": [],
   "source": [
    "plt.close();plt.close();plt.close();\n",
    "plt.close();plt.close();plt.close();"
   ]
  },
  {
   "cell_type": "code",
   "execution_count": null,
   "metadata": {},
   "outputs": [],
   "source": []
  },
  {
   "cell_type": "markdown",
   "metadata": {},
   "source": [
    "---"
   ]
  },
  {
   "cell_type": "markdown",
   "metadata": {},
   "source": [
    "# Magnitification LC of all bands"
   ]
  },
  {
   "cell_type": "markdown",
   "metadata": {},
   "source": [
    "### Binary lens"
   ]
  },
  {
   "cell_type": "code",
   "execution_count": 45,
   "metadata": {},
   "outputs": [],
   "source": [
    "# USER\n",
    "\n",
    "filename_binary = 'plot_3_LSST_6729_Rosanne_65_A_table_binary.dat' \n",
    "\n",
    "DirData_binary = '/Users/arturo/Dropbox/Research/Articulos/\\\n",
    "14_Plasticc/MockData/ToRick/magnification_LC/'\n",
    "\n",
    "data_binary_np = np.genfromtxt(DirData_binary+filename_binary)\n",
    "\n",
    "#----------------\n",
    "\n",
    "DirSaveOutput = '/Users/arturo/Dropbox/Research/Articulos/\\\n",
    "14_Plasticc/MockData/ToRick/magnification_LC/'\n"
   ]
  },
  {
   "cell_type": "code",
   "execution_count": 53,
   "metadata": {},
   "outputs": [],
   "source": [
    "plt.figure()\n",
    "\n",
    "plt.plot(data_binary_np[:,0], data_binary_np[:,6], lw=0.5, marker=\".\", ms=2,\n",
    "        color = 'gray', label='y-band')                                       \n",
    "\n",
    "plt.plot(data_binary_np[:,0], data_binary_np[:,5], lw=0.5, marker=\".\", ms=2,\n",
    "        color = 'brown', label='z-band')\n",
    "\n",
    "plt.plot(data_binary_np[:,0], data_binary_np[:,4], lw=0.5, marker=\".\", ms=2,\n",
    "        color = 'purple', label='i-band')                                         \n",
    "\n",
    "plt.plot(data_binary_np[:,0], data_binary_np[:,3], lw=0.5, marker=\".\", ms=2,\n",
    "        color = 'red', label='r-band')                                    \n",
    "\n",
    "plt.plot(data_binary_np[:,0], data_binary_np[:,2], lw=0.5, marker=\".\", ms=2,\n",
    "        color = 'green', label='g-band')                                    \n",
    "\n",
    "plt.plot(data_binary_np[:,0], data_binary_np[:,1], lw=0.5, marker=\".\", ms=2,\n",
    "        color = 'blue', label='u-band')\n",
    "\n",
    "plt.grid(ls='--', alpha=0.3)\n",
    "\n",
    "# plt.xlim(140, 180)\n",
    "plt.xlim(100, 220)\n",
    "plt.ylim(0, 30)\n",
    "\n",
    "plt.xlabel('time (days)')\n",
    "plt.ylabel('magnification')\n",
    "plt.legend(loc='upper left')\n",
    "\n",
    "plt.title(r'$\\mu$Lens-binary magnification')\n",
    "\n",
    "plt.savefig(DirSaveOutput+'plot_muLens_binary_A_.png', dpi=120)\n",
    "\n",
    "plt.close()"
   ]
  },
  {
   "cell_type": "code",
   "execution_count": 54,
   "metadata": {},
   "outputs": [],
   "source": [
    "plt.close();plt.close();plt.close();\n",
    "plt.close();plt.close();plt.close();"
   ]
  },
  {
   "cell_type": "code",
   "execution_count": null,
   "metadata": {},
   "outputs": [],
   "source": []
  },
  {
   "cell_type": "markdown",
   "metadata": {},
   "source": [
    "### Single lens"
   ]
  },
  {
   "cell_type": "code",
   "execution_count": 48,
   "metadata": {},
   "outputs": [],
   "source": [
    "# USER\n",
    "\n",
    "filename_single = 'plot_3_LSST_6729_Rosanne_65_A_table_single.dat'\n",
    "\n",
    "DirData_single = '/Users/arturo/Dropbox/Research/Articulos/\\\n",
    "14_Plasticc/MockData/ToRick/magnification_LC/'\n",
    "\n",
    "data_single_np = np.genfromtxt(DirData_single+filename_single)\n",
    "\n",
    "#----------------\n",
    "\n",
    "DirSaveOutput = '/Users/arturo/Dropbox/Research/Articulos/\\\n",
    "14_Plasticc/MockData/ToRick/magnification_LC/'\n"
   ]
  },
  {
   "cell_type": "code",
   "execution_count": null,
   "metadata": {},
   "outputs": [],
   "source": []
  },
  {
   "cell_type": "code",
   "execution_count": 51,
   "metadata": {},
   "outputs": [],
   "source": [
    "plt.figure()\n",
    "\n",
    "plt.plot(data_single_np[:,0], data_single_np[:,6], lw=0.5, marker=\".\", ms=2,\n",
    "        color = 'gray', label='y-band')                                       \n",
    "\n",
    "plt.plot(data_single_np[:,0], data_single_np[:,5], lw=0.5, marker=\".\", ms=2,\n",
    "        color = 'brown', label='z-band')\n",
    "\n",
    "plt.plot(data_single_np[:,0], data_single_np[:,4], lw=0.5, marker=\".\", ms=2,\n",
    "        color = 'purple', label='i-band')                                         \n",
    "\n",
    "plt.plot(data_single_np[:,0], data_single_np[:,3], lw=0.5, marker=\".\", ms=2,\n",
    "        color = 'red', label='r-band')                                    \n",
    "\n",
    "plt.plot(data_single_np[:,0], data_single_np[:,2], lw=0.5, marker=\".\", ms=2,\n",
    "        color = 'green', label='g-band')                                    \n",
    "\n",
    "plt.plot(data_single_np[:,0], data_single_np[:,1], lw=0.5, marker=\".\", ms=2,\n",
    "        color = 'blue', label='u-band')\n",
    "\n",
    "plt.grid(ls='--', alpha=0.3)\n",
    "\n",
    "plt.xlim(100, 220)\n",
    "plt.ylim(0.9, 2.4)\n",
    "\n",
    "plt.xlabel('time (days)')\n",
    "plt.ylabel('magnification')\n",
    "plt.legend(loc='upper left')\n",
    "\n",
    "plt.title(r'$\\mu$Lens-single magnification')\n",
    "\n",
    "plt.savefig(DirSaveOutput+'plot_muLens_single_A_.png', dpi=120)\n",
    "\n",
    "plt.close()"
   ]
  },
  {
   "cell_type": "code",
   "execution_count": 52,
   "metadata": {},
   "outputs": [],
   "source": [
    "plt.close();plt.close();plt.close();\n",
    "plt.close();plt.close();plt.close();"
   ]
  },
  {
   "cell_type": "code",
   "execution_count": null,
   "metadata": {},
   "outputs": [],
   "source": []
  }
 ],
 "metadata": {
  "kernelspec": {
   "display_name": "Python 2",
   "language": "python",
   "name": "python2"
  },
  "language_info": {
   "codemirror_mode": {
    "name": "ipython",
    "version": 2
   },
   "file_extension": ".py",
   "mimetype": "text/x-python",
   "name": "python",
   "nbconvert_exporter": "python",
   "pygments_lexer": "ipython2",
   "version": "2.7.3"
  }
 },
 "nbformat": 4,
 "nbformat_minor": 2
}
