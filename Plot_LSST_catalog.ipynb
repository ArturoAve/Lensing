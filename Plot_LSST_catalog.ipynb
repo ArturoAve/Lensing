{
 "cells": [
  {
   "cell_type": "markdown",
   "metadata": {},
   "source": [
    "# Plot the LSST star catalog\n",
    "\n",
    "Create alse subsamples of the catalog"
   ]
  },
  {
   "cell_type": "markdown",
   "metadata": {},
   "source": [
    "### User"
   ]
  },
  {
   "cell_type": "code",
   "execution_count": 1,
   "metadata": {},
   "outputs": [],
   "source": [
    "#     Patch of the sky to plot and extract\n",
    "\n",
    "##     The whole sky:\n",
    "ra_min = 0.0; ra_max = 360.0;\n",
    "dec_min = -90.0; dec_max = 90.0;\n",
    "## 'num_of_zeros' is specific to the given (ra, dec) \n",
    "## and does NOT depend on 'JumpsSubsample'.\n",
    "## 16922944 is the total number of stars in the LSST catalog\n",
    "num_of_zeros = 16922944\n",
    "## Jump in the data to create a subsample. Jump size?:\n",
    "JumpsSubsample = 100; \n",
    "\n",
    "\n",
    "##     Patch of the sky observed by OGLE:\n",
    "# ra_min = 250.0; ra_max = 280.0;\n",
    "# dec_min = -40.0; dec_max = -15.0;\n",
    "## 'num_of_zeros' is specific to the given (ra, dec) \n",
    "## and does NOT depend on 'JumpsSubsample'.\n",
    "# num_of_zeros = 5850381 \n",
    "## Jump in the data to create a subsample. Jump size?:\n",
    "# JumpsSubsample = 1000; \n",
    "\n",
    "\n",
    "##    Patch of the sky out of the Milky Way buldge\n",
    "# ra_min = 150.0; ra_max = 180.0;\n",
    "# dec_min = 0.0; dec_max = 25.0;\n",
    "## 'num_of_zeros' is specific to the given (ra, dec) \n",
    "## and does NOT depend on 'JumpsSubsample'.\n",
    "# num_of_zeros = 13185 \n",
    "## Jump in the data to create a subsample. Jump size?:\n",
    "# JumpsSubsample = 10; \n",
    "\n",
    "# ---------------------------------------------------\n",
    "\n",
    "# Create a text file with -ALL- the data that lie within the\n",
    "# selected patch of the sky?\n",
    "# Usually I use the option 'False'.\n",
    "CreateSample = False\n",
    "\n",
    "# Note a text file will be created by default with the data that \n",
    "# lie within the selected patch of the sky but considering only \n",
    "# every given data based on \"jumps\" defined by me.\n",
    "\n",
    "# ---------------------------------------------------\n",
    "\n",
    "# Dir of simulated LSST star catalog\n",
    "DirLSSTStarCatalog = \"/Users/arturo/Documents/Research/LSST/Catalog/\"\n",
    "\n",
    "# Dir save output\n",
    "DirSaveOutput = \"/Users/arturo/Documents/Research/LSST/Catalog/Subsamples/\"\n",
    "\n",
    "# -------------------------------\n",
    "# Given that javascript doesn't work in JupyterLab, I have to set the \n",
    "# name of the notebook by hand\n",
    "NotebookName = 'Plot_LSST_catalog.ipynb'\n"
   ]
  },
  {
   "cell_type": "markdown",
   "metadata": {},
   "source": [
    "------"
   ]
  },
  {
   "cell_type": "markdown",
   "metadata": {},
   "source": [
    "### Automatic"
   ]
  },
  {
   "cell_type": "code",
   "execution_count": 2,
   "metadata": {},
   "outputs": [
    {
     "data": {
      "text/plain": [
       "9"
      ]
     },
     "execution_count": 2,
     "metadata": {},
     "output_type": "execute_result"
    }
   ],
   "source": [
    "import numpy as np\n",
    "# import pandas as pd\n",
    "import os # To use command line like instructions\n",
    "import glob # To read the files in my directory\n",
    "from matplotlib import pyplot as plt\n",
    "\n",
    "5+4"
   ]
  },
  {
   "cell_type": "markdown",
   "metadata": {},
   "source": [
    "#### Useful functions"
   ]
  },
  {
   "cell_type": "code",
   "execution_count": 3,
   "metadata": {},
   "outputs": [
    {
     "name": "stdout",
     "output_type": "stream",
     "text": [
      "True False False\n"
     ]
    }
   ],
   "source": [
    "# Function to identify if a string is an integer number or a letter.\n",
    "# This will be used in the dictionary construction to properly read some SN names.\n",
    "\n",
    "def is_number(s):\n",
    "    try:\n",
    "        int(s)\n",
    "        return True\n",
    "    except ValueError:\n",
    "        return False\n",
    "\n",
    "# Tests\n",
    "print is_number('5'), is_number('e'), is_number(' ')\n",
    "# True False"
   ]
  },
  {
   "cell_type": "code",
   "execution_count": 4,
   "metadata": {},
   "outputs": [
    {
     "name": "stdout",
     "output_type": "stream",
     "text": [
      "2018-07-11 13:24:08.380404\n"
     ]
    }
   ],
   "source": [
    "# Get the current date and time\n",
    "import datetime \n",
    "\n",
    "# Read the time and date now\n",
    "now = datetime.datetime.now()\n",
    "print now"
   ]
  },
  {
   "cell_type": "code",
   "execution_count": null,
   "metadata": {},
   "outputs": [],
   "source": []
  },
  {
   "cell_type": "markdown",
   "metadata": {},
   "source": [
    "### Create an array with the stars from a given region in sky"
   ]
  },
  {
   "cell_type": "code",
   "execution_count": 5,
   "metadata": {},
   "outputs": [
    {
     "name": "stdout",
     "output_type": "stream",
     "text": [
      "# Starting time of computing: 2018-07-11 (yyyy-mm-dd); 13:24 hrs.\n"
     ]
    }
   ],
   "source": [
    "# Initialize the timing of computation\n",
    "now_start = datetime.datetime.now()\n",
    "time_start = now_start.strftime(\"%Y-%m-%d (yyyy-mm-dd); %H:%M hrs.\")\n",
    "print \"# Starting time of computing: %s\"%time_start"
   ]
  },
  {
   "cell_type": "code",
   "execution_count": 6,
   "metadata": {},
   "outputs": [
    {
     "name": "stdout",
     "output_type": "stream",
     "text": [
      "# 16922944 stars within (0.0<ra<360.0, -90.0<dec<90.0).\n",
      "# 169229 stars in -subsample- every 100 jumps within (0.0<ra<360.0, -90.0<dec<90.0).\n",
      "#------------------------\n"
     ]
    }
   ],
   "source": [
    "# Initialize array with zeros\n",
    "\n",
    "# Create the sample text file if desired.\n",
    "if CreateSample: ra_dec_np = np.zeros([num_of_zeros,2])\n",
    "else: ra_dec_np = np.zeros([10,2])\n",
    "\n",
    "# Define the size of the numpy array for the subsample\n",
    "# create from considering every given data.\n",
    "num_of_zeros_sub = int(float(num_of_zeros)/float(JumpsSubsample)) + 1 \n",
    "# Initialize array with zeros:\n",
    "ra_dec_sub_np = np.zeros([num_of_zeros_sub,2])\n",
    "\n",
    "#------------------------\n",
    "# Open to read the main LSST star catalog\n",
    "LSST_catalog_data = open(DirLSSTStarCatalog+'lsst_star_table.txt', 'r')\n",
    "\n",
    "#------------------------\n",
    "# Reset counters\n",
    "count_LCs = 0\n",
    "count_LCs_sub = 0 # \n",
    "\n",
    "for line in LSST_catalog_data:\n",
    "    \n",
    "    # Reset variables\n",
    "    ra = 0.0; dec = 0.0\n",
    "    # uu=0.0; gg=0.0; rr=0.0; ii=0.0; zz=0.0; yy=0.0;\n",
    "    \n",
    "    # Define (ra, dec)\n",
    "    if is_number(line[9]):\n",
    "        ra = float(line[:10])\n",
    "        dec = float(line[11:20])\n",
    "    else: \n",
    "        ra = float(line[:9])\n",
    "        dec = float(line[10:19])\n",
    "        \n",
    "    if ra>ra_min and ra<ra_max and dec>dec_min and dec<dec_max:\n",
    "        if CreateSample:\n",
    "            ra_dec_np[count_LCs][0] = ra\n",
    "            ra_dec_np[count_LCs][1] = dec\n",
    "        \n",
    "        count_LCs += 1\n",
    "        \n",
    "        # Create a subarray by saving every given values.\n",
    "        # The jump between values is set with 'JumpsSubsample'.\n",
    "        if (float(count_LCs)/float(JumpsSubsample)).is_integer():\n",
    "            ra_dec_sub_np[count_LCs_sub][0] = ra\n",
    "            ra_dec_sub_np[count_LCs_sub][1] = dec\n",
    "            count_LCs_sub += 1\n",
    "    \n",
    "print \"# %s stars within (%s<ra<%s, %s<dec<%s).\"%(\n",
    "    count_LCs, ra_min, ra_max, dec_min, dec_max)\n",
    "print \"# %s stars in -subsample- every %s jumps within (%s<ra<%s, %s<dec<%s).\"%(\n",
    "    count_LCs_sub, JumpsSubsample, ra_min, ra_max, dec_min, dec_max)\n",
    "print \"#------------------------\""
   ]
  },
  {
   "cell_type": "code",
   "execution_count": 7,
   "metadata": {},
   "outputs": [],
   "source": [
    "# 16922944 stars within (0.0<ra<360.0,-90.0<dec<90.0).\n",
    "# 169229 stars subsample every 100 jumps within (0.0<ra<360.0,-90.0<dec<90.0).\n",
    "#------------------------\n",
    "# 13185 stars within (150.0 < ra < 180.0, 0.0 < dec < 25.0).\n",
    "# 131 stars subsample every 100 jumps within (150.0 < ra < 180.0, 0.0 < dec < 25.0).\n",
    "#------------------------\n",
    "# 5850381 stars within (250.0 < ra < 280.0, -40.0 < dec < -15.0).\n",
    "# 5850381 stars subsample every 1000 jumps within (250.0 < ra < 280.0, -40.0 < dec < -15.0)."
   ]
  },
  {
   "cell_type": "code",
   "execution_count": 8,
   "metadata": {},
   "outputs": [],
   "source": [
    "# Just in case: close the reading of the LSST catalog file.\n",
    "LSST_catalog_data.close();LSST_catalog_data.close();"
   ]
  },
  {
   "cell_type": "code",
   "execution_count": 9,
   "metadata": {},
   "outputs": [
    {
     "name": "stdout",
     "output_type": "stream",
     "text": [
      "#     Time Summary \n",
      "# Starting time of computing: 2018-07-11 (yyyy-mm-dd); 13:24 hrs.\n",
      "# Ending time of computing: 2018-07-11 (yyyy-mm-dd); 13:24 hrs.\n",
      "# Total time of computing:  0:00:40.902270\n",
      "# More than 16922944 iterations in the loop.\n",
      "#---------------------------\n"
     ]
    }
   ],
   "source": [
    "print \"#     Time Summary \"\n",
    "print \"# Starting time of computing: %s\"%time_start\n",
    "\n",
    "#----------------------\n",
    "\n",
    "now_end = datetime.datetime.now()\n",
    "time_end = now_end.strftime(\"%Y-%m-%d (yyyy-mm-dd); %H:%M hrs.\")\n",
    "print \"# Ending time of computing: %s\"%time_end\n",
    "\n",
    "#----------------------\n",
    "\n",
    "# Compute the time the MCMC computations took:\n",
    "time_compute = now_end - now_start\n",
    "print \"# Total time of computing:  %s\"%time_compute\n",
    "print \"# More than %s iterations in the loop.\"%count_LCs\n",
    "print \"#---------------------------\""
   ]
  },
  {
   "cell_type": "code",
   "execution_count": 10,
   "metadata": {},
   "outputs": [],
   "source": [
    "\n",
    "#     Time Summary \n",
    "# Starting time of computing: 2018-07-11 (yyyy-mm-dd); 13:00 hrs.\n",
    "# Ending time of computing: 2018-07-11 (yyyy-mm-dd); 13:01 hrs.\n",
    "# Total time of computing:  0:00:31.594235\n",
    "# More than 16922944 iterations in the loop.\n",
    "#---------------------------\n",
    "\n",
    "#     Time Summary \n",
    "# Starting time of computing: 2018-07-11 (yyyy-mm-dd); 09:48 hrs.\n",
    "# Ending time of computing: 2018-07-11 (yyyy-mm-dd); 09:48 hrs.\n",
    "# Total time of computing:  0:00:49.263136\n",
    "# More than 13185 iterations in the loop.\n",
    "\n",
    "#---------------------------\n",
    "#     Time Summary \n",
    "# Starting time of computing: 2018-07-10 (yyyy-mm-dd); 23:44 hrs.\n",
    "# Ending time of computing: 2018-07-10 (yyyy-mm-dd); 23:47 hrs.\n",
    "# Total time of computing:  0:02:15.062914\n",
    "# More than 16922944 iterations in the loop.\n",
    "#---------------------------"
   ]
  },
  {
   "cell_type": "markdown",
   "metadata": {},
   "source": [
    "Sanity check the number of data"
   ]
  },
  {
   "cell_type": "code",
   "execution_count": 11,
   "metadata": {},
   "outputs": [
    {
     "name": "stdout",
     "output_type": "stream",
     "text": [
      "# The first numbers below have to be equal to those reported above, \n",
      "# specially for subsample.\n",
      "# 169230 stars in -subsample- every 100 jumps within (0.0<ra<360.0, -90.0<dec<90.0).\n"
     ]
    }
   ],
   "source": [
    "print \"# The first numbers below have to be equal to those reported above, \\n\\\n",
    "# specially for subsample.\"\n",
    "if CreateSample:\n",
    "    print \"# %s stars within (%s<ra<%s, %s<dec<%s).\"%(\n",
    "        len(ra_dec_np), ra_min, ra_max, dec_min, dec_max)\n",
    "print \"# %s stars in -subsample- every %s jumps within (%s<ra<%s, %s<dec<%s).\"%(\n",
    "    len(ra_dec_sub_np), JumpsSubsample, ra_min, ra_max, dec_min, dec_max)"
   ]
  },
  {
   "cell_type": "code",
   "execution_count": 12,
   "metadata": {},
   "outputs": [],
   "source": [
    "# 169230 stars in subsample every 100 jumps within (0.0<ra<360.0, -90.0<dec<90.0).\n",
    "# 1693 stars subsample every 10000 jumps within (0.0 < ra < 360.0, -90.0 < dec < 90.0).\n",
    "# 5850381 stars within (250.0 < ra < 280.0, -40.0 < dec < -15.0)."
   ]
  },
  {
   "cell_type": "code",
   "execution_count": null,
   "metadata": {},
   "outputs": [],
   "source": []
  },
  {
   "cell_type": "markdown",
   "metadata": {},
   "source": [
    "### (Optional) Save arrays to a text file"
   ]
  },
  {
   "cell_type": "code",
   "execution_count": 18,
   "metadata": {},
   "outputs": [
    {
     "name": "stdout",
     "output_type": "stream",
     "text": [
      "# Saving the numpy array: ...\n",
      "# ... done.\n"
     ]
    }
   ],
   "source": [
    "print \"# Saving the numpy array: ...\"\n",
    "\n",
    "# np.savetxt(DirSaveOutput+\"LSST__ra_%.0f_%.0f_dec_%.0f_%.0f.dat\"%(\n",
    "#     ra_min, ra_max, dec_min, dec_max), ra_dec_np, fmt='%8.4f  %9.4f')\n",
    "np.savetxt(DirSaveOutput+\"LSST__ra_%.0f_%.0f_dec_%.0f_%.0f_Jump_%s.dat\"%(\n",
    "    ra_min, ra_max, dec_min, dec_max, JumpsSubsample), ra_dec_sub_np, fmt='%8.4f  %9.4f')\n",
    "\n",
    "print \"# ... done.\""
   ]
  },
  {
   "cell_type": "code",
   "execution_count": null,
   "metadata": {},
   "outputs": [],
   "source": []
  },
  {
   "cell_type": "markdown",
   "metadata": {},
   "source": [
    "### Plot"
   ]
  },
  {
   "cell_type": "code",
   "execution_count": 13,
   "metadata": {},
   "outputs": [
    {
     "name": "stdout",
     "output_type": "stream",
     "text": [
      "# Starting time of computing: 2018-07-11 (yyyy-mm-dd); 13:24 hrs.\n"
     ]
    }
   ],
   "source": [
    "# Initialize the timing of computation\n",
    "now_start = datetime.datetime.now()\n",
    "time_start = now_start.strftime(\"%Y-%m-%d (yyyy-mm-dd); %H:%M hrs.\")\n",
    "print \"# Starting time of computing: %s\"%time_start"
   ]
  },
  {
   "cell_type": "code",
   "execution_count": 14,
   "metadata": {},
   "outputs": [],
   "source": [
    "fig = plt.figure() \n",
    "\n",
    "plt.plot(ra_dec_sub_np[:-10,0], ra_dec_sub_np[:-10,1], \n",
    "        'black', marker='.', ms=1, ls='None', alpha=0.3)\n",
    "\n",
    "plt.xlabel(\"RA\")\n",
    "plt.ylabel(\"DEC\")\n",
    "plt.title(\"LSST star catalog (%s)\"%len(ra_dec_sub_np))\n",
    "\n",
    "plt.savefig(DirSaveOutput+'LSST__ra_%.0f_%.0f_dec_%.0f_%.0f_Jump_%s_Plot.png'%(\n",
    "    ra_min, ra_max, dec_min, dec_max, JumpsSubsample), dpi=100)\n",
    "plt.close()\n"
   ]
  },
  {
   "cell_type": "code",
   "execution_count": 15,
   "metadata": {},
   "outputs": [],
   "source": [
    "plt.close();plt.close();plt.close();"
   ]
  },
  {
   "cell_type": "code",
   "execution_count": 16,
   "metadata": {},
   "outputs": [
    {
     "name": "stdout",
     "output_type": "stream",
     "text": [
      "#     Time Summary \n",
      "# Starting time of computing: 2018-07-11 (yyyy-mm-dd); 13:24 hrs.\n",
      "# Ending time of computing: 2018-07-11 (yyyy-mm-dd); 13:24 hrs.\n",
      "# Total time of computing:  0:00:00.339382\n",
      "# 169230 data points plotted.\n",
      "#---------------------------\n"
     ]
    }
   ],
   "source": [
    "print \"#     Time Summary \"\n",
    "print \"# Starting time of computing: %s\"%time_start\n",
    "\n",
    "#----------------------\n",
    "\n",
    "now_end = datetime.datetime.now()\n",
    "time_end = now_end.strftime(\"%Y-%m-%d (yyyy-mm-dd); %H:%M hrs.\")\n",
    "print \"# Ending time of computing: %s\"%time_end\n",
    "\n",
    "#----------------------\n",
    "\n",
    "# Compute the time the MCMC computations took:\n",
    "time_compute_mcmc = now_end - now_start\n",
    "print \"# Total time of computing:  %s\"%time_compute_mcmc\n",
    "print \"# %s data points plotted.\"%len(ra_dec_sub_np)\n",
    "print \"#---------------------------\""
   ]
  },
  {
   "cell_type": "code",
   "execution_count": 17,
   "metadata": {},
   "outputs": [],
   "source": [
    "\n",
    "#     Time Summary \n",
    "# Starting time of computing: 2018-07-11 (yyyy-mm-dd); 13:07 hrs.\n",
    "# Ending time of computing: 2018-07-11 (yyyy-mm-dd); 13:07 hrs.\n",
    "# Total time of computing:  0:00:00.639217\n",
    "# 169230 data points plotted.\n",
    "#---------------------------\n",
    "\n",
    "#     Time Summary \n",
    "# Starting time of computing: 2018-07-10 (yyyy-mm-dd); 23:24 hrs.\n",
    "# Ending time of computing: 2018-07-10 (yyyy-mm-dd); 23:24 hrs.\n",
    "# Total time of computing:  0:00:41.177190\n",
    "#---------------------------"
   ]
  },
  {
   "cell_type": "code",
   "execution_count": null,
   "metadata": {},
   "outputs": [],
   "source": []
  },
  {
   "cell_type": "code",
   "execution_count": null,
   "metadata": {},
   "outputs": [],
   "source": []
  },
  {
   "cell_type": "code",
   "execution_count": null,
   "metadata": {},
   "outputs": [],
   "source": []
  }
 ],
 "metadata": {
  "kernelspec": {
   "display_name": "Python [default]",
   "language": "python",
   "name": "python2"
  },
  "language_info": {
   "codemirror_mode": {
    "name": "ipython",
    "version": 2
   },
   "file_extension": ".py",
   "mimetype": "text/x-python",
   "name": "python",
   "nbconvert_exporter": "python",
   "pygments_lexer": "ipython2",
   "version": "2.7.13"
  }
 },
 "nbformat": 4,
 "nbformat_minor": 2
}
